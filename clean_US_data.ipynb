{
 "cells": [
  {
   "cell_type": "code",
   "execution_count": 1,
   "id": "flush-warehouse",
   "metadata": {},
   "outputs": [],
   "source": [
    "import json\n",
    "f = open(\"../data/US_category_id.json\",)\n",
    "\n",
    "data = json.load(f)\n",
    "\n",
    "categoryMap = {}\n",
    "for i in data[\"items\"]:\n",
    "    categoryMap[i[\"id\"]]  = i[\"snippet\"][\"title\"]"
   ]
  },
  {
   "cell_type": "code",
   "execution_count": 2,
   "id": "figured-africa",
   "metadata": {},
   "outputs": [],
   "source": [
    "import numpy as np\n",
    "import pandas as pd\n",
    "\n",
    "df = pd.read_csv(\"../data/USvideos.csv\")\n",
    "#df.info()"
   ]
  },
  {
   "cell_type": "code",
   "execution_count": 3,
   "id": "compact-shelf",
   "metadata": {},
   "outputs": [],
   "source": [
    "#df.head()"
   ]
  },
  {
   "cell_type": "code",
   "execution_count": 4,
   "id": "exterior-venezuela",
   "metadata": {},
   "outputs": [
    {
     "data": {
      "text/plain": [
       "Index(['video_id', 'trending_date', 'title', 'channel_title', 'category_id',\n",
       "       'publish_time', 'tags', 'views', 'likes', 'dislikes', 'comment_count',\n",
       "       'thumbnail_link', 'comments_disabled', 'ratings_disabled',\n",
       "       'video_error_or_removed', 'description'],\n",
       "      dtype='object')"
      ]
     },
     "execution_count": 4,
     "metadata": {},
     "output_type": "execute_result"
    }
   ],
   "source": [
    "df.columns"
   ]
  },
  {
   "cell_type": "code",
   "execution_count": 5,
   "id": "developmental-williams",
   "metadata": {},
   "outputs": [],
   "source": [
    "df.drop(df.columns[[0,1,5,7,8,9,10,11,12,13,14]], axis = 1, inplace = True)"
   ]
  },
  {
   "cell_type": "code",
   "execution_count": 6,
   "id": "independent-truth",
   "metadata": {},
   "outputs": [],
   "source": [
    "#df.info()"
   ]
  },
  {
   "cell_type": "code",
   "execution_count": 7,
   "id": "limiting-polls",
   "metadata": {},
   "outputs": [],
   "source": [
    "#remove rows with no values\n",
    "rows_with_nan = [index for index, row in df.iterrows() if row.isnull().any()]"
   ]
  },
  {
   "cell_type": "code",
   "execution_count": 8,
   "id": "proprietary-print",
   "metadata": {},
   "outputs": [],
   "source": [
    "#print(\"Rows with NaN: \", len(rows_with_nan))\n",
    "df.drop(rows_with_nan, inplace = True)"
   ]
  },
  {
   "cell_type": "code",
   "execution_count": 9,
   "id": "configured-madrid",
   "metadata": {},
   "outputs": [],
   "source": [
    "#df.info()\n",
    "df.drop_duplicates(subset=[\"title\",\"channel_title\",\"tags\",\"description\"], inplace=True)\n",
    "#df.info()"
   ]
  },
  {
   "cell_type": "code",
   "execution_count": 10,
   "id": "consistent-release",
   "metadata": {},
   "outputs": [],
   "source": [
    "#borrow kduong for cleaning dataset\n",
    "import re\n",
    "\n",
    "def preProcess(data, length):\n",
    "    data =  re.sub('[^a-zA-Z0-9 \\n\\...]', ' ', str(data))\n",
    "    string_encode = str(data).encode(\"ascii\", \"ignore\")\n",
    "    string_decode = string_encode.decode()\n",
    "    data = string_decode\n",
    "    dataArr = str(data).strip().split(\" \")\n",
    "    for i in  reversed(range(len(dataArr))):\n",
    "        dataArr[i] = str(dataArr[i]).lower()\n",
    "        if len(dataArr[i]) == 0:\n",
    "            del dataArr[i]\n",
    "        elif len(dataArr[i]) < length:\n",
    "            del dataArr[i]\n",
    "    dataArr = \";\".join(dataArr)\n",
    "    return dataArr"
   ]
  },
  {
   "cell_type": "code",
   "execution_count": 11,
   "id": "breathing-enterprise",
   "metadata": {},
   "outputs": [],
   "source": [
    "videoData = []\n",
    "for i in range(df.count()[0]):\n",
    "    current_vid = df.iloc[i]\n",
    "    row = []\n",
    "    channel_title = preProcess(current_vid[\"channel_title\"], 0)\n",
    "    title = preProcess(current_vid[\"title\"], 4)\n",
    "    tags = preProcess(current_vid[\"tags\"], 4)\n",
    "    description = preProcess(current_vid[\"description\"], 4)\n",
    "    category = categoryMap[str(current_vid[\"category_id\"])]\n",
    "    \n",
    "    row.append(channel_title)\n",
    "    row.append(title)\n",
    "    row.append(tags)\n",
    "    row.append(description)\n",
    "    row.append(category)\n",
    "    videoData.append(row)"
   ]
  },
  {
   "cell_type": "code",
   "execution_count": 12,
   "id": "asian-oregon",
   "metadata": {},
   "outputs": [],
   "source": [
    "import csv  \n",
    "\n",
    "header = ['Video Title', 'Channel Title', 'Tags', 'Description', 'Category']\n",
    "\n",
    "with open('video_data.csv', 'w', encoding='UTF8', newline='') as f:\n",
    "    writer = csv.writer(f)\n",
    "\n",
    "    # write the header\n",
    "    writer.writerow(header)\n",
    "    writer.writerows(videoData)"
   ]
  },
  {
   "cell_type": "code",
   "execution_count": 13,
   "id": "surrounded-crystal",
   "metadata": {},
   "outputs": [],
   "source": [
    "from sklearn.feature_extraction.text import CountVectorizer\n",
    "from sklearn.model_selection import train_test_split\n",
    "from sklearn.linear_model import RidgeClassifier\n",
    "\n",
    "file = 'video_data.csv'\n",
    "data = pd.read_csv(file)"
   ]
  },
  {
   "cell_type": "code",
   "execution_count": 14,
   "id": "explicit-chance",
   "metadata": {},
   "outputs": [],
   "source": [
    "data[\"All\"] = data[\"Tags\"] + \";\" + data[\"Video Title\"] + \";\" +  data[\"Description\"] + \";\" +  data[\"Channel Title\"]\n",
    "vectorizer = CountVectorizer(stop_words= \"english\")\n",
    "all_features = vectorizer.fit_transform(data['All'].fillna(' '))"
   ]
  },
  {
   "cell_type": "code",
   "execution_count": 15,
   "id": "collectible-jumping",
   "metadata": {},
   "outputs": [],
   "source": [
    "x_train, x_test, y_train, y_test = train_test_split(all_features, data[\"Category\"], test_size = 0.2, random_state=7)"
   ]
  },
  {
   "cell_type": "code",
   "execution_count": 16,
   "id": "official-think",
   "metadata": {},
   "outputs": [
    {
     "data": {
      "text/plain": [
       "0.813500347947112"
      ]
     },
     "execution_count": 16,
     "metadata": {},
     "output_type": "execute_result"
    }
   ],
   "source": [
    "clf = RidgeClassifier()\n",
    "clf.fit(x_train, y_train)\n",
    "clf.score(x_test, y_test)"
   ]
  },
  {
   "cell_type": "code",
   "execution_count": 17,
   "id": "communist-british",
   "metadata": {},
   "outputs": [],
   "source": [
    "#borrow kduong for category prediction\n",
    "def checkCategory(example):\n",
    "    emptyArr = []\n",
    "    emptyArr.append(example)\n",
    "    doc_term_matrix = vectorizer.transform(emptyArr)\n",
    "    clf.predict(doc_term_matrix)\n",
    "    class_prob_list = clf.decision_function(doc_term_matrix)[0]\n",
    "    map = {}\n",
    "    for i in range(len(class_prob_list)):\n",
    "        map[str(clf.classes_[i])] = class_prob_list[i]\n",
    "    sort_classes = sorted(map.items(), key=lambda x: x[1], reverse=True)\n",
    "    \n",
    "    print(example + \" is most likely category: \" + str(sort_classes[0]))\n",
    "    print(\" \")\n",
    "    print(\"Probabilities\")\n",
    "    for i in sort_classes:\n",
    "        print(i[0], i[1])"
   ]
  },
  {
   "cell_type": "code",
   "execution_count": 18,
   "id": "terminal-branch",
   "metadata": {},
   "outputs": [
    {
     "name": "stdout",
     "output_type": "stream",
     "text": [
      "Lebron James is most likely category: ('People & Blogs', -0.6764663906199333)\n",
      " \n",
      "Probabilities\n",
      "People & Blogs -0.6764663906199333\n",
      "Comedy -0.7038144439106047\n",
      "Entertainment -0.7549345045905058\n",
      "Music -0.7660967302827812\n",
      "News & Politics -0.8140101797525523\n",
      "Film & Animation -0.8201220906879938\n",
      "Science & Technology -0.8576223491286075\n",
      "Howto & Style -0.8629135454433114\n",
      "Sports -0.9205925285442761\n",
      "Pets & Animals -0.9397747250689081\n",
      "Nonprofits & Activism -0.9591450213072201\n",
      "Education -0.9749585454076392\n",
      "Autos & Vehicles -0.9799701975629499\n",
      "Gaming -0.9849542224688872\n",
      "Travel & Events -0.9861592287242417\n",
      "Shows -0.9983801355891334\n"
     ]
    }
   ],
   "source": [
    "checkCategory(\"Lebron James\")"
   ]
  },
  {
   "cell_type": "code",
   "execution_count": null,
   "id": "regulated-principle",
   "metadata": {},
   "outputs": [],
   "source": []
  }
 ],
 "metadata": {
  "kernelspec": {
   "display_name": "Python 3",
   "language": "python",
   "name": "python3"
  },
  "language_info": {
   "codemirror_mode": {
    "name": "ipython",
    "version": 3
   },
   "file_extension": ".py",
   "mimetype": "text/x-python",
   "name": "python",
   "nbconvert_exporter": "python",
   "pygments_lexer": "ipython3",
   "version": "3.9.1"
  }
 },
 "nbformat": 4,
 "nbformat_minor": 5
}
