{
 "cells": [
  {
   "cell_type": "code",
   "execution_count": 1,
   "metadata": {},
   "outputs": [],
   "source": [
    "import pandas as pd\n",
    "import numpy as np\n",
    "import nltk\n",
    "import string\n",
    "import progressbar\n",
    "import pickle\n",
    "import json\n",
    "import re\n",
    "from sklearn.feature_extraction.text import TfidfVectorizer\n",
    "from sklearn.feature_extraction.text import CountVectorizer\n",
    "from sklearn.model_selection import GridSearchCV\n",
    "\n",
    "\n",
    "from sklearn.model_selection import train_test_split\n",
    "from sklearn.naive_bayes import MultinomialNB\n",
    "from sklearn import linear_model\n",
    "from sklearn.ensemble import AdaBoostClassifier\n",
    "from sklearn.svm import LinearSVC\n",
    "\n",
    "from sklearn import metrics\n",
    "from sklearn.metrics import f1_score\n",
    "import matplotlib.pyplot as plt\n",
    "import seaborn as sns\n",
    "from sklearn.metrics import confusion_matrix\n",
    "import scikitplot as skplt\n",
    "\n",
    "pd.set_option(\"display.max_rows\", None)\n",
    "np.set_printoptions(threshold=np.inf)"
   ]
  },
  {
   "cell_type": "code",
   "execution_count": null,
   "metadata": {},
   "outputs": [],
   "source": [
    "# load the original dataset\n",
    "df = pd.read_csv('data/USvideos.csv')"
   ]
  },
  {
   "cell_type": "code",
   "execution_count": null,
   "metadata": {},
   "outputs": [],
   "source": [
    "# drop rows with missing values\n",
    "df.dropna(inplace=True)"
   ]
  },
  {
   "cell_type": "code",
   "execution_count": null,
   "metadata": {},
   "outputs": [],
   "source": [
    "# drop all unnecessary columns\n",
    "df.drop(df.columns[[0,1,5,7,8,9,10,11,12,13,14]], axis=1, inplace=True)"
   ]
  },
  {
   "cell_type": "code",
   "execution_count": null,
   "metadata": {},
   "outputs": [],
   "source": [
    "df.drop_duplicates(subset=[\"title\",\"channel_title\",\"tags\",\"description\"], inplace=True)\n",
    "df.info()"
   ]
  },
  {
   "cell_type": "code",
   "execution_count": null,
   "metadata": {},
   "outputs": [],
   "source": [
    "def clean(df, column):\n",
    "    '''\n",
    "        Cleans the strings in specified column\n",
    "    '''\n",
    "    list = []\n",
    "    print(column)\n",
    "    table = str.maketrans('', '', string.punctuation)\n",
    "    stop_words = nltk.corpus.stopwords.words('english')\n",
    "    porter = nltk.stem.porter.PorterStemmer()\n",
    "    for row in progressbar.progressbar(df[column]):\n",
    "        index = df[column][df[column] == row].index.tolist()[0]\n",
    "        line = re.sub(r'\\w+:\\/{2}[\\d\\w-]+(\\.[\\d\\w-]+)*(?:(?:\\/[^\\s/]*))*', '', row)\n",
    "        tokens = nltk.word_tokenize(line)\n",
    "        tokens = [word.lower() for word in tokens]\n",
    "        stripped = [w.translate(table) for w in tokens]\n",
    "        words = [word for word in stripped if word.isalpha()]\n",
    "        words = [w for w in words if not w in stop_words]\n",
    "        stemmed = [porter.stem(word) for word in words]\n",
    "        stemmed = [word.strip() for word in stemmed if len(word) > 3]\n",
    "        df[column][index] = ' '.join(stemmed)"
   ]
  },
  {
   "cell_type": "code",
   "execution_count": null,
   "metadata": {},
   "outputs": [],
   "source": [
    "%%time\n",
    "title = clean(df, \"title\")\n",
    "channel_title = clean(df, \"channel_title\")\n",
    "tags = clean(df, \"tags\")\n",
    "description = clean(df, \"description\")"
   ]
  },
  {
   "cell_type": "code",
   "execution_count": null,
   "metadata": {},
   "outputs": [],
   "source": [
    "# drop all the empty strings\n",
    "df.replace('', float(\"NaN\"), inplace=True)\n",
    "df.dropna(inplace=True)"
   ]
  },
  {
   "cell_type": "code",
   "execution_count": null,
   "metadata": {},
   "outputs": [],
   "source": [
    "# drop all the nones\n",
    "df.replace('none', float(\"NaN\"), inplace=True)\n",
    "df.dropna(inplace=True)\n",
    "df = df[['title', 'channel_title', 'tags', 'description', 'category_id']]\n",
    "df.info()"
   ]
  },
  {
   "cell_type": "code",
   "execution_count": null,
   "metadata": {},
   "outputs": [],
   "source": [
    "df.drop(df.columns[[1]], axis=1, inplace=True)\n",
    "print(df.info())\n",
    "df"
   ]
  },
  {
   "cell_type": "markdown",
   "metadata": {},
   "source": [
    "## Save Dataframe"
   ]
  },
  {
   "cell_type": "code",
   "execution_count": null,
   "metadata": {},
   "outputs": [],
   "source": [
    "df.to_csv('data/clean.csv', columns=['title','channel_title','category_id','tags','description'], index=False)"
   ]
  },
  {
   "cell_type": "code",
   "execution_count": null,
   "metadata": {},
   "outputs": [],
   "source": [
    "%%time\n",
    "# save df object\n",
    "with open('data/df.pkl', 'wb') as f:\n",
    "    pickle.dump(df, f)"
   ]
  },
  {
   "cell_type": "markdown",
   "metadata": {},
   "source": [
    "## Load Dataframe"
   ]
  },
  {
   "cell_type": "code",
   "execution_count": 2,
   "metadata": {},
   "outputs": [
    {
     "name": "stdout",
     "output_type": "stream",
     "text": [
      "Wall time: 6.98 ms\n"
     ]
    }
   ],
   "source": [
    "%%time\n",
    "# save df object\n",
    "with open('data/df.pkl', 'rb') as f:\n",
    "    df = pickle.load(f)"
   ]
  },
  {
   "cell_type": "markdown",
   "metadata": {},
   "source": [
    "## TFIDF Vectorization"
   ]
  },
  {
   "cell_type": "code",
   "execution_count": 3,
   "metadata": {},
   "outputs": [
    {
     "name": "stdout",
     "output_type": "stream",
     "text": [
      "Title Features Shape: (6263, 1860)\n",
      "Tags Features Shape: (6263, 8074)\n",
      "Description Features Shape: (6263, 17458)\n",
      "Wall time: 1.89 s\n"
     ]
    }
   ],
   "source": [
    "%%time\n",
    "tfidf_title = TfidfVectorizer(sublinear_tf=True, min_df=5, norm='l2', encoding='latin-1', ngram_range=(1, 2), stop_words='english')\n",
    "tfidf_tags = TfidfVectorizer(sublinear_tf=True, min_df=5, norm='l2', encoding='latin-1', ngram_range=(1, 2), stop_words='english')\n",
    "tfidf_description = TfidfVectorizer(sublinear_tf=True, min_df=5, norm='l2', encoding='latin-1', ngram_range=(1, 2), stop_words='english')\n",
    "\n",
    "features_title = tfidf_title.fit_transform(df.title).toarray()\n",
    "features_tags = tfidf_tags.fit_transform(df.tags).toarray()\n",
    "features_description = tfidf_description.fit_transform(df.description).toarray()\n",
    "labels = df.category_id\n",
    "print('Title Features Shape: ' + str(features_title.shape))\n",
    "print('Tags Features Shape: ' + str(features_tags.shape))\n",
    "print('Description Features Shape: ' + str(features_description.shape))"
   ]
  },
  {
   "cell_type": "markdown",
   "metadata": {},
   "source": [
    "# Train Test Split"
   ]
  },
  {
   "cell_type": "code",
   "execution_count": 4,
   "metadata": {},
   "outputs": [
    {
     "name": "stdout",
     "output_type": "stream",
     "text": [
      "Wall time: 1.82 s\n"
     ]
    }
   ],
   "source": [
    "%%time\n",
    "# X_train, X_test, y_train, y_test = train_test_split(df.iloc[:, 0:3], df.category_id, random_state=123)\n",
    "X_train, X_test, y_train, y_test = train_test_split(df.iloc[:, 0:4], df.category_id, random_state=123)\n",
    "X_train_title_features = tfidf_title.transform(X_train.title).toarray()\n",
    "X_train_tags_features = tfidf_tags.transform(X_train.tags).toarray()\n",
    "X_train_description_features = tfidf_description.transform(X_train.description).toarray()\n",
    "\n",
    "X_test_title_features = tfidf_title.transform(X_test.title).toarray()\n",
    "X_test_tags_features = tfidf_tags.transform(X_test.tags).toarray()\n",
    "X_test_description_features = tfidf_description.transform(X_test.description).toarray()\n",
    "\n",
    "features = np.concatenate([X_train_title_features, X_train_tags_features, X_train_description_features], axis=1)\n",
    "test_features = np.concatenate([X_test_title_features, X_test_tags_features, X_test_description_features], axis=1)"
   ]
  },
  {
   "cell_type": "code",
   "execution_count": 5,
   "metadata": {},
   "outputs": [
    {
     "data": {
      "text/plain": [
       "(4697, 27392)"
      ]
     },
     "execution_count": 5,
     "metadata": {},
     "output_type": "execute_result"
    }
   ],
   "source": [
    "features.shape"
   ]
  },
  {
   "cell_type": "code",
   "execution_count": 6,
   "metadata": {},
   "outputs": [
    {
     "data": {
      "text/plain": [
       "(1566, 27392)"
      ]
     },
     "execution_count": 6,
     "metadata": {},
     "output_type": "execute_result"
    }
   ],
   "source": [
    "test_features.shape"
   ]
  },
  {
   "cell_type": "markdown",
   "metadata": {},
   "source": [
    "# Linear SVC"
   ]
  },
  {
   "cell_type": "code",
   "execution_count": 5,
   "metadata": {},
   "outputs": [],
   "source": [
    "svm = LinearSVC(random_state=123)"
   ]
  },
  {
   "cell_type": "code",
   "execution_count": 9,
   "metadata": {},
   "outputs": [
    {
     "name": "stdout",
     "output_type": "stream",
     "text": [
      "Wall time: 1.45 s\n"
     ]
    },
    {
     "data": {
      "text/plain": [
       "LinearSVC(random_state=123)"
      ]
     },
     "execution_count": 9,
     "metadata": {},
     "output_type": "execute_result"
    }
   ],
   "source": [
    "%%time\n",
    "svm.fit(features, X_train.category_id)"
   ]
  },
  {
   "cell_type": "code",
   "execution_count": 10,
   "metadata": {},
   "outputs": [
    {
     "name": "stdout",
     "output_type": "stream",
     "text": [
      "Wall time: 168 ms\n"
     ]
    },
    {
     "data": {
      "text/plain": [
       "0.8352490421455939"
      ]
     },
     "execution_count": 10,
     "metadata": {},
     "output_type": "execute_result"
    }
   ],
   "source": [
    "%%time\n",
    "svm.score(test_features, X_test.category_id)"
   ]
  },
  {
   "cell_type": "code",
   "execution_count": 13,
   "metadata": {},
   "outputs": [
    {
     "name": "stdout",
     "output_type": "stream",
     "text": [
      "Wall time: 135 ms\n"
     ]
    },
    {
     "data": {
      "text/plain": [
       "0.7424935741879264"
      ]
     },
     "execution_count": 13,
     "metadata": {},
     "output_type": "execute_result"
    }
   ],
   "source": [
    "%%time\n",
    "predictions = svm.predict(test_features)\n",
    "f1_score(X_test.category_id, predictions, average='macro')"
   ]
  },
  {
   "cell_type": "code",
   "execution_count": 6,
   "metadata": {},
   "outputs": [],
   "source": [
    "parameters = {\n",
    "    'loss': ('hinge', 'squared_hinge'),\n",
    "    'C':[1,5,10,15,20],\n",
    "    'fit_intercept': (True, False),\n",
    "    'tol':[1e-4, 1e-6, 1e-8],\n",
    "}\n",
    "clf = GridSearchCV(svm, parameters, n_jobs=-1, cv=4)"
   ]
  },
  {
   "cell_type": "code",
   "execution_count": 7,
   "metadata": {},
   "outputs": [
    {
     "name": "stdout",
     "output_type": "stream",
     "text": [
      "Wall time: 4min 42s\n"
     ]
    },
    {
     "data": {
      "text/plain": [
       "GridSearchCV(cv=4, estimator=LinearSVC(random_state=123), n_jobs=-1,\n",
       "             param_grid={'C': [1, 5, 10, 15, 20],\n",
       "                         'fit_intercept': (True, False),\n",
       "                         'loss': ('hinge', 'squared_hinge'),\n",
       "                         'tol': [0.0001, 1e-06, 1e-08]})"
      ]
     },
     "execution_count": 7,
     "metadata": {},
     "output_type": "execute_result"
    }
   ],
   "source": [
    "%%time\n",
    "clf.fit(features, X_train.category_id)"
   ]
  },
  {
   "cell_type": "code",
   "execution_count": 19,
   "metadata": {},
   "outputs": [
    {
     "data": {
      "text/plain": [
       "['mean_fit_time',\n",
       " 'mean_score_time',\n",
       " 'mean_test_score',\n",
       " 'param_C',\n",
       " 'param_fit_intercept',\n",
       " 'param_loss',\n",
       " 'params',\n",
       " 'rank_test_score',\n",
       " 'split0_test_score',\n",
       " 'split1_test_score',\n",
       " 'split2_test_score',\n",
       " 'split3_test_score',\n",
       " 'split4_test_score',\n",
       " 'std_fit_time',\n",
       " 'std_score_time',\n",
       " 'std_test_score']"
      ]
     },
     "execution_count": 19,
     "metadata": {},
     "output_type": "execute_result"
    }
   ],
   "source": [
    "sorted(clf.cv_results_.keys())"
   ]
  },
  {
   "cell_type": "code",
   "execution_count": 8,
   "metadata": {},
   "outputs": [
    {
     "name": "stdout",
     "output_type": "stream",
     "text": [
      "0.8273344448874551\n",
      "{'C': 1, 'fit_intercept': False, 'loss': 'squared_hinge', 'tol': 0.0001}\n"
     ]
    }
   ],
   "source": [
    "print(clf.best_score_)\n",
    "print(clf.best_params_)"
   ]
  },
  {
   "cell_type": "code",
   "execution_count": 9,
   "metadata": {},
   "outputs": [
    {
     "name": "stdout",
     "output_type": "stream",
     "text": [
      "Wall time: 99.2 ms\n"
     ]
    },
    {
     "data": {
      "text/plain": [
       "0.8017550411667584"
      ]
     },
     "execution_count": 9,
     "metadata": {},
     "output_type": "execute_result"
    }
   ],
   "source": [
    "%%time\n",
    "predictions = clf.best_estimator_.predict(test_features)\n",
    "f1_score(X_test.category_id, predictions, average='macro')"
   ]
  },
  {
   "cell_type": "code",
   "execution_count": 10,
   "metadata": {},
   "outputs": [
    {
     "data": {
      "text/plain": [
       "{'scoring': None,\n",
       " 'estimator': LinearSVC(random_state=123),\n",
       " 'n_jobs': -1,\n",
       " 'iid': 'deprecated',\n",
       " 'refit': True,\n",
       " 'cv': 4,\n",
       " 'verbose': 0,\n",
       " 'pre_dispatch': '2*n_jobs',\n",
       " 'error_score': nan,\n",
       " 'return_train_score': False,\n",
       " 'param_grid': {'loss': ('hinge', 'squared_hinge'),\n",
       "  'C': [1, 5, 10, 15, 20],\n",
       "  'fit_intercept': (True, False),\n",
       "  'tol': [0.0001, 1e-06, 1e-08]},\n",
       " 'multimetric_': False,\n",
       " 'best_index_': 9,\n",
       " 'best_score_': 0.8273344448874551,\n",
       " 'best_params_': {'C': 1,\n",
       "  'fit_intercept': False,\n",
       "  'loss': 'squared_hinge',\n",
       "  'tol': 0.0001},\n",
       " 'best_estimator_': LinearSVC(C=1, fit_intercept=False, random_state=123),\n",
       " 'refit_time_': 1.1345369815826416,\n",
       " 'scorer_': <function sklearn.metrics._scorer._passthrough_scorer(estimator, *args, **kwargs)>,\n",
       " 'cv_results_': {'mean_fit_time': array([ 9.16878194,  9.87211186,  9.05220842,  2.6953004 ,  3.04841167,\n",
       "          3.10390186, 10.22409517, 11.52250379, 11.993545  ,  2.67486781,\n",
       "          2.93687904,  3.48189014,  7.82627183,  9.18281406,  8.98094308,\n",
       "          3.97408926,  5.23610771,  6.83237147, 10.65093887, 12.15725631,\n",
       "         13.5335235 ,  4.65053588,  5.90192044,  7.17433369,  9.01072085,\n",
       "         10.31462169, 10.35459   ,  5.83227831,  8.47753465, 10.92967582,\n",
       "          9.51778847, 11.92137498, 12.52952981,  5.32240182,  7.90716588,\n",
       "         10.60725945,  8.39444178,  9.2027061 ,  9.70828676,  6.63701844,\n",
       "         10.25219703, 11.18807292, 10.39401674, 12.49253893, 11.85453683,\n",
       "          6.44762933,  9.97008443, 12.70144522,  8.49644864,  9.03792268,\n",
       "          9.52484918,  7.35587811, 10.20968348, 10.35375607,  9.39858443,\n",
       "         11.61241257, 12.25163907,  7.68401414, 12.10619372, 13.49203467]),\n",
       "  'std_fit_time': array([0.12211192, 0.45141084, 0.23054574, 0.13997145, 0.22506566,\n",
       "         0.30436407, 0.63081966, 0.70693003, 0.62703652, 0.174093  ,\n",
       "         0.09786788, 0.20658367, 0.65598902, 0.35130348, 0.26168568,\n",
       "         0.21534794, 0.55889217, 0.47657782, 0.95504448, 1.116616  ,\n",
       "         1.25679129, 0.21576254, 0.83169031, 0.19582268, 0.22929612,\n",
       "         0.47480207, 0.36382011, 0.34158447, 0.58007097, 0.35945864,\n",
       "         0.43387949, 0.68607856, 0.38255573, 0.12242035, 0.5415503 ,\n",
       "         0.93021335, 0.53549763, 0.6530787 , 0.84190846, 0.32003701,\n",
       "         0.73021962, 0.24204952, 0.32381547, 0.20062867, 0.8077662 ,\n",
       "         0.22882097, 0.6871291 , 0.43173877, 0.34204924, 0.34954294,\n",
       "         0.32136685, 0.25645085, 0.56424807, 0.23282477, 0.69574827,\n",
       "         0.54177337, 0.50263722, 0.34566985, 0.51037092, 0.16243779]),\n",
       "  'mean_score_time': array([0.22060412, 0.2051363 , 0.16430146, 0.13236362, 0.16553026,\n",
       "         0.14605778, 0.17172313, 0.15854603, 0.1714409 , 0.1408844 ,\n",
       "         0.14088959, 0.14863014, 0.16085213, 0.20418739, 0.15229636,\n",
       "         0.16333729, 0.14849776, 0.14585292, 0.20087725, 0.16479367,\n",
       "         0.18361133, 0.18669653, 0.14975309, 0.16716874, 0.19808286,\n",
       "         0.15751785, 0.2026028 , 0.17782199, 0.15373755, 0.16370082,\n",
       "         0.16953892, 0.18077481, 0.18996602, 0.12670583, 0.15939105,\n",
       "         0.13589424, 0.15811533, 0.16419911, 0.19248456, 0.16141492,\n",
       "         0.16956192, 0.17794144, 0.16558242, 0.15527046, 0.14616346,\n",
       "         0.16061801, 0.16943586, 0.16364235, 0.15407312, 0.16344404,\n",
       "         0.18131787, 0.13582247, 0.15842915, 0.17292535, 0.19911689,\n",
       "         0.15671909, 0.15684211, 0.14261866, 0.1631428 , 0.10155767]),\n",
       "  'std_score_time': array([0.04041962, 0.0139931 , 0.0142425 , 0.01756205, 0.0290506 ,\n",
       "         0.04242685, 0.02688785, 0.00539096, 0.01260493, 0.01687074,\n",
       "         0.01993907, 0.02576096, 0.01090576, 0.0431025 , 0.01591896,\n",
       "         0.02635385, 0.02128655, 0.01824706, 0.02151107, 0.02420156,\n",
       "         0.00863001, 0.03133266, 0.01253397, 0.04812369, 0.01249248,\n",
       "         0.00576199, 0.02431871, 0.03692155, 0.01571804, 0.0183161 ,\n",
       "         0.0085873 , 0.02880123, 0.02255693, 0.0139515 , 0.01831634,\n",
       "         0.00722326, 0.02394372, 0.03712364, 0.02485314, 0.04520482,\n",
       "         0.02490018, 0.03328124, 0.02488683, 0.00639683, 0.02054171,\n",
       "         0.01538277, 0.01206605, 0.02588935, 0.01151499, 0.03011787,\n",
       "         0.00976382, 0.0098529 , 0.02035477, 0.01748904, 0.02665193,\n",
       "         0.00937238, 0.02494132, 0.01467446, 0.02133292, 0.01282364]),\n",
       "  'param_C': masked_array(data=[1, 1, 1, 1, 1, 1, 1, 1, 1, 1, 1, 1, 5, 5, 5, 5, 5, 5,\n",
       "                     5, 5, 5, 5, 5, 5, 10, 10, 10, 10, 10, 10, 10, 10, 10,\n",
       "                     10, 10, 10, 15, 15, 15, 15, 15, 15, 15, 15, 15, 15, 15,\n",
       "                     15, 20, 20, 20, 20, 20, 20, 20, 20, 20, 20, 20, 20],\n",
       "               mask=[False, False, False, False, False, False, False, False,\n",
       "                     False, False, False, False, False, False, False, False,\n",
       "                     False, False, False, False, False, False, False, False,\n",
       "                     False, False, False, False, False, False, False, False,\n",
       "                     False, False, False, False, False, False, False, False,\n",
       "                     False, False, False, False, False, False, False, False,\n",
       "                     False, False, False, False, False, False, False, False,\n",
       "                     False, False, False, False],\n",
       "         fill_value='?',\n",
       "              dtype=object),\n",
       "  'param_fit_intercept': masked_array(data=[True, True, True, True, True, True, False, False,\n",
       "                     False, False, False, False, True, True, True, True,\n",
       "                     True, True, False, False, False, False, False, False,\n",
       "                     True, True, True, True, True, True, False, False,\n",
       "                     False, False, False, False, True, True, True, True,\n",
       "                     True, True, False, False, False, False, False, False,\n",
       "                     True, True, True, True, True, True, False, False,\n",
       "                     False, False, False, False],\n",
       "               mask=[False, False, False, False, False, False, False, False,\n",
       "                     False, False, False, False, False, False, False, False,\n",
       "                     False, False, False, False, False, False, False, False,\n",
       "                     False, False, False, False, False, False, False, False,\n",
       "                     False, False, False, False, False, False, False, False,\n",
       "                     False, False, False, False, False, False, False, False,\n",
       "                     False, False, False, False, False, False, False, False,\n",
       "                     False, False, False, False],\n",
       "         fill_value='?',\n",
       "              dtype=object),\n",
       "  'param_loss': masked_array(data=['hinge', 'hinge', 'hinge', 'squared_hinge',\n",
       "                     'squared_hinge', 'squared_hinge', 'hinge', 'hinge',\n",
       "                     'hinge', 'squared_hinge', 'squared_hinge',\n",
       "                     'squared_hinge', 'hinge', 'hinge', 'hinge',\n",
       "                     'squared_hinge', 'squared_hinge', 'squared_hinge',\n",
       "                     'hinge', 'hinge', 'hinge', 'squared_hinge',\n",
       "                     'squared_hinge', 'squared_hinge', 'hinge', 'hinge',\n",
       "                     'hinge', 'squared_hinge', 'squared_hinge',\n",
       "                     'squared_hinge', 'hinge', 'hinge', 'hinge',\n",
       "                     'squared_hinge', 'squared_hinge', 'squared_hinge',\n",
       "                     'hinge', 'hinge', 'hinge', 'squared_hinge',\n",
       "                     'squared_hinge', 'squared_hinge', 'hinge', 'hinge',\n",
       "                     'hinge', 'squared_hinge', 'squared_hinge',\n",
       "                     'squared_hinge', 'hinge', 'hinge', 'hinge',\n",
       "                     'squared_hinge', 'squared_hinge', 'squared_hinge',\n",
       "                     'hinge', 'hinge', 'hinge', 'squared_hinge',\n",
       "                     'squared_hinge', 'squared_hinge'],\n",
       "               mask=[False, False, False, False, False, False, False, False,\n",
       "                     False, False, False, False, False, False, False, False,\n",
       "                     False, False, False, False, False, False, False, False,\n",
       "                     False, False, False, False, False, False, False, False,\n",
       "                     False, False, False, False, False, False, False, False,\n",
       "                     False, False, False, False, False, False, False, False,\n",
       "                     False, False, False, False, False, False, False, False,\n",
       "                     False, False, False, False],\n",
       "         fill_value='?',\n",
       "              dtype=object),\n",
       "  'param_tol': masked_array(data=[0.0001, 1e-06, 1e-08, 0.0001, 1e-06, 1e-08, 0.0001,\n",
       "                     1e-06, 1e-08, 0.0001, 1e-06, 1e-08, 0.0001, 1e-06,\n",
       "                     1e-08, 0.0001, 1e-06, 1e-08, 0.0001, 1e-06, 1e-08,\n",
       "                     0.0001, 1e-06, 1e-08, 0.0001, 1e-06, 1e-08, 0.0001,\n",
       "                     1e-06, 1e-08, 0.0001, 1e-06, 1e-08, 0.0001, 1e-06,\n",
       "                     1e-08, 0.0001, 1e-06, 1e-08, 0.0001, 1e-06, 1e-08,\n",
       "                     0.0001, 1e-06, 1e-08, 0.0001, 1e-06, 1e-08, 0.0001,\n",
       "                     1e-06, 1e-08, 0.0001, 1e-06, 1e-08, 0.0001, 1e-06,\n",
       "                     1e-08, 0.0001, 1e-06, 1e-08],\n",
       "               mask=[False, False, False, False, False, False, False, False,\n",
       "                     False, False, False, False, False, False, False, False,\n",
       "                     False, False, False, False, False, False, False, False,\n",
       "                     False, False, False, False, False, False, False, False,\n",
       "                     False, False, False, False, False, False, False, False,\n",
       "                     False, False, False, False, False, False, False, False,\n",
       "                     False, False, False, False, False, False, False, False,\n",
       "                     False, False, False, False],\n",
       "         fill_value='?',\n",
       "              dtype=object),\n",
       "  'params': [{'C': 1, 'fit_intercept': True, 'loss': 'hinge', 'tol': 0.0001},\n",
       "   {'C': 1, 'fit_intercept': True, 'loss': 'hinge', 'tol': 1e-06},\n",
       "   {'C': 1, 'fit_intercept': True, 'loss': 'hinge', 'tol': 1e-08},\n",
       "   {'C': 1, 'fit_intercept': True, 'loss': 'squared_hinge', 'tol': 0.0001},\n",
       "   {'C': 1, 'fit_intercept': True, 'loss': 'squared_hinge', 'tol': 1e-06},\n",
       "   {'C': 1, 'fit_intercept': True, 'loss': 'squared_hinge', 'tol': 1e-08},\n",
       "   {'C': 1, 'fit_intercept': False, 'loss': 'hinge', 'tol': 0.0001},\n",
       "   {'C': 1, 'fit_intercept': False, 'loss': 'hinge', 'tol': 1e-06},\n",
       "   {'C': 1, 'fit_intercept': False, 'loss': 'hinge', 'tol': 1e-08},\n",
       "   {'C': 1, 'fit_intercept': False, 'loss': 'squared_hinge', 'tol': 0.0001},\n",
       "   {'C': 1, 'fit_intercept': False, 'loss': 'squared_hinge', 'tol': 1e-06},\n",
       "   {'C': 1, 'fit_intercept': False, 'loss': 'squared_hinge', 'tol': 1e-08},\n",
       "   {'C': 5, 'fit_intercept': True, 'loss': 'hinge', 'tol': 0.0001},\n",
       "   {'C': 5, 'fit_intercept': True, 'loss': 'hinge', 'tol': 1e-06},\n",
       "   {'C': 5, 'fit_intercept': True, 'loss': 'hinge', 'tol': 1e-08},\n",
       "   {'C': 5, 'fit_intercept': True, 'loss': 'squared_hinge', 'tol': 0.0001},\n",
       "   {'C': 5, 'fit_intercept': True, 'loss': 'squared_hinge', 'tol': 1e-06},\n",
       "   {'C': 5, 'fit_intercept': True, 'loss': 'squared_hinge', 'tol': 1e-08},\n",
       "   {'C': 5, 'fit_intercept': False, 'loss': 'hinge', 'tol': 0.0001},\n",
       "   {'C': 5, 'fit_intercept': False, 'loss': 'hinge', 'tol': 1e-06},\n",
       "   {'C': 5, 'fit_intercept': False, 'loss': 'hinge', 'tol': 1e-08},\n",
       "   {'C': 5, 'fit_intercept': False, 'loss': 'squared_hinge', 'tol': 0.0001},\n",
       "   {'C': 5, 'fit_intercept': False, 'loss': 'squared_hinge', 'tol': 1e-06},\n",
       "   {'C': 5, 'fit_intercept': False, 'loss': 'squared_hinge', 'tol': 1e-08},\n",
       "   {'C': 10, 'fit_intercept': True, 'loss': 'hinge', 'tol': 0.0001},\n",
       "   {'C': 10, 'fit_intercept': True, 'loss': 'hinge', 'tol': 1e-06},\n",
       "   {'C': 10, 'fit_intercept': True, 'loss': 'hinge', 'tol': 1e-08},\n",
       "   {'C': 10, 'fit_intercept': True, 'loss': 'squared_hinge', 'tol': 0.0001},\n",
       "   {'C': 10, 'fit_intercept': True, 'loss': 'squared_hinge', 'tol': 1e-06},\n",
       "   {'C': 10, 'fit_intercept': True, 'loss': 'squared_hinge', 'tol': 1e-08},\n",
       "   {'C': 10, 'fit_intercept': False, 'loss': 'hinge', 'tol': 0.0001},\n",
       "   {'C': 10, 'fit_intercept': False, 'loss': 'hinge', 'tol': 1e-06},\n",
       "   {'C': 10, 'fit_intercept': False, 'loss': 'hinge', 'tol': 1e-08},\n",
       "   {'C': 10, 'fit_intercept': False, 'loss': 'squared_hinge', 'tol': 0.0001},\n",
       "   {'C': 10, 'fit_intercept': False, 'loss': 'squared_hinge', 'tol': 1e-06},\n",
       "   {'C': 10, 'fit_intercept': False, 'loss': 'squared_hinge', 'tol': 1e-08},\n",
       "   {'C': 15, 'fit_intercept': True, 'loss': 'hinge', 'tol': 0.0001},\n",
       "   {'C': 15, 'fit_intercept': True, 'loss': 'hinge', 'tol': 1e-06},\n",
       "   {'C': 15, 'fit_intercept': True, 'loss': 'hinge', 'tol': 1e-08},\n",
       "   {'C': 15, 'fit_intercept': True, 'loss': 'squared_hinge', 'tol': 0.0001},\n",
       "   {'C': 15, 'fit_intercept': True, 'loss': 'squared_hinge', 'tol': 1e-06},\n",
       "   {'C': 15, 'fit_intercept': True, 'loss': 'squared_hinge', 'tol': 1e-08},\n",
       "   {'C': 15, 'fit_intercept': False, 'loss': 'hinge', 'tol': 0.0001},\n",
       "   {'C': 15, 'fit_intercept': False, 'loss': 'hinge', 'tol': 1e-06},\n",
       "   {'C': 15, 'fit_intercept': False, 'loss': 'hinge', 'tol': 1e-08},\n",
       "   {'C': 15, 'fit_intercept': False, 'loss': 'squared_hinge', 'tol': 0.0001},\n",
       "   {'C': 15, 'fit_intercept': False, 'loss': 'squared_hinge', 'tol': 1e-06},\n",
       "   {'C': 15, 'fit_intercept': False, 'loss': 'squared_hinge', 'tol': 1e-08},\n",
       "   {'C': 20, 'fit_intercept': True, 'loss': 'hinge', 'tol': 0.0001},\n",
       "   {'C': 20, 'fit_intercept': True, 'loss': 'hinge', 'tol': 1e-06},\n",
       "   {'C': 20, 'fit_intercept': True, 'loss': 'hinge', 'tol': 1e-08},\n",
       "   {'C': 20, 'fit_intercept': True, 'loss': 'squared_hinge', 'tol': 0.0001},\n",
       "   {'C': 20, 'fit_intercept': True, 'loss': 'squared_hinge', 'tol': 1e-06},\n",
       "   {'C': 20, 'fit_intercept': True, 'loss': 'squared_hinge', 'tol': 1e-08},\n",
       "   {'C': 20, 'fit_intercept': False, 'loss': 'hinge', 'tol': 0.0001},\n",
       "   {'C': 20, 'fit_intercept': False, 'loss': 'hinge', 'tol': 1e-06},\n",
       "   {'C': 20, 'fit_intercept': False, 'loss': 'hinge', 'tol': 1e-08},\n",
       "   {'C': 20, 'fit_intercept': False, 'loss': 'squared_hinge', 'tol': 0.0001},\n",
       "   {'C': 20, 'fit_intercept': False, 'loss': 'squared_hinge', 'tol': 1e-06},\n",
       "   {'C': 20, 'fit_intercept': False, 'loss': 'squared_hinge', 'tol': 1e-08}],\n",
       "  'split0_test_score': array([0.83148936, 0.83148936, 0.83148936, 0.83319149, 0.83319149,\n",
       "         0.83319149, 0.83234043, 0.83234043, 0.83234043, 0.83744681,\n",
       "         0.83744681, 0.83744681, 0.82893617, 0.82893617, 0.82893617,\n",
       "         0.83148936, 0.83148936, 0.83148936, 0.83234043, 0.83234043,\n",
       "         0.83234043, 0.83319149, 0.83319149, 0.83319149, 0.82978723,\n",
       "         0.82978723, 0.82978723, 0.8306383 , 0.8306383 , 0.8306383 ,\n",
       "         0.83148936, 0.83148936, 0.83148936, 0.83148936, 0.83148936,\n",
       "         0.83148936, 0.82893617, 0.82893617, 0.82893617, 0.83234043,\n",
       "         0.83234043, 0.83234043, 0.82978723, 0.82978723, 0.82978723,\n",
       "         0.82978723, 0.82978723, 0.82978723, 0.8306383 , 0.8306383 ,\n",
       "         0.82978723, 0.83234043, 0.83234043, 0.83234043, 0.82808511,\n",
       "         0.82808511, 0.82808511, 0.82978723, 0.82978723, 0.82978723]),\n",
       "  'split1_test_score': array([0.82027257, 0.82027257, 0.82027257, 0.82367973, 0.82367973,\n",
       "         0.82367973, 0.81856899, 0.81856899, 0.81856899, 0.82623509,\n",
       "         0.82623509, 0.82623509, 0.81431005, 0.81431005, 0.81431005,\n",
       "         0.81686542, 0.81686542, 0.81686542, 0.81771721, 0.81771721,\n",
       "         0.81771721, 0.82027257, 0.82027257, 0.82027257, 0.81516184,\n",
       "         0.81516184, 0.81516184, 0.81686542, 0.81686542, 0.81686542,\n",
       "         0.81771721, 0.81771721, 0.81771721, 0.81771721, 0.81771721,\n",
       "         0.81771721, 0.81516184, 0.81516184, 0.81516184, 0.81686542,\n",
       "         0.81686542, 0.81686542, 0.81771721, 0.81771721, 0.81771721,\n",
       "         0.81771721, 0.81771721, 0.81771721, 0.81516184, 0.81516184,\n",
       "         0.81516184, 0.81686542, 0.81686542, 0.81686542, 0.81771721,\n",
       "         0.81771721, 0.81771721, 0.81771721, 0.81771721, 0.81771721]),\n",
       "  'split2_test_score': array([0.80919932, 0.80919932, 0.80919932, 0.8109029 , 0.8109029 ,\n",
       "         0.8109029 , 0.8109029 , 0.8109029 , 0.8109029 , 0.81175468,\n",
       "         0.81175468, 0.81175468, 0.80494037, 0.80494037, 0.80494037,\n",
       "         0.80664395, 0.80664395, 0.80664395, 0.80749574, 0.80749574,\n",
       "         0.80749574, 0.80494037, 0.80494037, 0.80494037, 0.80664395,\n",
       "         0.80664395, 0.80664395, 0.80834753, 0.80834753, 0.80834753,\n",
       "         0.80919932, 0.80919932, 0.80919932, 0.80579216, 0.80579216,\n",
       "         0.80579216, 0.80664395, 0.80664395, 0.80664395, 0.80834753,\n",
       "         0.80834753, 0.80834753, 0.80834753, 0.80834753, 0.80834753,\n",
       "         0.80494037, 0.80494037, 0.80494037, 0.81005111, 0.81005111,\n",
       "         0.81005111, 0.80579216, 0.80664395, 0.80579216, 0.80664395,\n",
       "         0.80664395, 0.80749574, 0.80579216, 0.80579216, 0.80579216]),\n",
       "  'split3_test_score': array([0.82879046, 0.82879046, 0.82879046, 0.83475298, 0.83475298,\n",
       "         0.83475298, 0.82708688, 0.82708688, 0.82708688, 0.83390119,\n",
       "         0.83390119, 0.83390119, 0.82623509, 0.82623509, 0.82623509,\n",
       "         0.82793867, 0.82793867, 0.82793867, 0.83134583, 0.83134583,\n",
       "         0.83134583, 0.83049404, 0.83049404, 0.83049404, 0.8253833 ,\n",
       "         0.8253833 , 0.8253833 , 0.82453152, 0.82453152, 0.82453152,\n",
       "         0.83134583, 0.83134583, 0.83134583, 0.83049404, 0.83049404,\n",
       "         0.83049404, 0.82623509, 0.82623509, 0.82623509, 0.82453152,\n",
       "         0.82453152, 0.82453152, 0.83134583, 0.83134583, 0.83134583,\n",
       "         0.83049404, 0.83049404, 0.83049404, 0.82623509, 0.82623509,\n",
       "         0.82623509, 0.8253833 , 0.8253833 , 0.8253833 , 0.83134583,\n",
       "         0.83134583, 0.83134583, 0.83134583, 0.83134583, 0.83134583]),\n",
       "  'mean_test_score': array([0.82243793, 0.82243793, 0.82243793, 0.82563177, 0.82563177,\n",
       "         0.82563177, 0.8222248 , 0.8222248 , 0.8222248 , 0.82733444,\n",
       "         0.82733444, 0.82733444, 0.81860542, 0.81860542, 0.81860542,\n",
       "         0.82073435, 0.82073435, 0.82073435, 0.8222248 , 0.8222248 ,\n",
       "         0.8222248 , 0.82222462, 0.82222462, 0.82222462, 0.81924408,\n",
       "         0.81924408, 0.81924408, 0.82009569, 0.82009569, 0.82009569,\n",
       "         0.82243793, 0.82243793, 0.82243793, 0.82137319, 0.82137319,\n",
       "         0.82137319, 0.81924426, 0.81924426, 0.81924426, 0.82052122,\n",
       "         0.82052122, 0.82052122, 0.82179945, 0.82179945, 0.82179945,\n",
       "         0.82073471, 0.82073471, 0.82073471, 0.82052158, 0.82052158,\n",
       "         0.82030882, 0.82009533, 0.82030828, 0.82009533, 0.82094802,\n",
       "         0.82094802, 0.82116097, 0.82116061, 0.82116061, 0.82116061]),\n",
       "  'std_test_score': array([0.00869242, 0.00869242, 0.00869242, 0.00950126, 0.00950126,\n",
       "         0.00950126, 0.00817796, 0.00817796, 0.00817796, 0.00986559,\n",
       "         0.00986559, 0.00986559, 0.00961925, 0.00961925, 0.00961925,\n",
       "         0.00976064, 0.00976064, 0.00976064, 0.01028084, 0.01028084,\n",
       "         0.01028084, 0.01108164, 0.01108164, 0.01108164, 0.00900383,\n",
       "         0.00900383, 0.00900383, 0.00835579, 0.00835579, 0.00835579,\n",
       "         0.00947134, 0.00947134, 0.00947134, 0.01050787, 0.01050787,\n",
       "         0.01050787, 0.00891962, 0.00891962, 0.00891962, 0.00890702,\n",
       "         0.00890702, 0.00890702, 0.00938825, 0.00938825, 0.00938825,\n",
       "         0.01043742, 0.01043742, 0.01043742, 0.00826665, 0.00826665,\n",
       "         0.00801051, 0.00991108, 0.00960593, 0.00991108, 0.00967079,\n",
       "         0.00967079, 0.00935779, 0.01032235, 0.01032235, 0.01032235]),\n",
       "  'rank_test_score': array([ 7,  7,  7,  4,  4,  4, 13, 13, 13,  1,  1,  1, 58, 58, 58, 37, 37,\n",
       "         37, 13, 13, 13, 19, 19, 19, 55, 55, 55, 47, 47, 47,  7,  7,  7, 25,\n",
       "         25, 25, 52, 52, 52, 42, 42, 42, 22, 22, 22, 34, 34, 34, 40, 40, 45,\n",
       "         50, 46, 50, 32, 32, 28, 29, 29, 29])},\n",
       " 'n_splits_': 4}"
      ]
     },
     "execution_count": 10,
     "metadata": {},
     "output_type": "execute_result"
    }
   ],
   "source": [
    "clf.__dict__"
   ]
  },
  {
   "cell_type": "code",
   "execution_count": 12,
   "metadata": {},
   "outputs": [
    {
     "data": {
      "text/plain": [
       "sklearn.svm._classes.LinearSVC"
      ]
     },
     "execution_count": 12,
     "metadata": {},
     "output_type": "execute_result"
    }
   ],
   "source": [
    "type(clf.best_estimator_)"
   ]
  },
  {
   "cell_type": "code",
   "execution_count": 13,
   "metadata": {},
   "outputs": [],
   "source": [
    "with open('data/linearSVC.pkl', 'wb') as f:\n",
    "    pickle.dump(clf.best_estimator_, f)"
   ]
  },
  {
   "cell_type": "code",
   "execution_count": 14,
   "metadata": {},
   "outputs": [],
   "source": [
    "with open('data/tfidf_title.pkl', 'wb') as f:\n",
    "    pickle.dump(tfidf_title, f)"
   ]
  },
  {
   "cell_type": "code",
   "execution_count": 15,
   "metadata": {},
   "outputs": [],
   "source": [
    "with open('data/tfidf_description.pkl', 'wb') as f:\n",
    "    pickle.dump(tfidf_description, f)\n",
    "    \n",
    "with open('data/tfidf_tags.pkl', 'wb') as f:\n",
    "    pickle.dump(tfidf_tags, f)"
   ]
  },
  {
   "cell_type": "markdown",
   "metadata": {},
   "source": [
    "## Count Vectorizer"
   ]
  },
  {
   "cell_type": "code",
   "execution_count": 3,
   "metadata": {},
   "outputs": [
    {
     "name": "stdout",
     "output_type": "stream",
     "text": [
      "Wall time: 521 ms\n"
     ]
    }
   ],
   "source": [
    "%%time\n",
    "vectorizer = CountVectorizer(stop_words=\"english\")\n",
    "features = vectorizer.fit_transform(df.title + ' ' + df.tags + ' ' + df.description)"
   ]
  },
  {
   "cell_type": "code",
   "execution_count": 10,
   "metadata": {},
   "outputs": [],
   "source": [
    "X_train, X_test, y_train, y_test = train_test_split(features, df.category_id, random_state=123)"
   ]
  },
  {
   "cell_type": "code",
   "execution_count": 13,
   "metadata": {},
   "outputs": [],
   "source": [
    "svm = LinearSVC(random_state=123)\n",
    "parameters = {\n",
    "    'loss': ('hinge', 'squared_hinge'),\n",
    "    'C':[1,5,10,15,20],\n",
    "    'fit_intercept': (True, False),\n",
    "    'tol':[1e-4, 1e-6, 1e-8],\n",
    "}\n",
    "clf = GridSearchCV(svm, parameters, n_jobs=-1, cv=4)"
   ]
  },
  {
   "cell_type": "code",
   "execution_count": 16,
   "metadata": {},
   "outputs": [
    {
     "name": "stdout",
     "output_type": "stream",
     "text": [
      "Wall time: 2min 12s\n"
     ]
    },
    {
     "name": "stderr",
     "output_type": "stream",
     "text": [
      "C:\\Users\\Zan\\anaconda3\\lib\\site-packages\\sklearn\\svm\\_base.py:976: ConvergenceWarning: Liblinear failed to converge, increase the number of iterations.\n",
      "  warnings.warn(\"Liblinear failed to converge, increase \"\n"
     ]
    },
    {
     "data": {
      "text/plain": [
       "GridSearchCV(cv=4, estimator=LinearSVC(random_state=123), n_jobs=-1,\n",
       "             param_grid={'C': [1, 5, 10, 15, 20],\n",
       "                         'fit_intercept': (True, False),\n",
       "                         'loss': ('hinge', 'squared_hinge'),\n",
       "                         'tol': [0.0001, 1e-06, 1e-08]})"
      ]
     },
     "execution_count": 16,
     "metadata": {},
     "output_type": "execute_result"
    }
   ],
   "source": [
    "%%time\n",
    "clf.fit(X_train, y_train)"
   ]
  },
  {
   "cell_type": "code",
   "execution_count": 17,
   "metadata": {},
   "outputs": [
    {
     "name": "stdout",
     "output_type": "stream",
     "text": [
      "0.7790054007031788\n",
      "{'C': 1, 'fit_intercept': True, 'loss': 'squared_hinge', 'tol': 0.0001}\n"
     ]
    }
   ],
   "source": [
    "print(clf.best_score_)\n",
    "print(clf.best_params_)"
   ]
  },
  {
   "cell_type": "code",
   "execution_count": 19,
   "metadata": {},
   "outputs": [
    {
     "name": "stdout",
     "output_type": "stream",
     "text": [
      "<class 'pandas.core.frame.DataFrame'>\n",
      "Int64Index: 6263 entries, 0 to 40846\n",
      "Data columns (total 4 columns):\n",
      " #   Column       Non-Null Count  Dtype \n",
      "---  ------       --------------  ----- \n",
      " 0   title        6263 non-null   object\n",
      " 1   tags         6263 non-null   object\n",
      " 2   description  6263 non-null   object\n",
      " 3   category_id  6263 non-null   int64 \n",
      "dtypes: int64(1), object(3)\n",
      "memory usage: 244.6+ KB\n"
     ]
    }
   ],
   "source": [
    "df.info()"
   ]
  },
  {
   "cell_type": "code",
   "execution_count": null,
   "metadata": {},
   "outputs": [],
   "source": []
  }
 ],
 "metadata": {
  "kernelspec": {
   "display_name": "Python 3",
   "language": "python",
   "name": "python3"
  },
  "language_info": {
   "codemirror_mode": {
    "name": "ipython",
    "version": 3
   },
   "file_extension": ".py",
   "mimetype": "text/x-python",
   "name": "python",
   "nbconvert_exporter": "python",
   "pygments_lexer": "ipython3",
   "version": "3.8.3"
  }
 },
 "nbformat": 4,
 "nbformat_minor": 4
}
