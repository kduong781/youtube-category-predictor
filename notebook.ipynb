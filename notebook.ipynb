{
 "cells": [
  {
   "cell_type": "code",
   "execution_count": 1,
   "metadata": {},
   "outputs": [],
   "source": [
    "import pandas as pd\n",
    "import numpy as np\n",
    "import nltk\n",
    "import string\n",
    "import progressbar\n",
    "import pickle\n",
    "import json\n",
    "import re\n",
    "from sklearn.feature_extraction.text import TfidfVectorizer\n",
    "\n",
    "\n",
    "from sklearn.model_selection import train_test_split\n",
    "from sklearn.naive_bayes import MultinomialNB\n",
    "from sklearn import linear_model\n",
    "from sklearn.ensemble import AdaBoostClassifier\n",
    "\n",
    "from sklearn import metrics\n",
    "import matplotlib.pyplot as plt\n",
    "import seaborn as sns\n",
    "from sklearn.metrics import confusion_matrix\n",
    "import scikitplot as skplt\n",
    "\n",
    "pd.set_option(\"display.max_rows\", None)\n",
    "np.set_printoptions(threshold=np.inf)"
   ]
  },
  {
   "cell_type": "code",
   "execution_count": null,
   "metadata": {},
   "outputs": [],
   "source": [
    "# load the original dataset\n",
    "df = pd.read_csv('data/USvideos.csv')"
   ]
  },
  {
   "cell_type": "code",
   "execution_count": null,
   "metadata": {},
   "outputs": [],
   "source": [
    "df.columns"
   ]
  },
  {
   "cell_type": "code",
   "execution_count": null,
   "metadata": {},
   "outputs": [],
   "source": [
    "df.info()"
   ]
  },
  {
   "cell_type": "code",
   "execution_count": null,
   "metadata": {},
   "outputs": [],
   "source": [
    "# drop rows with missing values\n",
    "df.dropna(inplace=True)\n",
    "# df = df.dropna()"
   ]
  },
  {
   "cell_type": "code",
   "execution_count": null,
   "metadata": {},
   "outputs": [],
   "source": [
    "df.info()"
   ]
  },
  {
   "cell_type": "code",
   "execution_count": null,
   "metadata": {},
   "outputs": [],
   "source": [
    "# drop all unnecessary columns\n",
    "df.drop(df.columns[[0,1,5,7,8,9,10,11,12,13,14]], axis=1, inplace=True)\n",
    "# df = df.drop(df.columns[[0,1,5,7,8,9,10,11,12,13,14]], axis=1)"
   ]
  },
  {
   "cell_type": "code",
   "execution_count": null,
   "metadata": {},
   "outputs": [],
   "source": [
    "df.drop_duplicates(subset=[\"title\",\"channel_title\",\"tags\",\"description\"], inplace=True)\n",
    "df.info()"
   ]
  },
  {
   "cell_type": "markdown",
   "metadata": {},
   "source": [
    "# TEST"
   ]
  },
  {
   "cell_type": "code",
   "execution_count": null,
   "metadata": {},
   "outputs": [],
   "source": [
    "# print(df.description[0])\n",
    "# print(df.tags[1])\n",
    "# print(df.tags[2])\n",
    "# print(df.tags[3])\n",
    "print(df.description[52])\n",
    "# print(df.tags[40948])"
   ]
  },
  {
   "cell_type": "code",
   "execution_count": null,
   "metadata": {},
   "outputs": [],
   "source": [
    "# remove urls from string\n",
    "# re.sub(r'^https?:\\/\\/.*[\\r\\n]*', '', df.description[52], flags=re.MULTILINE)\n",
    "line = re.sub(r'\\w+:\\/{2}[\\d\\w-]+(\\.[\\d\\w-]+)*(?:(?:\\/[^\\s/]*))*', '', df.description[52])\n",
    "line"
   ]
  },
  {
   "cell_type": "code",
   "execution_count": null,
   "metadata": {},
   "outputs": [],
   "source": [
    "# tokenize and lowercase the strings\n",
    "tokens = nltk.word_tokenize(line)\n",
    "tokens = [word.lower() for word in tokens]\n",
    "tokens"
   ]
  },
  {
   "cell_type": "code",
   "execution_count": null,
   "metadata": {},
   "outputs": [],
   "source": [
    "# strip punctuation from words\n",
    "table = str.maketrans('', '', string.punctuation)\n",
    "stripped = [w.translate(table) for w in tokens]\n",
    "stripped"
   ]
  },
  {
   "cell_type": "code",
   "execution_count": null,
   "metadata": {},
   "outputs": [],
   "source": [
    "# remove all non words\n",
    "words = [word for word in stripped if word.isalpha()]\n",
    "words"
   ]
  },
  {
   "cell_type": "code",
   "execution_count": null,
   "metadata": {},
   "outputs": [],
   "source": [
    "# remove all non important words\n",
    "stop_words = nltk.corpus.stopwords.words('english')\n",
    "words = [w for w in words if not w in stop_words]\n",
    "words"
   ]
  },
  {
   "cell_type": "code",
   "execution_count": null,
   "metadata": {},
   "outputs": [],
   "source": [
    "# stems words to their roots\n",
    "porter = nltk.stem.porter.PorterStemmer()\n",
    "stemmed = [porter.stem(word) for word in words]\n",
    "stemmed"
   ]
  },
  {
   "cell_type": "code",
   "execution_count": null,
   "metadata": {},
   "outputs": [],
   "source": [
    "%%time\n",
    "table = str.maketrans('', '', string.punctuation)\n",
    "stop_words = nltk.corpus.stopwords.words('english')\n",
    "porter = nltk.stem.porter.PorterStemmer()\n",
    "index = 0\n",
    "for row in progressbar.progressbar(df.title):\n",
    "    tokens = nltk.word_tokenize(row)\n",
    "    tokens = [word.lower() for word in tokens]\n",
    "    stripped = [w.translate(table) for w in tokens]\n",
    "    words = [word for word in stripped if word.isalpha()]\n",
    "    words = [w for w in words if not w in stop_words]\n",
    "    stemmed = [porter.stem(word) for word in words]\n",
    "    df.title[index] = ';'.join(stemmed)\n",
    "    index += 1\n",
    "    \n",
    "index = 0\n",
    "for row in progressbar.progressbar(df.channel_title):\n",
    "    tokens = nltk.word_tokenize(row)\n",
    "    tokens = [word.lower() for word in tokens]\n",
    "    stripped = [w.translate(table) for w in tokens]\n",
    "    words = [word for word in stripped if word.isalpha()]\n",
    "    words = [w for w in words if not w in stop_words]\n",
    "    stemmed = [porter.stem(word) for word in words]\n",
    "    df.description[index] = ';'.join(stemmed)\n",
    "    index += 1\n",
    "    \n",
    "# index = 0\n",
    "# for row in progressbar.progressbar(df.tags):\n",
    "#     tokens = nltk.word_tokenize(row)\n",
    "#     tokens = [word.lower() for word in tokens]\n",
    "#     stripped = [w.translate(table) for w in tokens]\n",
    "#     words = [word for word in stripped if word.isalpha()]\n",
    "#     words = [w for w in words if not w in stop_words]\n",
    "#     stemmed = [porter.stem(word) for word in words]\n",
    "#     df.tags[index] = ';'.join(stemmed)\n",
    "#     index += 1\n",
    "    \n",
    "# index = 0\n",
    "# for row in progressbar.progressbar(df.tags):\n",
    "#     tokens = nltk.word_tokenize(row)\n",
    "#     tokens = [word.lower() for word in tokens]\n",
    "#     stripped = [w.translate(table) for w in tokens]\n",
    "#     words = [word for word in stripped if word.isalpha()]\n",
    "#     words = [w for w in words if not w in stop_words]\n",
    "#     stemmed = [porter.stem(word) for word in words]\n",
    "#     df.title[index] = ';'.join(stemmed)\n",
    "#     index += 1"
   ]
  },
  {
   "cell_type": "markdown",
   "metadata": {},
   "source": [
    "## END TEST"
   ]
  },
  {
   "cell_type": "code",
   "execution_count": null,
   "metadata": {},
   "outputs": [],
   "source": [
    "def clean(df, column):\n",
    "    '''\n",
    "        Cleans the strings in specified column\n",
    "    '''\n",
    "    list = []\n",
    "    print(column)\n",
    "    table = str.maketrans('', '', string.punctuation)\n",
    "    stop_words = nltk.corpus.stopwords.words('english')\n",
    "    porter = nltk.stem.porter.PorterStemmer()\n",
    "    for row in progressbar.progressbar(df[column]):\n",
    "        index = df[column][df[column] == row].index.tolist()[0]\n",
    "        line = re.sub(r'\\w+:\\/{2}[\\d\\w-]+(\\.[\\d\\w-]+)*(?:(?:\\/[^\\s/]*))*', '', row)\n",
    "        tokens = nltk.word_tokenize(line)\n",
    "        tokens = [word.lower() for word in tokens]\n",
    "        stripped = [w.translate(table) for w in tokens]\n",
    "        words = [word for word in stripped if word.isalpha()]\n",
    "        words = [w for w in words if not w in stop_words]\n",
    "        stemmed = [porter.stem(word) for word in words]\n",
    "        stemmed = [word.strip() for word in stemmed if len(word) > 3]\n",
    "#         df[column][index] = ';'.join(stemmed)\n",
    "        df[column][index] = ' '.join(stemmed)"
   ]
  },
  {
   "cell_type": "code",
   "execution_count": null,
   "metadata": {},
   "outputs": [],
   "source": [
    "%%time\n",
    "title = clean(df, \"title\")\n",
    "channel_title = clean(df, \"channel_title\")\n",
    "tags = clean(df, \"tags\")\n",
    "description = clean(df, \"description\")"
   ]
  },
  {
   "cell_type": "code",
   "execution_count": null,
   "metadata": {
    "scrolled": true
   },
   "outputs": [],
   "source": [
    "df.title"
   ]
  },
  {
   "cell_type": "code",
   "execution_count": null,
   "metadata": {},
   "outputs": [],
   "source": [
    "df.channel_title"
   ]
  },
  {
   "cell_type": "code",
   "execution_count": null,
   "metadata": {},
   "outputs": [],
   "source": [
    "df.channel_title[23]"
   ]
  },
  {
   "cell_type": "code",
   "execution_count": null,
   "metadata": {},
   "outputs": [],
   "source": [
    "df.tags"
   ]
  },
  {
   "cell_type": "code",
   "execution_count": null,
   "metadata": {},
   "outputs": [],
   "source": [
    "df.description"
   ]
  },
  {
   "cell_type": "code",
   "execution_count": null,
   "metadata": {},
   "outputs": [],
   "source": [
    "# drop all the empty strings\n",
    "df.replace('', float(\"NaN\"), inplace=True)\n",
    "df.dropna(inplace=True)"
   ]
  },
  {
   "cell_type": "code",
   "execution_count": null,
   "metadata": {},
   "outputs": [],
   "source": [
    "df"
   ]
  },
  {
   "cell_type": "code",
   "execution_count": null,
   "metadata": {},
   "outputs": [],
   "source": [
    "# DON'T DO THIS, CATEGORIES ARE ALREADY ENCODED FOR US\n",
    "with open('data/US_category_id.json', 'r') as f:\n",
    "    data = json.load(f)\n",
    "    for item in data['items']:\n",
    "        df.replace({'category_id': int(item['id'])}, item['snippet']['title'], inplace=True)"
   ]
  },
  {
   "cell_type": "code",
   "execution_count": null,
   "metadata": {},
   "outputs": [],
   "source": [
    "df.category_id"
   ]
  },
  {
   "cell_type": "code",
   "execution_count": null,
   "metadata": {},
   "outputs": [],
   "source": [
    "# drop all the nones\n",
    "df.replace('none', float(\"NaN\"), inplace=True)\n",
    "df.dropna(inplace=True)\n",
    "df = df[['title', 'channel_title', 'tags', 'description', 'category_id']]\n",
    "df.info()"
   ]
  },
  {
   "cell_type": "code",
   "execution_count": null,
   "metadata": {},
   "outputs": [],
   "source": [
    "df.drop(df.columns[[1]], axis=1, inplace=True)\n",
    "print(df.info())\n",
    "df"
   ]
  },
  {
   "cell_type": "markdown",
   "metadata": {},
   "source": [
    "## Save Dataframe"
   ]
  },
  {
   "cell_type": "code",
   "execution_count": null,
   "metadata": {},
   "outputs": [],
   "source": [
    "df.to_csv('data/clean.csv', columns=['title','channel_title','category_id','tags','description'], index=False)"
   ]
  },
  {
   "cell_type": "code",
   "execution_count": null,
   "metadata": {},
   "outputs": [],
   "source": [
    "%%time\n",
    "# save df object\n",
    "with open('data/df.pkl', 'wb') as f:\n",
    "    pickle.dump(df, f)"
   ]
  },
  {
   "cell_type": "markdown",
   "metadata": {},
   "source": [
    "## Load Dataframe"
   ]
  },
  {
   "cell_type": "code",
   "execution_count": 2,
   "metadata": {},
   "outputs": [
    {
     "name": "stdout",
     "output_type": "stream",
     "text": [
      "Wall time: 6.63 ms\n"
     ]
    }
   ],
   "source": [
    "%%time\n",
    "# save df object\n",
    "with open('data/df.pkl', 'rb') as f:\n",
    "    df = pickle.load(f)"
   ]
  },
  {
   "cell_type": "code",
   "execution_count": null,
   "metadata": {},
   "outputs": [],
   "source": [
    "df"
   ]
  },
  {
   "cell_type": "markdown",
   "metadata": {},
   "source": [
    "## TFIDF Vectorization"
   ]
  },
  {
   "cell_type": "code",
   "execution_count": 4,
   "metadata": {},
   "outputs": [
    {
     "name": "stdout",
     "output_type": "stream",
     "text": [
      "Title Features Shape: (6263, 6806)\n",
      "Tags Features Shape: (6263, 16129)\n",
      "Description Features Shape: (6263, 39441)\n",
      "Wall time: 889 ms\n"
     ]
    }
   ],
   "source": [
    "%%time\n",
    "tfidf_title = TfidfVectorizer()\n",
    "tfidf_tags = TfidfVectorizer()\n",
    "tfidf_description = TfidfVectorizer()\n",
    "\n",
    "features_title = tfidf_title.fit_transform(df.title).toarray()\n",
    "features_tags = tfidf_tags.fit_transform(df.tags).toarray()\n",
    "features_description = tfidf_description.fit_transform(df.description).toarray()\n",
    "labels = df.category_id\n",
    "print('Title Features Shape: ' + str(features_title.shape))\n",
    "print('Tags Features Shape: ' + str(features_tags.shape))\n",
    "print('Description Features Shape: ' + str(features_description.shape))"
   ]
  },
  {
   "cell_type": "code",
   "execution_count": null,
   "metadata": {},
   "outputs": [],
   "source": []
  }
 ],
 "metadata": {
  "kernelspec": {
   "display_name": "Python 3",
   "language": "python",
   "name": "python3"
  },
  "language_info": {
   "codemirror_mode": {
    "name": "ipython",
    "version": 3
   },
   "file_extension": ".py",
   "mimetype": "text/x-python",
   "name": "python",
   "nbconvert_exporter": "python",
   "pygments_lexer": "ipython3",
   "version": "3.8.3"
  }
 },
 "nbformat": 4,
 "nbformat_minor": 4
}
