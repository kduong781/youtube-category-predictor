{
 "cells": [
  {
   "cell_type": "code",
   "execution_count": 1,
   "metadata": {},
   "outputs": [],
   "source": [
    "import pandas as pd\n",
    "import numpy as np\n",
    "import nltk\n",
    "import string\n",
    "import progressbar\n",
    "import pickle\n",
    "import json"
   ]
  },
  {
   "cell_type": "code",
   "execution_count": 2,
   "metadata": {},
   "outputs": [],
   "source": [
    "# load the original dataset\n",
    "df = pd.read_csv('data/USvideos.csv')"
   ]
  },
  {
   "cell_type": "code",
   "execution_count": 3,
   "metadata": {},
   "outputs": [
    {
     "data": {
      "text/plain": [
       "Index(['video_id', 'trending_date', 'title', 'channel_title', 'category_id',\n",
       "       'publish_time', 'tags', 'views', 'likes', 'dislikes', 'comment_count',\n",
       "       'thumbnail_link', 'comments_disabled', 'ratings_disabled',\n",
       "       'video_error_or_removed', 'description'],\n",
       "      dtype='object')"
      ]
     },
     "execution_count": 3,
     "metadata": {},
     "output_type": "execute_result"
    }
   ],
   "source": [
    "df.columns"
   ]
  },
  {
   "cell_type": "code",
   "execution_count": 4,
   "metadata": {},
   "outputs": [
    {
     "name": "stdout",
     "output_type": "stream",
     "text": [
      "<class 'pandas.core.frame.DataFrame'>\n",
      "RangeIndex: 40949 entries, 0 to 40948\n",
      "Data columns (total 16 columns):\n",
      " #   Column                  Non-Null Count  Dtype \n",
      "---  ------                  --------------  ----- \n",
      " 0   video_id                40949 non-null  object\n",
      " 1   trending_date           40949 non-null  object\n",
      " 2   title                   40949 non-null  object\n",
      " 3   channel_title           40949 non-null  object\n",
      " 4   category_id             40949 non-null  int64 \n",
      " 5   publish_time            40949 non-null  object\n",
      " 6   tags                    40949 non-null  object\n",
      " 7   views                   40949 non-null  int64 \n",
      " 8   likes                   40949 non-null  int64 \n",
      " 9   dislikes                40949 non-null  int64 \n",
      " 10  comment_count           40949 non-null  int64 \n",
      " 11  thumbnail_link          40949 non-null  object\n",
      " 12  comments_disabled       40949 non-null  bool  \n",
      " 13  ratings_disabled        40949 non-null  bool  \n",
      " 14  video_error_or_removed  40949 non-null  bool  \n",
      " 15  description             40379 non-null  object\n",
      "dtypes: bool(3), int64(5), object(8)\n",
      "memory usage: 4.2+ MB\n"
     ]
    }
   ],
   "source": [
    "df.info()"
   ]
  },
  {
   "cell_type": "code",
   "execution_count": 5,
   "metadata": {},
   "outputs": [],
   "source": [
    "# drop rows with missing values\n",
    "df.dropna(inplace=True)\n",
    "# df = df.dropna()"
   ]
  },
  {
   "cell_type": "code",
   "execution_count": 6,
   "metadata": {},
   "outputs": [
    {
     "name": "stdout",
     "output_type": "stream",
     "text": [
      "<class 'pandas.core.frame.DataFrame'>\n",
      "Int64Index: 40379 entries, 0 to 40948\n",
      "Data columns (total 16 columns):\n",
      " #   Column                  Non-Null Count  Dtype \n",
      "---  ------                  --------------  ----- \n",
      " 0   video_id                40379 non-null  object\n",
      " 1   trending_date           40379 non-null  object\n",
      " 2   title                   40379 non-null  object\n",
      " 3   channel_title           40379 non-null  object\n",
      " 4   category_id             40379 non-null  int64 \n",
      " 5   publish_time            40379 non-null  object\n",
      " 6   tags                    40379 non-null  object\n",
      " 7   views                   40379 non-null  int64 \n",
      " 8   likes                   40379 non-null  int64 \n",
      " 9   dislikes                40379 non-null  int64 \n",
      " 10  comment_count           40379 non-null  int64 \n",
      " 11  thumbnail_link          40379 non-null  object\n",
      " 12  comments_disabled       40379 non-null  bool  \n",
      " 13  ratings_disabled        40379 non-null  bool  \n",
      " 14  video_error_or_removed  40379 non-null  bool  \n",
      " 15  description             40379 non-null  object\n",
      "dtypes: bool(3), int64(5), object(8)\n",
      "memory usage: 4.4+ MB\n"
     ]
    }
   ],
   "source": [
    "df.info()"
   ]
  },
  {
   "cell_type": "code",
   "execution_count": 7,
   "metadata": {},
   "outputs": [],
   "source": [
    "# drop all unnecessary columns\n",
    "df.drop(df.columns[[0,1,5,7,8,9,10,11,12,13,14]], axis=1, inplace=True)\n",
    "# df = df.drop(df.columns[[0,1,5,7,8,9,10,11,12,13,14]], axis=1)"
   ]
  },
  {
   "cell_type": "code",
   "execution_count": 8,
   "metadata": {},
   "outputs": [
    {
     "name": "stdout",
     "output_type": "stream",
     "text": [
      "<class 'pandas.core.frame.DataFrame'>\n",
      "Int64Index: 7184 entries, 0 to 40846\n",
      "Data columns (total 5 columns):\n",
      " #   Column         Non-Null Count  Dtype \n",
      "---  ------         --------------  ----- \n",
      " 0   title          7184 non-null   object\n",
      " 1   channel_title  7184 non-null   object\n",
      " 2   category_id    7184 non-null   int64 \n",
      " 3   tags           7184 non-null   object\n",
      " 4   description    7184 non-null   object\n",
      "dtypes: int64(1), object(4)\n",
      "memory usage: 336.8+ KB\n"
     ]
    }
   ],
   "source": [
    "df.drop_duplicates(subset=[\"title\",\"channel_title\",\"tags\",\"description\"], inplace=True)\n",
    "df.info()"
   ]
  },
  {
   "cell_type": "markdown",
   "metadata": {},
   "source": [
    "# TEST"
   ]
  },
  {
   "cell_type": "code",
   "execution_count": null,
   "metadata": {},
   "outputs": [],
   "source": [
    "# print(df.description[0])\n",
    "# print(df.tags[1])\n",
    "# print(df.tags[2])\n",
    "# print(df.tags[3])\n",
    "print(df.tags[52])\n",
    "# print(df.tags[40948])"
   ]
  },
  {
   "cell_type": "code",
   "execution_count": null,
   "metadata": {},
   "outputs": [],
   "source": [
    "df.tags[df.tags == \"kpop\"].index"
   ]
  },
  {
   "cell_type": "code",
   "execution_count": null,
   "metadata": {},
   "outputs": [],
   "source": [
    "# tokenize and lowercase the strings\n",
    "tokens = nltk.word_tokenize(str(df.tags[52]))\n",
    "tokens = [word.lower() for word in tokens]\n",
    "tokens"
   ]
  },
  {
   "cell_type": "code",
   "execution_count": null,
   "metadata": {},
   "outputs": [],
   "source": [
    "# strip punctuation from words\n",
    "table = str.maketrans('', '', string.punctuation)\n",
    "stripped = [w.translate(table) for w in tokens]\n",
    "stripped"
   ]
  },
  {
   "cell_type": "code",
   "execution_count": null,
   "metadata": {},
   "outputs": [],
   "source": [
    "# remove all non words\n",
    "words = [word for word in stripped if word.isalpha()]\n",
    "words"
   ]
  },
  {
   "cell_type": "code",
   "execution_count": null,
   "metadata": {},
   "outputs": [],
   "source": [
    "# remove all non important words\n",
    "stop_words = nltk.corpus.stopwords.words('english')\n",
    "words = [w for w in words if not w in stop_words]\n",
    "words"
   ]
  },
  {
   "cell_type": "code",
   "execution_count": null,
   "metadata": {},
   "outputs": [],
   "source": [
    "# stems words to their roots\n",
    "porter = nltk.stem.porter.PorterStemmer()\n",
    "stemmed = [porter.stem(word) for word in words]\n",
    "stemmed"
   ]
  },
  {
   "cell_type": "markdown",
   "metadata": {},
   "source": [
    "## END TEST"
   ]
  },
  {
   "cell_type": "code",
   "execution_count": 9,
   "metadata": {},
   "outputs": [],
   "source": [
    "def clean(df, column):\n",
    "    '''\n",
    "        Cleans the strings in specified column\n",
    "    '''\n",
    "    list = []\n",
    "    print(column)\n",
    "    table = str.maketrans('', '', string.punctuation)\n",
    "    stop_words = nltk.corpus.stopwords.words('english')\n",
    "    porter = nltk.stem.porter.PorterStemmer()\n",
    "#     index = 0\n",
    "#     import ipdb; ipdb.set_trace()\n",
    "    for row in progressbar.progressbar(df[column]):\n",
    "#     for index in progressbar.progressbar(range(0, len(df[column]))):\n",
    "        index = df[column][df[column] == row].index.tolist()[0]\n",
    "        tokens = nltk.word_tokenize(row)\n",
    "#         tokens = nltk.word_tokenize(df[column][index])\n",
    "        tokens = [word.lower() for word in tokens]\n",
    "        stripped = [w.translate(table) for w in tokens]\n",
    "        words = [word for word in stripped if word.isalpha()]\n",
    "        words = [w for w in words if not w in stop_words]\n",
    "        stemmed = [porter.stem(word) for word in words]\n",
    "#         list.append(';'.join(stemmed))\n",
    "        df[column][index] = ';'.join(stemmed)\n",
    "#         df.iloc[index][column] = ';'.join(stemmed)\n",
    "#         index += 1\n",
    "#     return list"
   ]
  },
  {
   "cell_type": "code",
   "execution_count": 10,
   "metadata": {},
   "outputs": [
    {
     "name": "stderr",
     "output_type": "stream",
     "text": [
      "N/A% (0 of 7184) |                       | Elapsed Time: 0:00:00 ETA:  --:--:--<ipython-input-9-d2545c0232bb>:23: SettingWithCopyWarning: \n",
      "A value is trying to be set on a copy of a slice from a DataFrame\n",
      "\n",
      "See the caveats in the documentation: https://pandas.pydata.org/pandas-docs/stable/user_guide/indexing.html#returning-a-view-versus-a-copy\n",
      "  df[column][index] = ';'.join(stemmed)\n",
      "  2% (182 of 7184) |                     | Elapsed Time: 0:00:00 ETA:   0:00:06"
     ]
    },
    {
     "name": "stdout",
     "output_type": "stream",
     "text": [
      "title\n"
     ]
    },
    {
     "name": "stderr",
     "output_type": "stream",
     "text": [
      "100% (7184 of 7184) |####################| Elapsed Time: 0:00:06 Time:  0:00:06\n",
      "  2% (182 of 7184) |                     | Elapsed Time: 0:00:00 ETA:   0:00:05"
     ]
    },
    {
     "name": "stdout",
     "output_type": "stream",
     "text": [
      "channel_title\n"
     ]
    },
    {
     "name": "stderr",
     "output_type": "stream",
     "text": [
      "100% (7184 of 7184) |####################| Elapsed Time: 0:00:05 Time:  0:00:05\n",
      "  1% (91 of 7184) |                      | Elapsed Time: 0:00:00 ETA:   0:00:12"
     ]
    },
    {
     "name": "stdout",
     "output_type": "stream",
     "text": [
      "tags\n"
     ]
    },
    {
     "name": "stderr",
     "output_type": "stream",
     "text": [
      "100% (7184 of 7184) |####################| Elapsed Time: 0:00:12 Time:  0:00:12\n",
      "  0% (49 of 7184) |                      | Elapsed Time: 0:00:00 ETA:   0:00:29"
     ]
    },
    {
     "name": "stdout",
     "output_type": "stream",
     "text": [
      "description\n"
     ]
    },
    {
     "name": "stderr",
     "output_type": "stream",
     "text": [
      "100% (7184 of 7184) |####################| Elapsed Time: 0:00:26 Time:  0:00:26\n"
     ]
    },
    {
     "name": "stdout",
     "output_type": "stream",
     "text": [
      "Wall time: 51.1 s\n"
     ]
    }
   ],
   "source": [
    "%%time\n",
    "title = clean(df, \"title\")\n",
    "channel_title = clean(df, \"channel_title\")\n",
    "tags = clean(df, \"tags\")\n",
    "description = clean(df, \"description\")"
   ]
  },
  {
   "cell_type": "code",
   "execution_count": null,
   "metadata": {},
   "outputs": [],
   "source": [
    "%%time\n",
    "table = str.maketrans('', '', string.punctuation)\n",
    "stop_words = nltk.corpus.stopwords.words('english')\n",
    "porter = nltk.stem.porter.PorterStemmer()\n",
    "index = 0\n",
    "for row in progressbar.progressbar(df.title):\n",
    "    tokens = nltk.word_tokenize(row)\n",
    "    tokens = [word.lower() for word in tokens]\n",
    "    stripped = [w.translate(table) for w in tokens]\n",
    "    words = [word for word in stripped if word.isalpha()]\n",
    "    words = [w for w in words if not w in stop_words]\n",
    "    stemmed = [porter.stem(word) for word in words]\n",
    "    df.title[index] = ';'.join(stemmed)\n",
    "    index += 1\n",
    "    \n",
    "index = 0\n",
    "for row in progressbar.progressbar(df.channel_title):\n",
    "    tokens = nltk.word_tokenize(row)\n",
    "    tokens = [word.lower() for word in tokens]\n",
    "    stripped = [w.translate(table) for w in tokens]\n",
    "    words = [word for word in stripped if word.isalpha()]\n",
    "    words = [w for w in words if not w in stop_words]\n",
    "    stemmed = [porter.stem(word) for word in words]\n",
    "    df.description[index] = ';'.join(stemmed)\n",
    "    index += 1\n",
    "    \n",
    "# index = 0\n",
    "# for row in progressbar.progressbar(df.tags):\n",
    "#     tokens = nltk.word_tokenize(row)\n",
    "#     tokens = [word.lower() for word in tokens]\n",
    "#     stripped = [w.translate(table) for w in tokens]\n",
    "#     words = [word for word in stripped if word.isalpha()]\n",
    "#     words = [w for w in words if not w in stop_words]\n",
    "#     stemmed = [porter.stem(word) for word in words]\n",
    "#     df.tags[index] = ';'.join(stemmed)\n",
    "#     index += 1\n",
    "    \n",
    "# index = 0\n",
    "# for row in progressbar.progressbar(df.tags):\n",
    "#     tokens = nltk.word_tokenize(row)\n",
    "#     tokens = [word.lower() for word in tokens]\n",
    "#     stripped = [w.translate(table) for w in tokens]\n",
    "#     words = [word for word in stripped if word.isalpha()]\n",
    "#     words = [w for w in words if not w in stop_words]\n",
    "#     stemmed = [porter.stem(word) for word in words]\n",
    "#     df.title[index] = ';'.join(stemmed)\n",
    "#     index += 1"
   ]
  },
  {
   "cell_type": "code",
   "execution_count": null,
   "metadata": {},
   "outputs": [],
   "source": [
    "df.title"
   ]
  },
  {
   "cell_type": "code",
   "execution_count": null,
   "metadata": {},
   "outputs": [],
   "source": [
    "df.channel_title"
   ]
  },
  {
   "cell_type": "code",
   "execution_count": null,
   "metadata": {},
   "outputs": [],
   "source": [
    "df.channel_title[23]"
   ]
  },
  {
   "cell_type": "code",
   "execution_count": null,
   "metadata": {},
   "outputs": [],
   "source": [
    "df.tags"
   ]
  },
  {
   "cell_type": "code",
   "execution_count": null,
   "metadata": {},
   "outputs": [],
   "source": [
    "df.description"
   ]
  },
  {
   "cell_type": "code",
   "execution_count": 11,
   "metadata": {},
   "outputs": [],
   "source": [
    "# drop all the empty strings\n",
    "df.replace('', float(\"NaN\"), inplace=True)\n",
    "df.dropna(inplace=True)"
   ]
  },
  {
   "cell_type": "code",
   "execution_count": 12,
   "metadata": {},
   "outputs": [
    {
     "data": {
      "text/html": [
       "<div>\n",
       "<style scoped>\n",
       "    .dataframe tbody tr th:only-of-type {\n",
       "        vertical-align: middle;\n",
       "    }\n",
       "\n",
       "    .dataframe tbody tr th {\n",
       "        vertical-align: top;\n",
       "    }\n",
       "\n",
       "    .dataframe thead th {\n",
       "        text-align: right;\n",
       "    }\n",
       "</style>\n",
       "<table border=\"1\" class=\"dataframe\">\n",
       "  <thead>\n",
       "    <tr style=\"text-align: right;\">\n",
       "      <th></th>\n",
       "      <th>title</th>\n",
       "      <th>channel_title</th>\n",
       "      <th>category_id</th>\n",
       "      <th>tags</th>\n",
       "      <th>description</th>\n",
       "    </tr>\n",
       "  </thead>\n",
       "  <tbody>\n",
       "    <tr>\n",
       "      <th>0</th>\n",
       "      <td>want;talk;marriag</td>\n",
       "      <td>caseyneistat</td>\n",
       "      <td>22</td>\n",
       "      <td>shantel;martin</td>\n",
       "      <td>shantel;channel;http;wwwyoutubecomshantellmart...</td>\n",
       "    </tr>\n",
       "    <tr>\n",
       "      <th>1</th>\n",
       "      <td>trump;presid;last;week;tonight;john;oliv;hbo</td>\n",
       "      <td>lastweektonight</td>\n",
       "      <td>24</td>\n",
       "      <td>last;week;tonight;trump;presid;last;week;tonig...</td>\n",
       "      <td>one;year;presidenti;elect;john;oliv;discuss;le...</td>\n",
       "    </tr>\n",
       "    <tr>\n",
       "      <th>2</th>\n",
       "      <td>racist;superman;rudi;mancuso;king;bach;lele;pon</td>\n",
       "      <td>rudi;mancuso</td>\n",
       "      <td>23</td>\n",
       "      <td>racist;superman;rudi;mancuso;king;bach;racist;...</td>\n",
       "      <td>watch;previou;video;nnsubscrib;http;watch;like...</td>\n",
       "    </tr>\n",
       "    <tr>\n",
       "      <th>3</th>\n",
       "      <td>nickelback;lyric;real;fake</td>\n",
       "      <td>good;mythic;morn</td>\n",
       "      <td>24</td>\n",
       "      <td>rhett;link;gmm;good;mythic;morn;rhett;link;goo...</td>\n",
       "      <td>today;find;link;nickelback;amateur;secret;nick...</td>\n",
       "    </tr>\n",
       "    <tr>\n",
       "      <th>4</th>\n",
       "      <td>dare;go;bald</td>\n",
       "      <td>nigahiga</td>\n",
       "      <td>24</td>\n",
       "      <td>ryan;higa;higatv;nigahiga;dare;idi;rhpc;dare;t...</td>\n",
       "      <td>know;sinc;show;back;might;best;episod;yet;nlea...</td>\n",
       "    </tr>\n",
       "    <tr>\n",
       "      <th>...</th>\n",
       "      <td>...</td>\n",
       "      <td>...</td>\n",
       "      <td>...</td>\n",
       "      <td>...</td>\n",
       "      <td>...</td>\n",
       "    </tr>\n",
       "    <tr>\n",
       "      <th>40762</th>\n",
       "      <td>drop;mic;w;ashton;kutcher;sean;diddi;comb</td>\n",
       "      <td>late;late;show;jame;corden</td>\n",
       "      <td>24</td>\n",
       "      <td>late;late;show;late;late;show;jame;corden;cord...</td>\n",
       "      <td>jame;corden;ashton;kutcher;squar;rap;battl;tak...</td>\n",
       "    </tr>\n",
       "    <tr>\n",
       "      <th>40764</th>\n",
       "      <td>carla;make;ba;smashburg;test;kitchen;bon;appétit</td>\n",
       "      <td>bon;appétit</td>\n",
       "      <td>26</td>\n",
       "      <td>bon;appetit;burger;cheeseburg;cook;test;kitche...</td>\n",
       "      <td>ground;chuck;great;allpurpos;buyitanywher;choi...</td>\n",
       "    </tr>\n",
       "    <tr>\n",
       "      <th>40766</th>\n",
       "      <td>katherin;langford;reason;australia;doctor;parent</td>\n",
       "      <td>jimmi;kimmel;live</td>\n",
       "      <td>24</td>\n",
       "      <td>jimmi;kimmel;live;late;night;talk;show;funni;c...</td>\n",
       "      <td>katherin;talk;learn;accent;grow;australia;pare...</td>\n",
       "    </tr>\n",
       "    <tr>\n",
       "      <th>40793</th>\n",
       "      <td>battlefield;offici;multiplay;trailer</td>\n",
       "      <td>battlefield</td>\n",
       "      <td>20</td>\n",
       "      <td>battlefield;battlefield;trailer;bfv;battlefiel...</td>\n",
       "      <td>v;launch;worldwid;octob;preorder;open;beta;ear...</td>\n",
       "    </tr>\n",
       "    <tr>\n",
       "      <th>40846</th>\n",
       "      <td>would;nt;leav</td>\n",
       "      <td>kany;west;topic</td>\n",
       "      <td>10</td>\n",
       "      <td>kany;west;partynextdoor;ye;would;nt;leav</td>\n",
       "      <td>provid;youtub;univers;music;groupwould;nt;leav...</td>\n",
       "    </tr>\n",
       "  </tbody>\n",
       "</table>\n",
       "<p>6997 rows × 5 columns</p>\n",
       "</div>"
      ],
      "text/plain": [
       "                                                  title  \\\n",
       "0                                     want;talk;marriag   \n",
       "1          trump;presid;last;week;tonight;john;oliv;hbo   \n",
       "2       racist;superman;rudi;mancuso;king;bach;lele;pon   \n",
       "3                            nickelback;lyric;real;fake   \n",
       "4                                          dare;go;bald   \n",
       "...                                                 ...   \n",
       "40762         drop;mic;w;ashton;kutcher;sean;diddi;comb   \n",
       "40764  carla;make;ba;smashburg;test;kitchen;bon;appétit   \n",
       "40766  katherin;langford;reason;australia;doctor;parent   \n",
       "40793              battlefield;offici;multiplay;trailer   \n",
       "40846                                     would;nt;leav   \n",
       "\n",
       "                    channel_title  category_id  \\\n",
       "0                    caseyneistat           22   \n",
       "1                 lastweektonight           24   \n",
       "2                    rudi;mancuso           23   \n",
       "3                good;mythic;morn           24   \n",
       "4                        nigahiga           24   \n",
       "...                           ...          ...   \n",
       "40762  late;late;show;jame;corden           24   \n",
       "40764                 bon;appétit           26   \n",
       "40766           jimmi;kimmel;live           24   \n",
       "40793                 battlefield           20   \n",
       "40846             kany;west;topic           10   \n",
       "\n",
       "                                                    tags  \\\n",
       "0                                         shantel;martin   \n",
       "1      last;week;tonight;trump;presid;last;week;tonig...   \n",
       "2      racist;superman;rudi;mancuso;king;bach;racist;...   \n",
       "3      rhett;link;gmm;good;mythic;morn;rhett;link;goo...   \n",
       "4      ryan;higa;higatv;nigahiga;dare;idi;rhpc;dare;t...   \n",
       "...                                                  ...   \n",
       "40762  late;late;show;late;late;show;jame;corden;cord...   \n",
       "40764  bon;appetit;burger;cheeseburg;cook;test;kitche...   \n",
       "40766  jimmi;kimmel;live;late;night;talk;show;funni;c...   \n",
       "40793  battlefield;battlefield;trailer;bfv;battlefiel...   \n",
       "40846           kany;west;partynextdoor;ye;would;nt;leav   \n",
       "\n",
       "                                             description  \n",
       "0      shantel;channel;http;wwwyoutubecomshantellmart...  \n",
       "1      one;year;presidenti;elect;john;oliv;discuss;le...  \n",
       "2      watch;previou;video;nnsubscrib;http;watch;like...  \n",
       "3      today;find;link;nickelback;amateur;secret;nick...  \n",
       "4      know;sinc;show;back;might;best;episod;yet;nlea...  \n",
       "...                                                  ...  \n",
       "40762  jame;corden;ashton;kutcher;squar;rap;battl;tak...  \n",
       "40764  ground;chuck;great;allpurpos;buyitanywher;choi...  \n",
       "40766  katherin;talk;learn;accent;grow;australia;pare...  \n",
       "40793  v;launch;worldwid;octob;preorder;open;beta;ear...  \n",
       "40846  provid;youtub;univers;music;groupwould;nt;leav...  \n",
       "\n",
       "[6997 rows x 5 columns]"
      ]
     },
     "execution_count": 12,
     "metadata": {},
     "output_type": "execute_result"
    }
   ],
   "source": [
    "df"
   ]
  },
  {
   "cell_type": "code",
   "execution_count": 13,
   "metadata": {},
   "outputs": [],
   "source": [
    "with open('data/US_category_id.json', 'r') as f:\n",
    "    data = json.load(f)\n",
    "    for item in data['items']:\n",
    "#         df.category_id.replace(item['snippet']['title'], item['id'], inplace=True)\n",
    "        df.replace({'category_id': int(item['id'])}, item['snippet']['title'], inplace=True)"
   ]
  },
  {
   "cell_type": "code",
   "execution_count": 14,
   "metadata": {},
   "outputs": [
    {
     "data": {
      "text/plain": [
       "0        People & Blogs\n",
       "1         Entertainment\n",
       "2                Comedy\n",
       "3         Entertainment\n",
       "4         Entertainment\n",
       "              ...      \n",
       "40762     Entertainment\n",
       "40764     Howto & Style\n",
       "40766     Entertainment\n",
       "40793            Gaming\n",
       "40846             Music\n",
       "Name: category_id, Length: 6997, dtype: object"
      ]
     },
     "execution_count": 14,
     "metadata": {},
     "output_type": "execute_result"
    }
   ],
   "source": [
    "df.category_id"
   ]
  },
  {
   "cell_type": "code",
   "execution_count": 15,
   "metadata": {},
   "outputs": [
    {
     "name": "stdout",
     "output_type": "stream",
     "text": [
      "<class 'pandas.core.frame.DataFrame'>\n",
      "Int64Index: 6757 entries, 0 to 40846\n",
      "Data columns (total 5 columns):\n",
      " #   Column         Non-Null Count  Dtype \n",
      "---  ------         --------------  ----- \n",
      " 0   title          6757 non-null   object\n",
      " 1   channel_title  6757 non-null   object\n",
      " 2   category_id    6757 non-null   object\n",
      " 3   tags           6757 non-null   object\n",
      " 4   description    6757 non-null   object\n",
      "dtypes: object(5)\n",
      "memory usage: 316.7+ KB\n"
     ]
    }
   ],
   "source": [
    "# drop all the nones\n",
    "df.replace('none', float(\"NaN\"), inplace=True)\n",
    "df.dropna(inplace=True)\n",
    "df.info()"
   ]
  },
  {
   "cell_type": "markdown",
   "metadata": {},
   "source": [
    "## Save Dataframe"
   ]
  },
  {
   "cell_type": "code",
   "execution_count": 16,
   "metadata": {},
   "outputs": [],
   "source": [
    "df.to_csv('data/clean.csv', columns=['title','channel_title','category_id','tags','description'], index=False)"
   ]
  },
  {
   "cell_type": "code",
   "execution_count": null,
   "metadata": {},
   "outputs": [],
   "source": [
    "%%time\n",
    "# save df object\n",
    "with open('data/df.pkl', 'wb') as f:\n",
    "    pickle.dump(df, f)"
   ]
  },
  {
   "cell_type": "markdown",
   "metadata": {},
   "source": [
    "## Load Dataframe"
   ]
  },
  {
   "cell_type": "code",
   "execution_count": null,
   "metadata": {},
   "outputs": [],
   "source": [
    "%%time\n",
    "# save df object\n",
    "with open('data/df.pkl', 'rb') as f:\n",
    "    df = pickle.load(f)"
   ]
  },
  {
   "cell_type": "code",
   "execution_count": null,
   "metadata": {},
   "outputs": [],
   "source": [
    "df.info()"
   ]
  },
  {
   "cell_type": "code",
   "execution_count": null,
   "metadata": {},
   "outputs": [],
   "source": [
    "df.tags[52]"
   ]
  },
  {
   "cell_type": "code",
   "execution_count": null,
   "metadata": {},
   "outputs": [],
   "source": []
  }
 ],
 "metadata": {
  "kernelspec": {
   "display_name": "Python 3",
   "language": "python",
   "name": "python3"
  },
  "language_info": {
   "codemirror_mode": {
    "name": "ipython",
    "version": 3
   },
   "file_extension": ".py",
   "mimetype": "text/x-python",
   "name": "python",
   "nbconvert_exporter": "python",
   "pygments_lexer": "ipython3",
   "version": "3.8.3"
  }
 },
 "nbformat": 4,
 "nbformat_minor": 4
}
