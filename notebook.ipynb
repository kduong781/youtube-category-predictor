{
 "cells": [
  {
   "cell_type": "code",
   "execution_count": 1,
   "metadata": {},
   "outputs": [],
   "source": [
    "import pandas as pd\n",
    "import numpy as np\n",
    "import nltk\n",
    "import string\n",
    "import progressbar\n",
    "import pickle\n",
    "import json\n",
    "import re\n",
    "from sklearn.feature_extraction.text import TfidfVectorizer\n",
    "from sklearn.model_selection import GridSearchCV\n",
    "\n",
    "\n",
    "from sklearn.model_selection import train_test_split\n",
    "from sklearn.naive_bayes import MultinomialNB\n",
    "from sklearn import linear_model\n",
    "from sklearn.ensemble import AdaBoostClassifier\n",
    "from sklearn.svm import LinearSVC\n",
    "\n",
    "from sklearn import metrics\n",
    "from sklearn.metrics import f1_score\n",
    "import matplotlib.pyplot as plt\n",
    "import seaborn as sns\n",
    "from sklearn.metrics import confusion_matrix\n",
    "import scikitplot as skplt\n",
    "\n",
    "pd.set_option(\"display.max_rows\", None)\n",
    "np.set_printoptions(threshold=np.inf)"
   ]
  },
  {
   "cell_type": "code",
   "execution_count": null,
   "metadata": {},
   "outputs": [],
   "source": [
    "# load the original dataset\n",
    "df = pd.read_csv('data/USvideos.csv')"
   ]
  },
  {
   "cell_type": "code",
   "execution_count": null,
   "metadata": {},
   "outputs": [],
   "source": [
    "df.columns"
   ]
  },
  {
   "cell_type": "code",
   "execution_count": null,
   "metadata": {},
   "outputs": [],
   "source": [
    "df.info()"
   ]
  },
  {
   "cell_type": "code",
   "execution_count": null,
   "metadata": {},
   "outputs": [],
   "source": [
    "# drop rows with missing values\n",
    "df.dropna(inplace=True)\n",
    "# df = df.dropna()"
   ]
  },
  {
   "cell_type": "code",
   "execution_count": null,
   "metadata": {},
   "outputs": [],
   "source": [
    "df.info()"
   ]
  },
  {
   "cell_type": "code",
   "execution_count": null,
   "metadata": {},
   "outputs": [],
   "source": [
    "# drop all unnecessary columns\n",
    "df.drop(df.columns[[0,1,5,7,8,9,10,11,12,13,14]], axis=1, inplace=True)\n",
    "# df = df.drop(df.columns[[0,1,5,7,8,9,10,11,12,13,14]], axis=1)"
   ]
  },
  {
   "cell_type": "code",
   "execution_count": null,
   "metadata": {},
   "outputs": [],
   "source": [
    "df.drop_duplicates(subset=[\"title\",\"channel_title\",\"tags\",\"description\"], inplace=True)\n",
    "df.info()"
   ]
  },
  {
   "cell_type": "markdown",
   "metadata": {},
   "source": [
    "# TEST"
   ]
  },
  {
   "cell_type": "code",
   "execution_count": null,
   "metadata": {},
   "outputs": [],
   "source": [
    "# print(df.description[0])\n",
    "# print(df.tags[1])\n",
    "# print(df.tags[2])\n",
    "# print(df.tags[3])\n",
    "print(df.description[52])\n",
    "# print(df.tags[40948])"
   ]
  },
  {
   "cell_type": "code",
   "execution_count": null,
   "metadata": {},
   "outputs": [],
   "source": [
    "# remove urls from string\n",
    "# re.sub(r'^https?:\\/\\/.*[\\r\\n]*', '', df.description[52], flags=re.MULTILINE)\n",
    "line = re.sub(r'\\w+:\\/{2}[\\d\\w-]+(\\.[\\d\\w-]+)*(?:(?:\\/[^\\s/]*))*', '', df.description[52])\n",
    "line"
   ]
  },
  {
   "cell_type": "code",
   "execution_count": null,
   "metadata": {},
   "outputs": [],
   "source": [
    "# tokenize and lowercase the strings\n",
    "tokens = nltk.word_tokenize(line)\n",
    "tokens = [word.lower() for word in tokens]\n",
    "tokens"
   ]
  },
  {
   "cell_type": "code",
   "execution_count": null,
   "metadata": {},
   "outputs": [],
   "source": [
    "# strip punctuation from words\n",
    "table = str.maketrans('', '', string.punctuation)\n",
    "stripped = [w.translate(table) for w in tokens]\n",
    "stripped"
   ]
  },
  {
   "cell_type": "code",
   "execution_count": null,
   "metadata": {},
   "outputs": [],
   "source": [
    "# remove all non words\n",
    "words = [word for word in stripped if word.isalpha()]\n",
    "words"
   ]
  },
  {
   "cell_type": "code",
   "execution_count": null,
   "metadata": {},
   "outputs": [],
   "source": [
    "# remove all non important words\n",
    "stop_words = nltk.corpus.stopwords.words('english')\n",
    "words = [w for w in words if not w in stop_words]\n",
    "words"
   ]
  },
  {
   "cell_type": "code",
   "execution_count": null,
   "metadata": {},
   "outputs": [],
   "source": [
    "# stems words to their roots\n",
    "porter = nltk.stem.porter.PorterStemmer()\n",
    "stemmed = [porter.stem(word) for word in words]\n",
    "stemmed"
   ]
  },
  {
   "cell_type": "code",
   "execution_count": null,
   "metadata": {},
   "outputs": [],
   "source": [
    "%%time\n",
    "table = str.maketrans('', '', string.punctuation)\n",
    "stop_words = nltk.corpus.stopwords.words('english')\n",
    "porter = nltk.stem.porter.PorterStemmer()\n",
    "index = 0\n",
    "for row in progressbar.progressbar(df.title):\n",
    "    tokens = nltk.word_tokenize(row)\n",
    "    tokens = [word.lower() for word in tokens]\n",
    "    stripped = [w.translate(table) for w in tokens]\n",
    "    words = [word for word in stripped if word.isalpha()]\n",
    "    words = [w for w in words if not w in stop_words]\n",
    "    stemmed = [porter.stem(word) for word in words]\n",
    "    df.title[index] = ';'.join(stemmed)\n",
    "    index += 1\n",
    "    \n",
    "index = 0\n",
    "for row in progressbar.progressbar(df.channel_title):\n",
    "    tokens = nltk.word_tokenize(row)\n",
    "    tokens = [word.lower() for word in tokens]\n",
    "    stripped = [w.translate(table) for w in tokens]\n",
    "    words = [word for word in stripped if word.isalpha()]\n",
    "    words = [w for w in words if not w in stop_words]\n",
    "    stemmed = [porter.stem(word) for word in words]\n",
    "    df.description[index] = ';'.join(stemmed)\n",
    "    index += 1\n",
    "    \n",
    "# index = 0\n",
    "# for row in progressbar.progressbar(df.tags):\n",
    "#     tokens = nltk.word_tokenize(row)\n",
    "#     tokens = [word.lower() for word in tokens]\n",
    "#     stripped = [w.translate(table) for w in tokens]\n",
    "#     words = [word for word in stripped if word.isalpha()]\n",
    "#     words = [w for w in words if not w in stop_words]\n",
    "#     stemmed = [porter.stem(word) for word in words]\n",
    "#     df.tags[index] = ';'.join(stemmed)\n",
    "#     index += 1\n",
    "    \n",
    "# index = 0\n",
    "# for row in progressbar.progressbar(df.tags):\n",
    "#     tokens = nltk.word_tokenize(row)\n",
    "#     tokens = [word.lower() for word in tokens]\n",
    "#     stripped = [w.translate(table) for w in tokens]\n",
    "#     words = [word for word in stripped if word.isalpha()]\n",
    "#     words = [w for w in words if not w in stop_words]\n",
    "#     stemmed = [porter.stem(word) for word in words]\n",
    "#     df.title[index] = ';'.join(stemmed)\n",
    "#     index += 1"
   ]
  },
  {
   "cell_type": "markdown",
   "metadata": {},
   "source": [
    "## END TEST"
   ]
  },
  {
   "cell_type": "code",
   "execution_count": null,
   "metadata": {},
   "outputs": [],
   "source": [
    "def clean(df, column):\n",
    "    '''\n",
    "        Cleans the strings in specified column\n",
    "    '''\n",
    "    list = []\n",
    "    print(column)\n",
    "    table = str.maketrans('', '', string.punctuation)\n",
    "    stop_words = nltk.corpus.stopwords.words('english')\n",
    "    porter = nltk.stem.porter.PorterStemmer()\n",
    "    for row in progressbar.progressbar(df[column]):\n",
    "        index = df[column][df[column] == row].index.tolist()[0]\n",
    "        line = re.sub(r'\\w+:\\/{2}[\\d\\w-]+(\\.[\\d\\w-]+)*(?:(?:\\/[^\\s/]*))*', '', row)\n",
    "        tokens = nltk.word_tokenize(line)\n",
    "        tokens = [word.lower() for word in tokens]\n",
    "        stripped = [w.translate(table) for w in tokens]\n",
    "        words = [word for word in stripped if word.isalpha()]\n",
    "        words = [w for w in words if not w in stop_words]\n",
    "        stemmed = [porter.stem(word) for word in words]\n",
    "        stemmed = [word.strip() for word in stemmed if len(word) > 3]\n",
    "#         df[column][index] = ';'.join(stemmed)\n",
    "        df[column][index] = ' '.join(stemmed)"
   ]
  },
  {
   "cell_type": "code",
   "execution_count": null,
   "metadata": {},
   "outputs": [],
   "source": [
    "%%time\n",
    "title = clean(df, \"title\")\n",
    "channel_title = clean(df, \"channel_title\")\n",
    "tags = clean(df, \"tags\")\n",
    "description = clean(df, \"description\")"
   ]
  },
  {
   "cell_type": "code",
   "execution_count": null,
   "metadata": {
    "scrolled": true
   },
   "outputs": [],
   "source": [
    "df.title"
   ]
  },
  {
   "cell_type": "code",
   "execution_count": null,
   "metadata": {},
   "outputs": [],
   "source": [
    "df.channel_title"
   ]
  },
  {
   "cell_type": "code",
   "execution_count": null,
   "metadata": {},
   "outputs": [],
   "source": [
    "df.channel_title[23]"
   ]
  },
  {
   "cell_type": "code",
   "execution_count": null,
   "metadata": {},
   "outputs": [],
   "source": [
    "df.tags"
   ]
  },
  {
   "cell_type": "code",
   "execution_count": null,
   "metadata": {},
   "outputs": [],
   "source": [
    "df.description"
   ]
  },
  {
   "cell_type": "code",
   "execution_count": null,
   "metadata": {},
   "outputs": [],
   "source": [
    "# drop all the empty strings\n",
    "df.replace('', float(\"NaN\"), inplace=True)\n",
    "df.dropna(inplace=True)"
   ]
  },
  {
   "cell_type": "code",
   "execution_count": null,
   "metadata": {},
   "outputs": [],
   "source": [
    "df"
   ]
  },
  {
   "cell_type": "code",
   "execution_count": null,
   "metadata": {},
   "outputs": [],
   "source": [
    "# DON'T DO THIS, CATEGORIES ARE ALREADY ENCODED FOR US\n",
    "with open('data/US_category_id.json', 'r') as f:\n",
    "    data = json.load(f)\n",
    "    for item in data['items']:\n",
    "        df.replace({'category_id': int(item['id'])}, item['snippet']['title'], inplace=True)"
   ]
  },
  {
   "cell_type": "code",
   "execution_count": null,
   "metadata": {},
   "outputs": [],
   "source": [
    "df.category_id"
   ]
  },
  {
   "cell_type": "code",
   "execution_count": null,
   "metadata": {},
   "outputs": [],
   "source": [
    "# drop all the nones\n",
    "df.replace('none', float(\"NaN\"), inplace=True)\n",
    "df.dropna(inplace=True)\n",
    "df = df[['title', 'channel_title', 'tags', 'description', 'category_id']]\n",
    "df.info()"
   ]
  },
  {
   "cell_type": "code",
   "execution_count": null,
   "metadata": {},
   "outputs": [],
   "source": [
    "df.drop(df.columns[[1]], axis=1, inplace=True)\n",
    "print(df.info())\n",
    "df"
   ]
  },
  {
   "cell_type": "markdown",
   "metadata": {},
   "source": [
    "## Save Dataframe"
   ]
  },
  {
   "cell_type": "code",
   "execution_count": null,
   "metadata": {},
   "outputs": [],
   "source": [
    "df.to_csv('data/clean.csv', columns=['title','channel_title','category_id','tags','description'], index=False)"
   ]
  },
  {
   "cell_type": "code",
   "execution_count": null,
   "metadata": {},
   "outputs": [],
   "source": [
    "%%time\n",
    "# save df object\n",
    "with open('data/df.pkl', 'wb') as f:\n",
    "    pickle.dump(df, f)"
   ]
  },
  {
   "cell_type": "markdown",
   "metadata": {},
   "source": [
    "## Load Dataframe"
   ]
  },
  {
   "cell_type": "code",
   "execution_count": 2,
   "metadata": {},
   "outputs": [
    {
     "name": "stdout",
     "output_type": "stream",
     "text": [
      "Wall time: 45.9 ms\n"
     ]
    }
   ],
   "source": [
    "%%time\n",
    "# save df object\n",
    "with open('data/df.pkl', 'rb') as f:\n",
    "    df = pickle.load(f)"
   ]
  },
  {
   "cell_type": "code",
   "execution_count": null,
   "metadata": {},
   "outputs": [],
   "source": [
    "df"
   ]
  },
  {
   "cell_type": "markdown",
   "metadata": {},
   "source": [
    "## TFIDF Vectorization"
   ]
  },
  {
   "cell_type": "code",
   "execution_count": 3,
   "metadata": {},
   "outputs": [
    {
     "name": "stdout",
     "output_type": "stream",
     "text": [
      "Title Features Shape: (6263, 1860)\n",
      "Tags Features Shape: (6263, 8074)\n",
      "Description Features Shape: (6263, 17458)\n",
      "Wall time: 1.5 s\n"
     ]
    }
   ],
   "source": [
    "%%time\n",
    "tfidf_title = TfidfVectorizer(sublinear_tf=True, min_df=5, norm='l2', encoding='latin-1', ngram_range=(1, 2), stop_words='english')\n",
    "tfidf_tags = TfidfVectorizer(sublinear_tf=True, min_df=5, norm='l2', encoding='latin-1', ngram_range=(1, 2), stop_words='english')\n",
    "tfidf_description = TfidfVectorizer(sublinear_tf=True, min_df=5, norm='l2', encoding='latin-1', ngram_range=(1, 2), stop_words='english')\n",
    "\n",
    "features_title = tfidf_title.fit_transform(df.title).toarray()\n",
    "features_tags = tfidf_tags.fit_transform(df.tags).toarray()\n",
    "features_description = tfidf_description.fit_transform(df.description).toarray()\n",
    "labels = df.category_id\n",
    "print('Title Features Shape: ' + str(features_title.shape))\n",
    "print('Tags Features Shape: ' + str(features_tags.shape))\n",
    "print('Description Features Shape: ' + str(features_description.shape))"
   ]
  },
  {
   "cell_type": "markdown",
   "metadata": {},
   "source": [
    "# Train Test Split"
   ]
  },
  {
   "cell_type": "code",
   "execution_count": 4,
   "metadata": {},
   "outputs": [
    {
     "name": "stdout",
     "output_type": "stream",
     "text": [
      "Wall time: 1.73 s\n"
     ]
    }
   ],
   "source": [
    "%%time\n",
    "# X_train, X_test, y_train, y_test = train_test_split(df.iloc[:, 0:3], df.category_id, random_state=123)\n",
    "X_train, X_test, y_train, y_test = train_test_split(df.iloc[:, 0:4], df.category_id, random_state=123)\n",
    "X_train_title_features = tfidf_title.transform(X_train.title).toarray()\n",
    "X_train_tags_features = tfidf_tags.transform(X_train.tags).toarray()\n",
    "X_train_description_features = tfidf_description.transform(X_train.description).toarray()\n",
    "\n",
    "X_test_title_features = tfidf_title.transform(X_test.title).toarray()\n",
    "X_test_tags_features = tfidf_tags.transform(X_test.tags).toarray()\n",
    "X_test_description_features = tfidf_description.transform(X_test.description).toarray()\n",
    "\n",
    "features = np.concatenate([X_train_title_features, X_train_tags_features, X_train_description_features], axis=1)\n",
    "test_features = np.concatenate([X_test_title_features, X_test_tags_features, X_test_description_features], axis=1)"
   ]
  },
  {
   "cell_type": "code",
   "execution_count": 5,
   "metadata": {},
   "outputs": [
    {
     "data": {
      "text/plain": [
       "(4697, 27392)"
      ]
     },
     "execution_count": 5,
     "metadata": {},
     "output_type": "execute_result"
    }
   ],
   "source": [
    "features.shape"
   ]
  },
  {
   "cell_type": "code",
   "execution_count": 6,
   "metadata": {},
   "outputs": [
    {
     "data": {
      "text/plain": [
       "(1566, 27392)"
      ]
     },
     "execution_count": 6,
     "metadata": {},
     "output_type": "execute_result"
    }
   ],
   "source": [
    "test_features.shape"
   ]
  },
  {
   "cell_type": "markdown",
   "metadata": {},
   "source": [
    "# Linear SVC"
   ]
  },
  {
   "cell_type": "code",
   "execution_count": 7,
   "metadata": {},
   "outputs": [],
   "source": [
    "svm = LinearSVC(random_state=123)"
   ]
  },
  {
   "cell_type": "code",
   "execution_count": 9,
   "metadata": {},
   "outputs": [
    {
     "name": "stdout",
     "output_type": "stream",
     "text": [
      "Wall time: 1.45 s\n"
     ]
    },
    {
     "data": {
      "text/plain": [
       "LinearSVC(random_state=123)"
      ]
     },
     "execution_count": 9,
     "metadata": {},
     "output_type": "execute_result"
    }
   ],
   "source": [
    "%%time\n",
    "svm.fit(features, X_train.category_id)"
   ]
  },
  {
   "cell_type": "code",
   "execution_count": 10,
   "metadata": {},
   "outputs": [
    {
     "name": "stdout",
     "output_type": "stream",
     "text": [
      "Wall time: 168 ms\n"
     ]
    },
    {
     "data": {
      "text/plain": [
       "0.8352490421455939"
      ]
     },
     "execution_count": 10,
     "metadata": {},
     "output_type": "execute_result"
    }
   ],
   "source": [
    "%%time\n",
    "svm.score(test_features, X_test.category_id)"
   ]
  },
  {
   "cell_type": "code",
   "execution_count": 13,
   "metadata": {},
   "outputs": [
    {
     "name": "stdout",
     "output_type": "stream",
     "text": [
      "Wall time: 135 ms\n"
     ]
    },
    {
     "data": {
      "text/plain": [
       "0.7424935741879264"
      ]
     },
     "execution_count": 13,
     "metadata": {},
     "output_type": "execute_result"
    }
   ],
   "source": [
    "%%time\n",
    "predictions = svm.predict(test_features)\n",
    "f1_score(X_test.category_id, predictions, average='macro')"
   ]
  },
  {
   "cell_type": "code",
   "execution_count": 8,
   "metadata": {},
   "outputs": [],
   "source": [
    "parameters = {\n",
    "    'loss': ('hinge', 'squared_hinge'),\n",
    "    'C':[1,5,10,15,20],\n",
    "    'fit_intercept': (True, False),\n",
    "    'tol':[1e-4, 1e-6, 1e-8],\n",
    "}\n",
    "clf = GridSearchCV(svm, parameters, n_jobs=-1, cv=4)"
   ]
  },
  {
   "cell_type": "code",
   "execution_count": 13,
   "metadata": {},
   "outputs": [
    {
     "name": "stdout",
     "output_type": "stream",
     "text": [
      "Wall time: 12min 26s\n"
     ]
    },
    {
     "name": "stderr",
     "output_type": "stream",
     "text": [
      "C:\\Users\\Zan\\anaconda3\\lib\\site-packages\\sklearn\\svm\\_base.py:976: ConvergenceWarning: Liblinear failed to converge, increase the number of iterations.\n",
      "  warnings.warn(\"Liblinear failed to converge, increase \"\n"
     ]
    },
    {
     "data": {
      "text/plain": [
       "GridSearchCV(cv=5, estimator=LinearSVC(random_state=123), n_jobs=-1,\n",
       "             param_grid={'C': [1, 5, 10, 15, 20],\n",
       "                         'fit_intercept': (True, False),\n",
       "                         'loss': ('hinge', 'squared_hinge'),\n",
       "                         'tol': [0.0001, 1e-06, 1e-08]})"
      ]
     },
     "execution_count": 13,
     "metadata": {},
     "output_type": "execute_result"
    }
   ],
   "source": [
    "%%time\n",
    "features = np.concatenate([features_title, features_tags, features_description], axis=1)\n",
    "clf.fit(features, labels)"
   ]
  },
  {
   "cell_type": "code",
   "execution_count": 15,
   "metadata": {},
   "outputs": [
    {
     "name": "stdout",
     "output_type": "stream",
     "text": [
      "0.79052739877967\n",
      "{'C': 1, 'fit_intercept': False, 'loss': 'hinge', 'tol': 0.0001}\n"
     ]
    }
   ],
   "source": [
    "print(clf.best_score_)\n",
    "print(clf.best_params_)"
   ]
  },
  {
   "cell_type": "code",
   "execution_count": 9,
   "metadata": {},
   "outputs": [
    {
     "name": "stdout",
     "output_type": "stream",
     "text": [
      "Wall time: 4min 12s\n"
     ]
    },
    {
     "data": {
      "text/plain": [
       "GridSearchCV(cv=4, estimator=LinearSVC(random_state=123), n_jobs=-1,\n",
       "             param_grid={'C': [1, 5, 10, 15, 20],\n",
       "                         'fit_intercept': (True, False),\n",
       "                         'loss': ('hinge', 'squared_hinge'),\n",
       "                         'tol': [0.0001, 1e-06, 1e-08]})"
      ]
     },
     "execution_count": 9,
     "metadata": {},
     "output_type": "execute_result"
    }
   ],
   "source": [
    "%%time\n",
    "clf.fit(features, X_train.category_id)"
   ]
  },
  {
   "cell_type": "code",
   "execution_count": 19,
   "metadata": {},
   "outputs": [
    {
     "data": {
      "text/plain": [
       "['mean_fit_time',\n",
       " 'mean_score_time',\n",
       " 'mean_test_score',\n",
       " 'param_C',\n",
       " 'param_fit_intercept',\n",
       " 'param_loss',\n",
       " 'params',\n",
       " 'rank_test_score',\n",
       " 'split0_test_score',\n",
       " 'split1_test_score',\n",
       " 'split2_test_score',\n",
       " 'split3_test_score',\n",
       " 'split4_test_score',\n",
       " 'std_fit_time',\n",
       " 'std_score_time',\n",
       " 'std_test_score']"
      ]
     },
     "execution_count": 19,
     "metadata": {},
     "output_type": "execute_result"
    }
   ],
   "source": [
    "sorted(clf.cv_results_.keys())"
   ]
  },
  {
   "cell_type": "code",
   "execution_count": 10,
   "metadata": {},
   "outputs": [
    {
     "name": "stdout",
     "output_type": "stream",
     "text": [
      "0.8273344448874551\n",
      "{'C': 1, 'fit_intercept': False, 'loss': 'squared_hinge', 'tol': 0.0001}\n"
     ]
    }
   ],
   "source": [
    "print(clf.best_score_)\n",
    "print(clf.best_params_)"
   ]
  },
  {
   "cell_type": "code",
   "execution_count": 12,
   "metadata": {},
   "outputs": [
    {
     "name": "stdout",
     "output_type": "stream",
     "text": [
      "Wall time: 85.1 ms\n"
     ]
    },
    {
     "data": {
      "text/plain": [
       "0.8017550411667584"
      ]
     },
     "execution_count": 12,
     "metadata": {},
     "output_type": "execute_result"
    }
   ],
   "source": [
    "%%time\n",
    "predictions = clf.best_estimator_.predict(test_features)\n",
    "f1_score(X_test.category_id, predictions, average='macro')"
   ]
  },
  {
   "cell_type": "code",
   "execution_count": null,
   "metadata": {},
   "outputs": [],
   "source": []
  }
 ],
 "metadata": {
  "kernelspec": {
   "display_name": "Python 3",
   "language": "python",
   "name": "python3"
  },
  "language_info": {
   "codemirror_mode": {
    "name": "ipython",
    "version": 3
   },
   "file_extension": ".py",
   "mimetype": "text/x-python",
   "name": "python",
   "nbconvert_exporter": "python",
   "pygments_lexer": "ipython3",
   "version": "3.8.3"
  }
 },
 "nbformat": 4,
 "nbformat_minor": 4
}
