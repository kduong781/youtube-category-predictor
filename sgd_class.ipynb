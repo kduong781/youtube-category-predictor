{
 "cells": [
  {
   "cell_type": "code",
   "execution_count": 154,
   "id": "acute-landscape",
   "metadata": {},
   "outputs": [
    {
     "name": "stderr",
     "output_type": "stream",
     "text": [
      "[nltk_data] Downloading package punkt to /home/wardhuang/nltk_data...\n",
      "[nltk_data]   Package punkt is already up-to-date!\n"
     ]
    },
    {
     "data": {
      "text/plain": [
       "True"
      ]
     },
     "execution_count": 154,
     "metadata": {},
     "output_type": "execute_result"
    }
   ],
   "source": [
    "import pandas as pd\n",
    "import numpy as np\n",
    "import unidecode\n",
    "import json\n",
    "import string\n",
    "from time import time\n",
    "import re\n",
    "\n",
    "%matplotlib inline\n",
    "import matplotlib.pyplot as plt\n",
    "from progressbar import ProgressBar\n",
    "from urlextract import URLExtract\n",
    "from collections import defaultdict, Counter\n",
    "\n",
    "from sklearn import metrics\n",
    "from sklearn.metrics import f1_score\n",
    "from sklearn.utils.extmath import density\n",
    "from sklearn.svm import LinearSVC, SVC\n",
    "from sklearn.linear_model import SGDClassifier\n",
    "from sklearn.naive_bayes import BernoulliNB, ComplementNB, MultinomialNB\n",
    "from sklearn.feature_extraction.text import CountVectorizer\n",
    "from sklearn.model_selection import train_test_split\n",
    "from sklearn.feature_extraction.text import TfidfTransformer\n",
    "\n",
    "import nltk\n",
    "from nltk.corpus import stopwords\n",
    "from nltk.stem.porter import PorterStemmer\n",
    "nltk.download('punkt')"
   ]
  },
  {
   "cell_type": "markdown",
   "id": "aggressive-estate",
   "metadata": {},
   "source": [
    "## Loading files into dataframes"
   ]
  },
  {
   "cell_type": "code",
   "execution_count": 2,
   "id": "previous-proceeding",
   "metadata": {
    "scrolled": false
   },
   "outputs": [],
   "source": [
    "us_videos = pd.read_csv('./USvideos.csv')\n",
    "ca_videos = pd.read_csv('./CAvideos.csv')\n",
    "gb_videos = pd.read_csv('./GBvideos.csv')"
   ]
  },
  {
   "cell_type": "code",
   "execution_count": 3,
   "id": "capable-parish",
   "metadata": {},
   "outputs": [
    {
     "data": {
      "text/plain": [
       "(40949, 16)"
      ]
     },
     "execution_count": 3,
     "metadata": {},
     "output_type": "execute_result"
    }
   ],
   "source": [
    "us_videos.shape"
   ]
  },
  {
   "cell_type": "code",
   "execution_count": 4,
   "id": "opening-litigation",
   "metadata": {},
   "outputs": [
    {
     "data": {
      "text/plain": [
       "(40881, 16)"
      ]
     },
     "execution_count": 4,
     "metadata": {},
     "output_type": "execute_result"
    }
   ],
   "source": [
    "ca_videos.shape"
   ]
  },
  {
   "cell_type": "code",
   "execution_count": 5,
   "id": "ranging-evolution",
   "metadata": {},
   "outputs": [
    {
     "data": {
      "text/plain": [
       "(38916, 16)"
      ]
     },
     "execution_count": 5,
     "metadata": {},
     "output_type": "execute_result"
    }
   ],
   "source": [
    "gb_videos.shape"
   ]
  },
  {
   "cell_type": "code",
   "execution_count": 8,
   "id": "mechanical-snake",
   "metadata": {},
   "outputs": [],
   "source": [
    "combined_videos = us_videos.append(ca_videos, ignore_index=True).append(gb_videos, ignore_index=True)"
   ]
  },
  {
   "cell_type": "code",
   "execution_count": 146,
   "id": "bound-brain",
   "metadata": {},
   "outputs": [
    {
     "data": {
      "text/plain": [
       "(120746, 16)"
      ]
     },
     "execution_count": 146,
     "metadata": {},
     "output_type": "execute_result"
    }
   ],
   "source": [
    "combined_videos.shape"
   ]
  },
  {
   "cell_type": "markdown",
   "id": "organic-liabilities",
   "metadata": {},
   "source": [
    "Load the json categories into a python dictionary"
   ]
  },
  {
   "cell_type": "code",
   "execution_count": 10,
   "id": "suited-ethiopia",
   "metadata": {},
   "outputs": [],
   "source": [
    "def load_categories(fn):\n",
    "    cat_str = \"\" # the json string\n",
    "\n",
    "    with open(fn, 'r') as f:\n",
    "        cat_str = f.read()\n",
    "    \n",
    "    # python dictionary\n",
    "    cat_obj = json.loads(cat_str)\n",
    "\n",
    "    # array of dictionaries\n",
    "    cats_arr = cat_obj['items']\n",
    "\n",
    "    # dataframe\n",
    "    df = pd.json_normalize(cats_arr).convert_dtypes()\n",
    "\n",
    "    # convert id to int\n",
    "    df['id'] = pd.to_numeric(df['id'])\n",
    "\n",
    "    # select just id and title\n",
    "    df = df.loc[:,['id', 'snippet.title']]\n",
    "\n",
    "    return df"
   ]
  },
  {
   "cell_type": "code",
   "execution_count": 11,
   "id": "cultural-prototype",
   "metadata": {},
   "outputs": [],
   "source": [
    "us_cats = load_categories('./US_category_id.json')\n",
    "ca_cats = load_categories('./CA_category_id.json')\n",
    "gb_cats = load_categories('./GB_category_id.json')"
   ]
  },
  {
   "cell_type": "code",
   "execution_count": 12,
   "id": "lined-graphics",
   "metadata": {},
   "outputs": [
    {
     "data": {
      "text/plain": [
       "(31, 2)"
      ]
     },
     "execution_count": 12,
     "metadata": {},
     "output_type": "execute_result"
    }
   ],
   "source": [
    "ca_cats.shape"
   ]
  },
  {
   "cell_type": "code",
   "execution_count": 13,
   "id": "facial-mason",
   "metadata": {},
   "outputs": [
    {
     "data": {
      "text/plain": [
       "(31, 2)"
      ]
     },
     "execution_count": 13,
     "metadata": {},
     "output_type": "execute_result"
    }
   ],
   "source": [
    "gb_cats.shape"
   ]
  },
  {
   "cell_type": "markdown",
   "id": "italian-davis",
   "metadata": {},
   "source": [
    "Extra category in us categories, but the rest of the categories are the same"
   ]
  },
  {
   "cell_type": "code",
   "execution_count": 14,
   "id": "integrated-therapist",
   "metadata": {},
   "outputs": [
    {
     "data": {
      "text/plain": [
       "(32, 2)"
      ]
     },
     "execution_count": 14,
     "metadata": {},
     "output_type": "execute_result"
    }
   ],
   "source": [
    "us_cats.shape"
   ]
  },
  {
   "cell_type": "markdown",
   "id": "private-holocaust",
   "metadata": {},
   "source": [
    "## Select columns from us_videos\n",
    "\n",
    "We select the columns with identifying information, classification, and text descriptions"
   ]
  },
  {
   "cell_type": "code",
   "execution_count": 27,
   "id": "cellular-virginia",
   "metadata": {
    "scrolled": true
   },
   "outputs": [
    {
     "name": "stdout",
     "output_type": "stream",
     "text": [
      "<class 'pandas.core.frame.DataFrame'>\n",
      "RangeIndex: 120746 entries, 0 to 120745\n",
      "Data columns (total 5 columns):\n",
      " #   Column         Non-Null Count   Dtype \n",
      "---  ------         --------------   ----- \n",
      " 0   title          120746 non-null  string\n",
      " 1   channel_title  120746 non-null  string\n",
      " 2   category_id    120746 non-null  Int64 \n",
      " 3   tags           120746 non-null  string\n",
      " 4   description    118268 non-null  string\n",
      "dtypes: Int64(1), string(4)\n",
      "memory usage: 4.7 MB\n"
     ]
    }
   ],
   "source": [
    "df = combined_videos.loc[:,['title', 'channel_title', 'category_id', 'tags', 'description']].convert_dtypes()\n",
    "df.info()"
   ]
  },
  {
   "cell_type": "code",
   "execution_count": 28,
   "id": "human-evans",
   "metadata": {},
   "outputs": [
    {
     "name": "stdout",
     "output_type": "stream",
     "text": [
      "title            30713\n",
      "channel_title    30713\n",
      "category_id      30713\n",
      "tags             30713\n",
      "description      29622\n",
      "dtype: int64 \n",
      "\n"
     ]
    },
    {
     "data": {
      "text/html": [
       "<div>\n",
       "<style scoped>\n",
       "    .dataframe tbody tr th:only-of-type {\n",
       "        vertical-align: middle;\n",
       "    }\n",
       "\n",
       "    .dataframe tbody tr th {\n",
       "        vertical-align: top;\n",
       "    }\n",
       "\n",
       "    .dataframe thead th {\n",
       "        text-align: right;\n",
       "    }\n",
       "</style>\n",
       "<table border=\"1\" class=\"dataframe\">\n",
       "  <thead>\n",
       "    <tr style=\"text-align: right;\">\n",
       "      <th></th>\n",
       "      <th>title</th>\n",
       "      <th>channel_title</th>\n",
       "      <th>tags</th>\n",
       "      <th>description</th>\n",
       "      <th>category</th>\n",
       "    </tr>\n",
       "  </thead>\n",
       "  <tbody>\n",
       "    <tr>\n",
       "      <th>0</th>\n",
       "      <td>WE WANT TO TALK ABOUT OUR MARRIAGE</td>\n",
       "      <td>CaseyNeistat</td>\n",
       "      <td>SHANtell martin</td>\n",
       "      <td>SHANTELL'S CHANNEL - https://www.youtube.com/s...</td>\n",
       "      <td>People &amp; Blogs</td>\n",
       "    </tr>\n",
       "  </tbody>\n",
       "</table>\n",
       "</div>"
      ],
      "text/plain": [
       "                                title channel_title             tags  \\\n",
       "0  WE WANT TO TALK ABOUT OUR MARRIAGE  CaseyNeistat  SHANtell martin   \n",
       "\n",
       "                                         description        category  \n",
       "0  SHANTELL'S CHANNEL - https://www.youtube.com/s...  People & Blogs  "
      ]
     },
     "execution_count": 28,
     "metadata": {},
     "output_type": "execute_result"
    }
   ],
   "source": [
    "dfd = df.drop_duplicates(subset=['title', 'channel_title'], ignore_index=True)\n",
    "\n",
    "print(dfd.count(), \"\\n\")\n",
    "\n",
    "# merge on category_id\n",
    "dfd = dfd.merge(us_cats, left_on='category_id', right_on='id')\n",
    "\n",
    "# drop category_id\n",
    "dfd = dfd.drop(['id', 'category_id'], axis=1)\n",
    "dfd = dfd.rename(columns={\"snippet.title\": \"category\"})\n",
    "dfd.head(1)"
   ]
  },
  {
   "cell_type": "markdown",
   "id": "widespread-directive",
   "metadata": {},
   "source": [
    "## Text Preprocessing\n",
    "\n",
    "Things to consider removing:\n",
    "- emails: `c.amber@gmail.com`\n",
    "- normal urls: `http://facebook.com`\n",
    "- other urls: `www.facebook.com`\n",
    "- unicode: `\\xa0`\n",
    "- punctuation: `!\"#$%&\\'()*+,-./:;<=>?@[\\\\]^_{|}~`\n",
    "- numbers: `1234`\n",
    "- nonsense: `PLvahqwMqN4M35d1XdbUEWZT_r36Z6tIz3`"
   ]
  },
  {
   "cell_type": "code",
   "execution_count": 29,
   "id": "occasional-scholarship",
   "metadata": {},
   "outputs": [],
   "source": [
    "en_stops = set([word.replace(\"'\", '') for word in stopwords.words('english')])\n",
    "\n",
    "# custom stop_words\n",
    "custom_stops = set([\"cant\", \"follow\", \"subscribe\", \"like\", \"comment\"])\n",
    "\n",
    "# terms to ignore\n",
    "ignore = en_stops | custom_stops\n",
    "\n",
    "# special characters to remove\n",
    "specials = r'[' + re.escape(string.punctuation) + ']'\n",
    "\n",
    "porter_stemmer = PorterStemmer()"
   ]
  },
  {
   "cell_type": "code",
   "execution_count": 30,
   "id": "advanced-lawsuit",
   "metadata": {},
   "outputs": [
    {
     "data": {
      "text/plain": [
       "'!\"#$%&\\'()*+,-./:;<=>?@[\\\\]^_`{|}~'"
      ]
     },
     "execution_count": 30,
     "metadata": {},
     "output_type": "execute_result"
    }
   ],
   "source": [
    "string.punctuation"
   ]
  },
  {
   "cell_type": "markdown",
   "id": "known-angel",
   "metadata": {},
   "source": [
    "#### Cleaning the title?"
   ]
  },
  {
   "cell_type": "code",
   "execution_count": 31,
   "id": "original-hawaii",
   "metadata": {},
   "outputs": [],
   "source": [
    "def clean_title(s, stemming=True, min_length=0):\n",
    "    \n",
    "    # errors = oneof [ignore, preserve, replace]\n",
    "    ss = unidecode.unidecode(s, errors='ignore')\n",
    "    \n",
    "    # replace dashes with empty space\n",
    "    ss = ss.replace('-', ' ')\n",
    "\n",
    "    ss = re.sub(specials, '', ss)\n",
    "    \n",
    "    words = ss.split(' ')\n",
    "    \n",
    "    words = [word.lower().strip() for word in words if len(word) > min_length and word not in ignore]\n",
    "    \n",
    "    if stemming:\n",
    "        words = map(porter_stemmer.stem, words)\n",
    "    \n",
    "    return ' '.join(words)"
   ]
  },
  {
   "cell_type": "code",
   "execution_count": 32,
   "id": "adequate-breath",
   "metadata": {},
   "outputs": [
    {
     "name": "stdout",
     "output_type": "stream",
     "text": [
      "CPU times: user 3.81 s, sys: 9.42 ms, total: 3.81 s\n",
      "Wall time: 3.83 s\n"
     ]
    }
   ],
   "source": [
    "%%time\n",
    "titles = dfd['title']\n",
    "ctitles = titles.apply(clean_title, stemming=False)\n",
    "ctitles_stem = titles.apply(clean_title, stemming=True)"
   ]
  },
  {
   "cell_type": "code",
   "execution_count": 33,
   "id": "affecting-helmet",
   "metadata": {},
   "outputs": [
    {
     "data": {
      "text/plain": [
       "'WE WANT TO TALK ABOUT OUR MARRIAGE'"
      ]
     },
     "execution_count": 33,
     "metadata": {},
     "output_type": "execute_result"
    }
   ],
   "source": [
    "titles[0]"
   ]
  },
  {
   "cell_type": "code",
   "execution_count": 34,
   "id": "swiss-customs",
   "metadata": {},
   "outputs": [
    {
     "data": {
      "text/plain": [
       "'we want to talk about our marriage'"
      ]
     },
     "execution_count": 34,
     "metadata": {},
     "output_type": "execute_result"
    }
   ],
   "source": [
    "ctitles[0]"
   ]
  },
  {
   "cell_type": "code",
   "execution_count": 35,
   "id": "scenic-physics",
   "metadata": {},
   "outputs": [
    {
     "data": {
      "text/plain": [
       "'we want to talk about our marriag'"
      ]
     },
     "execution_count": 35,
     "metadata": {},
     "output_type": "execute_result"
    }
   ],
   "source": [
    "ctitles_stem[0]"
   ]
  },
  {
   "cell_type": "markdown",
   "id": "incomplete-parks",
   "metadata": {},
   "source": [
    "#### Cleaning the tags"
   ]
  },
  {
   "cell_type": "code",
   "execution_count": 36,
   "id": "consistent-atlantic",
   "metadata": {},
   "outputs": [],
   "source": [
    "def clean_tags(s, stemming=True, min_length=2):\n",
    "\n",
    "    ss = s.replace('|', ' ')\n",
    "\n",
    "    # errors = oneof [ignore, preserve, replace]\n",
    "    ss = unidecode.unidecode(ss, errors='ignore')\n",
    "\n",
    "    # replace dashes with empty space\n",
    "    ss = ss.replace('-', ' ')\n",
    "\n",
    "    ss = re.sub(specials, '', ss)\n",
    "\n",
    "    words = ss.split(' ')\n",
    "\n",
    "    words = [word.lower().strip() for word in words if len(word) > min_length and word not in ignore]\n",
    "\n",
    "    if stemming:\n",
    "        words = map(porter_stemmer.stem, words)\n",
    "\n",
    "    return ' '.join(words)"
   ]
  },
  {
   "cell_type": "code",
   "execution_count": 37,
   "id": "portuguese-delivery",
   "metadata": {},
   "outputs": [
    {
     "name": "stdout",
     "output_type": "stream",
     "text": [
      "CPU times: user 15.6 s, sys: 18.4 ms, total: 15.6 s\n",
      "Wall time: 15.6 s\n"
     ]
    }
   ],
   "source": [
    "%%time\n",
    "tags = dfd['tags']\n",
    "ctags = tags.apply(clean_tags, stemming=False)\n",
    "ctags_stem = tags.apply(clean_tags, stemming=True)"
   ]
  },
  {
   "cell_type": "code",
   "execution_count": 38,
   "id": "intellectual-craps",
   "metadata": {
    "scrolled": true
   },
   "outputs": [
    {
     "data": {
      "text/plain": [
       "'BuzzFeed|\"BuzzFeedBlue\"|\"BuzzFeed Blue\"|\"Blue\"|\"beard\"|\"bearded men\"|\"men\"|\"bearded\"|\"guys\"|\"shave\"|\"clean shaven\"|\"clean\"|\"shaven\"|\"baby faced\"|\"baby\"|\"faced\"|\"try\"|\"men try\"|\"we try\"|\"people try\"|\"bearded men try going clean shaven\"|\"clean-shaven\"|\"bare face\"|\"bare faced\"|\"razor\"|\"shaving\"|\"grooming\"|\"health\"|\"men\\'s health\"|\"facial hair\"|\"beards\"|\"mustache\"|\"manly\"'"
      ]
     },
     "execution_count": 38,
     "metadata": {},
     "output_type": "execute_result"
    }
   ],
   "source": [
    "tags[397]"
   ]
  },
  {
   "cell_type": "code",
   "execution_count": 39,
   "id": "institutional-armenia",
   "metadata": {},
   "outputs": [
    {
     "data": {
      "text/plain": [
       "'buzzfeed buzzfeedblue buzzfeed blue blue beard bearded men men bearded guys shave clean shaven clean shaven baby faced baby faced try men try try people try bearded men try going clean shaven clean shaven bare face bare faced razor shaving grooming health mens health facial hair beards mustache manly'"
      ]
     },
     "execution_count": 39,
     "metadata": {},
     "output_type": "execute_result"
    }
   ],
   "source": [
    "ctags[397]"
   ]
  },
  {
   "cell_type": "code",
   "execution_count": 40,
   "id": "directed-forest",
   "metadata": {},
   "outputs": [
    {
     "data": {
      "text/plain": [
       "'buzzfe buzzfeedblu buzzfe blue blue beard beard men men beard guy shave clean shaven clean shaven babi face babi face tri men tri tri peopl tri beard men tri go clean shaven clean shaven bare face bare face razor shave groom health men health facial hair beard mustach manli'"
      ]
     },
     "execution_count": 40,
     "metadata": {},
     "output_type": "execute_result"
    }
   ],
   "source": [
    "ctags_stem[397]"
   ]
  },
  {
   "cell_type": "markdown",
   "id": "overhead-madison",
   "metadata": {},
   "source": [
    "#### Cleaning the description"
   ]
  },
  {
   "cell_type": "code",
   "execution_count": 41,
   "id": "possible-pendant",
   "metadata": {},
   "outputs": [],
   "source": [
    "extractor = URLExtract(extract_email=True)"
   ]
  },
  {
   "cell_type": "code",
   "execution_count": 42,
   "id": "automotive-creator",
   "metadata": {},
   "outputs": [],
   "source": [
    "def clean_desc(s, stemming=True, min_length=3):\n",
    "\n",
    "    # Handle case of missing description\n",
    "    if pd.isna(s):\n",
    "        return ''\n",
    "\n",
    "    # errors = oneof [ignore, preserve, replace]\n",
    "    ss = unidecode.unidecode(s, errors='ignore')\n",
    "    \n",
    "    # replace newlines and dashes with empty space\n",
    "    ss = re.sub(r'(' + re.escape(\"\\\\n\") + ')|-', ' ', ss)\n",
    "\n",
    "    # find and remove urls\n",
    "    for url in extractor.find_urls(ss[::]):\n",
    "        ss = re.sub(r'' + re.escape(url), '', ss)\n",
    "    \n",
    "    res = ss.split(' ')\n",
    "    \n",
    "    idx = 0\n",
    "    for word in res[::]:\n",
    "        # remove punctuation\n",
    "        cword = re.sub(specials, '', word).strip().lower()\n",
    "        if len(cword) > min_length and cword not in ignore:\n",
    "            res[idx] = cword\n",
    "            idx += 1\n",
    "\n",
    "    if stemming:\n",
    "        return ' '.join(map(porter_stemmer.stem, res[:idx]))\n",
    "    else:\n",
    "        return ' '.join(res[:idx])"
   ]
  },
  {
   "cell_type": "code",
   "execution_count": 44,
   "id": "consolidated-token",
   "metadata": {
    "scrolled": true
   },
   "outputs": [
    {
     "name": "stdout",
     "output_type": "stream",
     "text": [
      "CPU times: user 7min 20s, sys: 117 ms, total: 7min 20s\n",
      "Wall time: 7min 21s\n"
     ]
    }
   ],
   "source": [
    "%%time\n",
    "desc = dfd['description']\n",
    "cdesc = desc.apply(clean_desc, stemming=False)\n",
    "cdesc_stem = desc.apply(clean_desc, stemming=True)"
   ]
  },
  {
   "cell_type": "code",
   "execution_count": 45,
   "id": "qualified-release",
   "metadata": {},
   "outputs": [
    {
     "data": {
      "text/plain": [
       "'Eminem speaks on working with Beyoncé on his Shade 45 interview with DJ Whoo Kid + Lord Sear.\\\\n\\\\nShade 45, the uncensored hip-hop channel created by Eminem.'"
      ]
     },
     "execution_count": 45,
     "metadata": {},
     "output_type": "execute_result"
    }
   ],
   "source": [
    "desc[28]\n",
    "# desc[28] - dash"
   ]
  },
  {
   "cell_type": "code",
   "execution_count": 46,
   "id": "found-henry",
   "metadata": {},
   "outputs": [
    {
     "data": {
      "text/plain": [
       "'eminem speaks working beyonce shade interview whoo lord sear shade uncensored channel created eminem'"
      ]
     },
     "execution_count": 46,
     "metadata": {},
     "output_type": "execute_result"
    }
   ],
   "source": [
    "cdesc[28]"
   ]
  },
  {
   "cell_type": "code",
   "execution_count": 47,
   "id": "olympic-helping",
   "metadata": {},
   "outputs": [
    {
     "data": {
      "text/plain": [
       "'eminem speak work beyonc shade interview whoo lord sear shade uncensor channel creat eminem'"
      ]
     },
     "execution_count": 47,
     "metadata": {},
     "output_type": "execute_result"
    }
   ],
   "source": [
    "cdesc_stem[28]"
   ]
  },
  {
   "cell_type": "markdown",
   "id": "structural-tennis",
   "metadata": {},
   "source": [
    "## Term Frequency"
   ]
  },
  {
   "cell_type": "markdown",
   "id": "heard-jamaica",
   "metadata": {},
   "source": [
    "### Combine titles, tags, descriptions...\n",
    "\n",
    "Let's find a good minimum document frequency"
   ]
  },
  {
   "cell_type": "code",
   "execution_count": 48,
   "id": "technical-sally",
   "metadata": {},
   "outputs": [
    {
     "name": "stdout",
     "output_type": "stream",
     "text": [
      "CPU times: user 38.3 s, sys: 196 ms, total: 38.5 s\n",
      "Wall time: 38.5 s\n"
     ]
    }
   ],
   "source": [
    "%%time\n",
    "\n",
    "num_features = []\n",
    "\n",
    "for min_df in range(1,20):\n",
    "    count_vectorizer = CountVectorizer(max_df=0.5, min_df=min_df)\n",
    "    combined = map(' '.join, zip(ctitles_stem, ctags_stem, cdesc_stem))\n",
    "    combined_tf = count_vectorizer.fit_transform(combined)\n",
    "    num_features.append(combined_tf.shape[1])"
   ]
  },
  {
   "cell_type": "code",
   "execution_count": 49,
   "id": "greatest-spokesman",
   "metadata": {},
   "outputs": [
    {
     "data": {
      "image/png": "[encoded data removed]",
      "text/plain": [
       "<Figure size 432x288 with 1 Axes>"
      ]
     },
     "metadata": {
      "needs_background": "light"
     },
     "output_type": "display_data"
    }
   ],
   "source": [
    "plt.plot(num_features)\n",
    "plt.xlabel('DF Threshold')\n",
    "plt.ylabel('Number of Features')\n",
    "plt.title(f'Num Features by Minimum Document Frequency')\n",
    "plt.show()"
   ]
  },
  {
   "cell_type": "markdown",
   "id": "fifty-orange",
   "metadata": {},
   "source": [
    "Elbow method? Try min_df of 5"
   ]
  },
  {
   "cell_type": "code",
   "execution_count": 56,
   "id": "amino-sampling",
   "metadata": {},
   "outputs": [
    {
     "data": {
      "text/plain": [
       "(30713, 24509)"
      ]
     },
     "execution_count": 56,
     "metadata": {},
     "output_type": "execute_result"
    }
   ],
   "source": [
    "combined = map(' '.join, zip(ctitles_stem, ctags_stem, cdesc_stem))\n",
    "count_vectorizer = CountVectorizer(max_df=0.5, min_df=6)\n",
    "combined_tf = count_vectorizer.fit_transform(combined)\n",
    "combined_tf.shape"
   ]
  },
  {
   "cell_type": "code",
   "execution_count": 57,
   "id": "exact-vertical",
   "metadata": {},
   "outputs": [],
   "source": [
    "feature_names = count_vectorizer.get_feature_names()"
   ]
  },
  {
   "cell_type": "code",
   "execution_count": 131,
   "id": "large-arrangement",
   "metadata": {},
   "outputs": [
    {
     "name": "stdout",
     "output_type": "stream",
     "text": [
      "CPU times: user 30.4 ms, sys: 3.96 ms, total: 34.3 ms\n",
      "Wall time: 54.3 ms\n"
     ]
    }
   ],
   "source": [
    "%%time\n",
    "tmp = combined_tf.tocsc()\n",
    "tmp = tmp.sum(axis=0)\n",
    "num_cols = tmp.shape[1]\n",
    "tmp = tmp.tolist()[0]\n",
    "\n",
    "terms = {i: val for i, val in enumerate(tmp)}\n",
    "\n",
    "del tmp, num_cols"
   ]
  },
  {
   "cell_type": "code",
   "execution_count": 135,
   "id": "general-intranet",
   "metadata": {},
   "outputs": [
    {
     "data": {
      "text/plain": [
       "(30713, 24509)"
      ]
     },
     "execution_count": 135,
     "metadata": {},
     "output_type": "execute_result"
    }
   ],
   "source": [
    "combined_tf.shape"
   ]
  },
  {
   "cell_type": "code",
   "execution_count": 140,
   "id": "national-glory",
   "metadata": {},
   "outputs": [
    {
     "data": {
      "text/plain": [
       "10"
      ]
     },
     "execution_count": 140,
     "metadata": {},
     "output_type": "execute_result"
    }
   ],
   "source": [
    "combined_tf.getcol(0).count_nonzero()"
   ]
  },
  {
   "cell_type": "code",
   "execution_count": 142,
   "id": "south-session",
   "metadata": {},
   "outputs": [],
   "source": [
    "def plotWf(dictionary, title, logscale=True):\n",
    "    r\"\"\"Plot collection-wide word frequencies.\"\"\"\n",
    "    plt.plot(sorted(dictionary.values(), reverse=True))\n",
    "    plt.xlabel('word')\n",
    "    plt.ylabel('frequency')\n",
    "    if logscale is True:\n",
    "        plt.yscale('log')\n",
    "        plt.ylabel('log(frequency)')\n",
    "    plt.title(f'Corpus-wide word frequency distribution ({title})')\n",
    "    plt.show()\n",
    "\n",
    "def plotDf(mat, title, logscale=False):\n",
    "    r\"\"\"Plot collection-wide document-word frequencies.\"\"\"\n",
    "    # document word frequency\n",
    "    df = defaultdict(int)\n",
    "    num_cols = mat.shape[1]\n",
    "    for col in range(num_cols):\n",
    "        df[col] += mat.getcol(col).count_nonzero()\n",
    "\n",
    "    plt.plot(sorted(df.values(), reverse=True))\n",
    "    plt.xlabel('word')\n",
    "    plt.ylabel('frequency')\n",
    "    if logscale is True:\n",
    "        plt.yscale('log')\n",
    "        plt.ylabel('log(frequency)')\n",
    "    plt.title(f'Corpus-wide document-word frequency distribution ({title})')\n",
    "    plt.show()"
   ]
  },
  {
   "cell_type": "code",
   "execution_count": 145,
   "id": "extended-slovakia",
   "metadata": {},
   "outputs": [
    {
     "data": {
      "image/png": "[encoded data removed]",
      "text/plain": [
       "<Figure size 432x288 with 1 Axes>"
      ]
     },
     "metadata": {
      "needs_background": "light"
     },
     "output_type": "display_data"
    },
    {
     "data": {
      "image/png": "[encoded data removed]",
      "text/plain": [
       "<Figure size 432x288 with 1 Axes>"
      ]
     },
     "metadata": {
      "needs_background": "light"
     },
     "output_type": "display_data"
    },
    {
     "name": "stdout",
     "output_type": "stream",
     "text": [
      "CPU times: user 3min 39s, sys: 704 ms, total: 3min 40s\n",
      "Wall time: 4min 2s\n"
     ]
    }
   ],
   "source": [
    "%%time\n",
    "plotWf(terms, 'All', logscale=True)\n",
    "plotDf(combined_tf, 'All', logscale=False)"
   ]
  },
  {
   "cell_type": "markdown",
   "id": "guilty-vietnamese",
   "metadata": {},
   "source": [
    "### Split into test / training"
   ]
  },
  {
   "cell_type": "code",
   "execution_count": 147,
   "id": "promotional-national",
   "metadata": {},
   "outputs": [],
   "source": [
    "X_train, X_test, y_train, y_test = train_test_split(combined_tf,\n",
    "                                                    dfd['category'], test_size=0.3, random_state=8)"
   ]
  },
  {
   "cell_type": "markdown",
   "id": "surprised-assurance",
   "metadata": {},
   "source": [
    "### Scale by IDF and L2 normalize"
   ]
  },
  {
   "cell_type": "code",
   "execution_count": 148,
   "id": "forward-climb",
   "metadata": {},
   "outputs": [],
   "source": [
    "transformer = TfidfTransformer(norm='l2', use_idf=True, sublinear_tf=True)"
   ]
  },
  {
   "cell_type": "code",
   "execution_count": 149,
   "id": "every-equilibrium",
   "metadata": {},
   "outputs": [
    {
     "data": {
      "text/plain": [
       "(21499, 24509)"
      ]
     },
     "execution_count": 149,
     "metadata": {},
     "output_type": "execute_result"
    }
   ],
   "source": [
    "X_train_tr = transformer.fit_transform(X_train)\n",
    "X_train_tr.shape"
   ]
  },
  {
   "cell_type": "code",
   "execution_count": 150,
   "id": "hired-amount",
   "metadata": {},
   "outputs": [
    {
     "data": {
      "text/plain": [
       "(9214, 24509)"
      ]
     },
     "execution_count": 150,
     "metadata": {},
     "output_type": "execute_result"
    }
   ],
   "source": [
    "X_test_tr = transformer.transform(X_test)\n",
    "X_test_tr.shape"
   ]
  },
  {
   "cell_type": "markdown",
   "id": "caroline-machine",
   "metadata": {},
   "source": [
    "### Training"
   ]
  },
  {
   "cell_type": "code",
   "execution_count": 63,
   "id": "equipped-reynolds",
   "metadata": {},
   "outputs": [],
   "source": [
    "def benchmark(clf, print_cm=True):\n",
    "    print('_' * 80)\n",
    "    print(\"Training: \")\n",
    "    print(clf)\n",
    "    t0 = time()\n",
    "    clf.fit(X_train_tr, y_train)\n",
    "    train_time = time() - t0\n",
    "    print(\"train time: %0.3fs\" % train_time)\n",
    "\n",
    "    t0 = time()\n",
    "    pred = clf.predict(X_test_tr)\n",
    "    test_time = time() - t0\n",
    "    print(\"test time:  %0.3fs\" % test_time)\n",
    "\n",
    "    score = metrics.accuracy_score(y_test, pred)\n",
    "    print(\"accuracy:   %0.3f\" % score)\n",
    "\n",
    "    if hasattr(clf, 'coef_'):\n",
    "        print(\"dimensionality: %d\" % clf.coef_.shape[1])\n",
    "        print(\"density: %f\" % density(clf.coef_))\n",
    "        print()\n",
    "\n",
    "    if print_cm:\n",
    "        print(\"confusion matrix:\")\n",
    "        print(metrics.confusion_matrix(y_test, pred))\n",
    "\n",
    "    print()\n",
    "    clf_descr = str(clf).split('(')[0]\n",
    "    return clf_descr, score, train_time, test_time\n",
    "\n",
    "def trim(s):\n",
    "    \"\"\"Trim string to fit on terminal (assuming 80-column display)\"\"\"\n",
    "    return s if len(s) <= 80 else s[:77] + \"...\""
   ]
  },
  {
   "cell_type": "code",
   "execution_count": 160,
   "id": "attractive-decade",
   "metadata": {},
   "outputs": [
    {
     "name": "stdout",
     "output_type": "stream",
     "text": [
      "________________________________________________________________________________\n",
      "Training: \n",
      "SGDClassifier(max_iter=100)\n",
      "train time: 1.234s\n",
      "test time:  0.076s\n",
      "accuracy:   0.825\n",
      "dimensionality: 24509\n",
      "density: 0.526019\n",
      "\n",
      "confusion matrix:\n",
      "[[  67    0    1    8    0    2    0    0    0    5    0    1    0    6\n",
      "     0    0    0]\n",
      " [   1  583    1   82    2    9    4    0    9    5    0   25    2    0\n",
      "     0    2    2]\n",
      " [   1    6  163   20    1    1    0    0    7    6    0    7    1    4\n",
      "     0    1    0]\n",
      " [   4   32    9 2578   22   18   31    0   61   50    1   50    4   14\n",
      "     4   20    2]\n",
      " [   0    7    2   98  305    1    5    0   14   17    0   18    3    9\n",
      "     0    5    0]\n",
      " [   0    8    1   30    4  226    1    0    2    6    0    6    0    2\n",
      "     0   10    0]\n",
      " [   0    1    0   24    1    1  510    0    3    4    0    9    0    4\n",
      "     0    1    2]\n",
      " [   0    0    0    0    0    0    0    0    1    0    0    0    0    0\n",
      "     0    0    0]\n",
      " [   1    6    0   48    2    1    0    0  681    3    0    9    0    1\n",
      "     0    7    0]\n",
      " [   0    1    0   47    1    1    2    0    5  975    1   32    1    4\n",
      "     0    8    0]\n",
      " [   0    0    0    6    0    0    0    0    0    6    7    2    0    0\n",
      "     0    0    0]\n",
      " [   1   39    2  155    8    4   33    0   33   82    1  496    3    6\n",
      "     0   34    2]\n",
      " [   0    1    0    3    2    1    1    0    0    0    0    1   94    0\n",
      "     0    0    0]\n",
      " [   4    0    5   19    0    4    3    0    2   14    0   11    0  196\n",
      "     0    1    1]\n",
      " [   0    0    0   15    0    0    0    0    0    0    0    0    0    1\n",
      "    20    3    0]\n",
      " [   1    1    0   27    0    0    2    0    3    7    0   13    1    3\n",
      "     0  641    0]\n",
      " [   1    0    0   10    1    0    4    0    1    3    0    3    0    0\n",
      "     0    1   56]]\n",
      "\n"
     ]
    },
    {
     "data": {
      "text/plain": [
       "('SGDClassifier', 0.8246147167354027, 1.2343895435333252, 0.07610273361206055)"
      ]
     },
     "execution_count": 160,
     "metadata": {},
     "output_type": "execute_result"
    }
   ],
   "source": [
    "sgd = SGDClassifier(alpha=.0001, max_iter=100, penalty=\"l2\")\n",
    "benchmark(sgd)"
   ]
  },
  {
   "cell_type": "code",
   "execution_count": 161,
   "id": "invalid-broadcast",
   "metadata": {},
   "outputs": [
    {
     "data": {
      "text/plain": [
       "0.7320234039225317"
      ]
     },
     "execution_count": 161,
     "metadata": {},
     "output_type": "execute_result"
    }
   ],
   "source": [
    "predictions = sgd.predict(X_test_tr)\n",
    "f1_score(y_test, predictions, average='macro')"
   ]
  },
  {
   "cell_type": "markdown",
   "id": "necessary-wings",
   "metadata": {},
   "source": [
    "## Extra code"
   ]
  },
  {
   "cell_type": "markdown",
   "id": "understanding-toner",
   "metadata": {},
   "source": [
    "## Feature Importance"
   ]
  },
  {
   "cell_type": "code",
   "execution_count": 20,
   "id": "speaking-peripheral",
   "metadata": {
    "scrolled": true
   },
   "outputs": [
    {
     "name": "stdout",
     "output_type": "stream",
     "text": [
      "Number of unique youtube videos (US): 7302\n",
      "Number of unique channels: 2207\n",
      "Max # of unique categories for a channel: 7\n",
      "Average # of unique categories per channel: 1.0693248753964657\n"
     ]
    }
   ],
   "source": [
    "d = defaultdict(set) # channel_title: category_id\n",
    "for row in df_usd.itertuples():\n",
    "    d[row.channel_title].add(row.category_id)\n",
    "\n",
    "dl = [len(val) for val in d.values()]\n",
    "print(f'Number of unique youtube videos (US): {len(df_usd)}')\n",
    "print(f'Number of unique channels: {len(d)}')\n",
    "print(f'Max # of unique categories for a channel: {max(dl)}')\n",
    "print(f'Average # of unique categories per channel: {sum(dl) / len(dl)}')"
   ]
  },
  {
   "cell_type": "code",
   "execution_count": null,
   "id": "patient-dryer",
   "metadata": {},
   "outputs": [],
   "source": []
  }
 ],
 "metadata": {
  "kernelspec": {
   "display_name": "Python 3",
   "language": "python",
   "name": "python3"
  },
  "language_info": {
   "codemirror_mode": {
    "name": "ipython",
    "version": 3
   },
   "file_extension": ".py",
   "mimetype": "text/x-python",
   "name": "python",
   "nbconvert_exporter": "python",
   "pygments_lexer": "ipython3",
   "version": "3.8.5"
  }
 },
 "nbformat": 4,
 "nbformat_minor": 5
}
