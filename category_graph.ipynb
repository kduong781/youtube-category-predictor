{
 "cells": [
  {
   "cell_type": "code",
   "execution_count": 21,
   "id": "comparative-committee",
   "metadata": {},
   "outputs": [],
   "source": [
    "import os\n",
    "import glob\n",
    "import pandas as pd\n",
    "os.chdir(\"../data\")\n",
    "\n",
    "extension = 'csv'\n",
    "all_filenames = [i for i in glob.glob('*.{}'.format(extension))]\n",
    "\n",
    "#combine all files in the list\n",
    "combined_csv = pd.concat([pd.read_csv(f) for f in all_filenames ])\n",
    "#export to csv\n",
    "combined_csv.to_csv( \"../combined/combined_csv.csv\", index=False, encoding='utf-8-sig')"
   ]
  },
  {
   "cell_type": "code",
   "execution_count": 28,
   "id": "molecular-alexandria",
   "metadata": {},
   "outputs": [
    {
     "name": "stdout",
     "output_type": "stream",
     "text": [
      "<class 'pandas.core.frame.DataFrame'>\n",
      "RangeIndex: 121863 entries, 0 to 121862\n",
      "Data columns (total 16 columns):\n",
      " #   Column                  Non-Null Count   Dtype  \n",
      "---  ------                  --------------   -----  \n",
      " 0   video_id                121863 non-null  object \n",
      " 1   trending_date           120746 non-null  object \n",
      " 2   title                   120746 non-null  object \n",
      " 3   channel_title           120746 non-null  object \n",
      " 4   category_id             120746 non-null  float64\n",
      " 5   publish_time            120746 non-null  object \n",
      " 6   tags                    120746 non-null  object \n",
      " 7   views                   120746 non-null  float64\n",
      " 8   likes                   120746 non-null  float64\n",
      " 9   dislikes                120746 non-null  float64\n",
      " 10  comment_count           120746 non-null  float64\n",
      " 11  thumbnail_link          120746 non-null  object \n",
      " 12  comments_disabled       120746 non-null  object \n",
      " 13  ratings_disabled        120746 non-null  object \n",
      " 14  video_error_or_removed  120746 non-null  object \n",
      " 15  description             118268 non-null  object \n",
      "dtypes: float64(5), object(11)\n",
      "memory usage: 14.9+ MB\n"
     ]
    }
   ],
   "source": [
    "import numpy as np\n",
    "import pandas as pd\n",
    "\n",
    "df = pd.read_csv(\"../combined/combined_csv.csv\")\n",
    "df.info()"
   ]
  },
  {
   "cell_type": "code",
   "execution_count": 29,
   "id": "compliant-rally",
   "metadata": {},
   "outputs": [],
   "source": [
    "with open(\"../data/US_category_id.json\") as f:\n",
    "    categories = json.load(f)[\"items\"]\n",
    "cat_dict = {}\n",
    "for cat in categories:\n",
    "    cat_dict[int(cat[\"id\"])] = cat[\"snippet\"][\"title\"]\n",
    "df['category_name'] = df['category_id'].map(cat_dict)"
   ]
  },
  {
   "cell_type": "code",
   "execution_count": 30,
   "id": "treated-moscow",
   "metadata": {},
   "outputs": [],
   "source": [
    "df.drop(df.columns[[0,1,5,7,8,9,10,11,12,13,14]], axis = 1, inplace = True)\n",
    "rows_with_nan = [index for index, row in df.iterrows() if row.isnull().any()]\n",
    "df.drop(rows_with_nan, inplace = True)\n",
    "df.drop_duplicates(subset=[\"title\",\"channel_title\",\"tags\",\"description\"], inplace=True)"
   ]
  },
  {
   "cell_type": "code",
   "execution_count": 31,
   "id": "classical-fairy",
   "metadata": {},
   "outputs": [
    {
     "name": "stdout",
     "output_type": "stream",
     "text": [
      "<class 'pandas.core.frame.DataFrame'>\n",
      "Int64Index: 31748 entries, 0 to 121862\n",
      "Data columns (total 6 columns):\n",
      " #   Column         Non-Null Count  Dtype  \n",
      "---  ------         --------------  -----  \n",
      " 0   title          31748 non-null  object \n",
      " 1   channel_title  31748 non-null  object \n",
      " 2   category_id    31748 non-null  float64\n",
      " 3   tags           31748 non-null  object \n",
      " 4   description    31748 non-null  object \n",
      " 5   category_name  31748 non-null  object \n",
      "dtypes: float64(1), object(5)\n",
      "memory usage: 1.7+ MB\n"
     ]
    },
    {
     "data": {
      "text/plain": [
       "Index(['title', 'channel_title', 'category_id', 'tags', 'description',\n",
       "       'category_name'],\n",
       "      dtype='object')"
      ]
     },
     "execution_count": 31,
     "metadata": {},
     "output_type": "execute_result"
    }
   ],
   "source": [
    "df.info()\n",
    "df.columns"
   ]
  },
  {
   "cell_type": "code",
   "execution_count": 32,
   "id": "driving-microphone",
   "metadata": {},
   "outputs": [
    {
     "data": {
      "text/html": [
       "<div>\n",
       "<style scoped>\n",
       "    .dataframe tbody tr th:only-of-type {\n",
       "        vertical-align: middle;\n",
       "    }\n",
       "\n",
       "    .dataframe tbody tr th {\n",
       "        vertical-align: top;\n",
       "    }\n",
       "\n",
       "    .dataframe thead th {\n",
       "        text-align: right;\n",
       "    }\n",
       "</style>\n",
       "<table border=\"1\" class=\"dataframe\">\n",
       "  <thead>\n",
       "    <tr style=\"text-align: right;\">\n",
       "      <th></th>\n",
       "      <th>category_name</th>\n",
       "    </tr>\n",
       "  </thead>\n",
       "  <tbody>\n",
       "    <tr>\n",
       "      <th>0</th>\n",
       "      <td>Music</td>\n",
       "    </tr>\n",
       "    <tr>\n",
       "      <th>1</th>\n",
       "      <td>Comedy</td>\n",
       "    </tr>\n",
       "    <tr>\n",
       "      <th>2</th>\n",
       "      <td>Comedy</td>\n",
       "    </tr>\n",
       "    <tr>\n",
       "      <th>3</th>\n",
       "      <td>Entertainment</td>\n",
       "    </tr>\n",
       "    <tr>\n",
       "      <th>4</th>\n",
       "      <td>Music</td>\n",
       "    </tr>\n",
       "  </tbody>\n",
       "</table>\n",
       "</div>"
      ],
      "text/plain": [
       "   category_name\n",
       "0          Music\n",
       "1         Comedy\n",
       "2         Comedy\n",
       "3  Entertainment\n",
       "4          Music"
      ]
     },
     "execution_count": 32,
     "metadata": {},
     "output_type": "execute_result"
    }
   ],
   "source": [
    "df.drop(df.columns[[0,1,2,3,4]], axis = 1, inplace = True)\n",
    "df.head()"
   ]
  },
  {
   "cell_type": "code",
   "execution_count": 33,
   "id": "administrative-training",
   "metadata": {},
   "outputs": [
    {
     "name": "stdout",
     "output_type": "stream",
     "text": [
      "<class 'pandas.core.frame.DataFrame'>\n",
      "Int64Index: 31748 entries, 0 to 121862\n",
      "Data columns (total 1 columns):\n",
      " #   Column         Non-Null Count  Dtype \n",
      "---  ------         --------------  ----- \n",
      " 0   category_name  31748 non-null  object\n",
      "dtypes: object(1)\n",
      "memory usage: 496.1+ KB\n"
     ]
    }
   ],
   "source": [
    "df.info()"
   ]
  },
  {
   "cell_type": "code",
   "execution_count": 49,
   "id": "atlantic-sucking",
   "metadata": {},
   "outputs": [
    {
     "name": "stdout",
     "output_type": "stream",
     "text": [
      "category_name        \n",
      "Entertainment            10092\n",
      "News & Politics           3300\n",
      "Music                     3211\n",
      "People & Blogs            2947\n",
      "Comedy                    2480\n",
      "Sports                    2399\n",
      "Howto & Style             1909\n",
      "Film & Animation          1503\n",
      "Gaming                    1020\n",
      "Science & Technology       971\n",
      "Education                  815\n",
      "Pets & Animals             354\n",
      "Autos & Vehicles           315\n",
      "Travel & Events            253\n",
      "Shows                      112\n",
      "Nonprofits & Activism       65\n",
      "Movies                       2\n",
      "dtype: int64\n",
      "{('Entertainment',): 10092, ('News & Politics',): 3300, ('Music',): 3211, ('People & Blogs',): 2947, ('Comedy',): 2480, ('Sports',): 2399, ('Howto & Style',): 1909, ('Film & Animation',): 1503, ('Gaming',): 1020, ('Science & Technology',): 971, ('Education',): 815, ('Pets & Animals',): 354, ('Autos & Vehicles',): 315, ('Travel & Events',): 253, ('Shows',): 112, ('Nonprofits & Activism',): 65, ('Movies',): 2}\n"
     ]
    }
   ],
   "source": [
    "import matplotlib.pyplot as plt\n",
    "print(df.value_counts())\n",
    "counts = df.value_counts().to_dict()\n",
    "print(counts)"
   ]
  },
  {
   "cell_type": "code",
   "execution_count": 64,
   "id": "governmental-impact",
   "metadata": {},
   "outputs": [
    {
     "data": {
      "image/png": "[encoded data removed]",
      "text/plain": [
       "<Figure size 432x288 with 1 Axes>"
      ]
     },
     "metadata": {
      "needs_background": "light"
     },
     "output_type": "display_data"
    }
   ],
   "source": [
    "import re\n",
    "keys = list(counts.keys())\n",
    "values = list(counts.values())\n",
    "\n",
    "\n",
    "for i in range(len(keys)):\n",
    "    keys[i] = ''.join(keys[i])\n",
    "    keys[i] = re.sub(r'[^\\w\\s]', '', keys[i])\n",
    "    \n",
    "plt.bar(keys, values)\n",
    "plt.xticks(rotation = 75)\n",
    "plt.title(\"US, Great Britain, Canada Category Distribution\")\n",
    "plt.tight_layout()\n",
    "plt.savefig(\"../data/category.jpg\")"
   ]
  },
  {
   "cell_type": "code",
   "execution_count": null,
   "id": "informed-infrared",
   "metadata": {},
   "outputs": [],
   "source": []
  }
 ],
 "metadata": {
  "kernelspec": {
   "display_name": "Python 3",
   "language": "python",
   "name": "python3"
  },
  "language_info": {
   "codemirror_mode": {
    "name": "ipython",
    "version": 3
   },
   "file_extension": ".py",
   "mimetype": "text/x-python",
   "name": "python",
   "nbconvert_exporter": "python",
   "pygments_lexer": "ipython3",
   "version": "3.9.1"
  }
 },
 "nbformat": 4,
 "nbformat_minor": 5
}
