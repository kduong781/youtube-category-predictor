{
 "cells": [
  {
   "cell_type": "code",
   "execution_count": 80,
   "id": "acute-landscape",
   "metadata": {},
   "outputs": [
    {
     "name": "stderr",
     "output_type": "stream",
     "text": [
      "[nltk_data] Downloading package punkt to /home/wardhuang/nltk_data...\n",
      "[nltk_data]   Package punkt is already up-to-date!\n"
     ]
    },
    {
     "data": {
      "text/plain": [
       "True"
      ]
     },
     "execution_count": 80,
     "metadata": {},
     "output_type": "execute_result"
    }
   ],
   "source": [
    "import pandas as pd\n",
    "import numpy as np\n",
    "import unidecode\n",
    "import json\n",
    "import string\n",
    "import re\n",
    "import nltk\n",
    "%matplotlib inline\n",
    "import matplotlib.pyplot as plt\n",
    "from progressbar import ProgressBar\n",
    "from urlextract import URLExtract\n",
    "from collections import defaultdict, Counter\n",
    "nltk.download('punkt')"
   ]
  },
  {
   "cell_type": "markdown",
   "id": "aggressive-estate",
   "metadata": {},
   "source": [
    "## Loading files into dataframes"
   ]
  },
  {
   "cell_type": "code",
   "execution_count": 3,
   "id": "previous-proceeding",
   "metadata": {
    "scrolled": false
   },
   "outputs": [
    {
     "data": {
      "text/html": [
       "<div>\n",
       "<style scoped>\n",
       "    .dataframe tbody tr th:only-of-type {\n",
       "        vertical-align: middle;\n",
       "    }\n",
       "\n",
       "    .dataframe tbody tr th {\n",
       "        vertical-align: top;\n",
       "    }\n",
       "\n",
       "    .dataframe thead th {\n",
       "        text-align: right;\n",
       "    }\n",
       "</style>\n",
       "<table border=\"1\" class=\"dataframe\">\n",
       "  <thead>\n",
       "    <tr style=\"text-align: right;\">\n",
       "      <th></th>\n",
       "      <th>video_id</th>\n",
       "      <th>trending_date</th>\n",
       "      <th>title</th>\n",
       "      <th>channel_title</th>\n",
       "      <th>category_id</th>\n",
       "      <th>publish_time</th>\n",
       "      <th>tags</th>\n",
       "      <th>views</th>\n",
       "      <th>likes</th>\n",
       "      <th>dislikes</th>\n",
       "      <th>comment_count</th>\n",
       "      <th>thumbnail_link</th>\n",
       "      <th>comments_disabled</th>\n",
       "      <th>ratings_disabled</th>\n",
       "      <th>video_error_or_removed</th>\n",
       "      <th>description</th>\n",
       "    </tr>\n",
       "  </thead>\n",
       "  <tbody>\n",
       "    <tr>\n",
       "      <th>0</th>\n",
       "      <td>2kyS6SvSYSE</td>\n",
       "      <td>17.14.11</td>\n",
       "      <td>WE WANT TO TALK ABOUT OUR MARRIAGE</td>\n",
       "      <td>CaseyNeistat</td>\n",
       "      <td>22</td>\n",
       "      <td>2017-11-13T17:13:01.000Z</td>\n",
       "      <td>SHANtell martin</td>\n",
       "      <td>748374</td>\n",
       "      <td>57527</td>\n",
       "      <td>2966</td>\n",
       "      <td>15954</td>\n",
       "      <td>https://i.ytimg.com/vi/2kyS6SvSYSE/default.jpg</td>\n",
       "      <td>False</td>\n",
       "      <td>False</td>\n",
       "      <td>False</td>\n",
       "      <td>SHANTELL'S CHANNEL - https://www.youtube.com/s...</td>\n",
       "    </tr>\n",
       "  </tbody>\n",
       "</table>\n",
       "</div>"
      ],
      "text/plain": [
       "      video_id trending_date                               title  \\\n",
       "0  2kyS6SvSYSE      17.14.11  WE WANT TO TALK ABOUT OUR MARRIAGE   \n",
       "\n",
       "  channel_title  category_id              publish_time             tags  \\\n",
       "0  CaseyNeistat           22  2017-11-13T17:13:01.000Z  SHANtell martin   \n",
       "\n",
       "    views  likes  dislikes  comment_count  \\\n",
       "0  748374  57527      2966          15954   \n",
       "\n",
       "                                   thumbnail_link  comments_disabled  \\\n",
       "0  https://i.ytimg.com/vi/2kyS6SvSYSE/default.jpg              False   \n",
       "\n",
       "   ratings_disabled  video_error_or_removed  \\\n",
       "0             False                   False   \n",
       "\n",
       "                                         description  \n",
       "0  SHANTELL'S CHANNEL - https://www.youtube.com/s...  "
      ]
     },
     "execution_count": 3,
     "metadata": {},
     "output_type": "execute_result"
    }
   ],
   "source": [
    "us_videos = pd.read_csv('./USvideos.csv')\n",
    "us_videos.head(1)"
   ]
  },
  {
   "cell_type": "markdown",
   "id": "organic-liabilities",
   "metadata": {},
   "source": [
    "Load the json categories into a python dictionary"
   ]
  },
  {
   "cell_type": "code",
   "execution_count": 4,
   "id": "suited-ethiopia",
   "metadata": {},
   "outputs": [
    {
     "data": {
      "text/html": [
       "<div>\n",
       "<style scoped>\n",
       "    .dataframe tbody tr th:only-of-type {\n",
       "        vertical-align: middle;\n",
       "    }\n",
       "\n",
       "    .dataframe tbody tr th {\n",
       "        vertical-align: top;\n",
       "    }\n",
       "\n",
       "    .dataframe thead th {\n",
       "        text-align: right;\n",
       "    }\n",
       "</style>\n",
       "<table border=\"1\" class=\"dataframe\">\n",
       "  <thead>\n",
       "    <tr style=\"text-align: right;\">\n",
       "      <th></th>\n",
       "      <th>kind</th>\n",
       "      <th>etag</th>\n",
       "      <th>id</th>\n",
       "      <th>snippet.channelId</th>\n",
       "      <th>snippet.title</th>\n",
       "      <th>snippet.assignable</th>\n",
       "    </tr>\n",
       "  </thead>\n",
       "  <tbody>\n",
       "    <tr>\n",
       "      <th>0</th>\n",
       "      <td>youtube#videoCategory</td>\n",
       "      <td>\"m2yskBQFythfE4irbTIeOgYYfBU/Xy1mB4_yLrHy_BmKm...</td>\n",
       "      <td>1</td>\n",
       "      <td>UCBR8-60-B28hp2BmDPdntcQ</td>\n",
       "      <td>Film &amp; Animation</td>\n",
       "      <td>True</td>\n",
       "    </tr>\n",
       "  </tbody>\n",
       "</table>\n",
       "</div>"
      ],
      "text/plain": [
       "                    kind                                               etag  \\\n",
       "0  youtube#videoCategory  \"m2yskBQFythfE4irbTIeOgYYfBU/Xy1mB4_yLrHy_BmKm...   \n",
       "\n",
       "  id         snippet.channelId     snippet.title  snippet.assignable  \n",
       "0  1  UCBR8-60-B28hp2BmDPdntcQ  Film & Animation                True  "
      ]
     },
     "execution_count": 4,
     "metadata": {},
     "output_type": "execute_result"
    }
   ],
   "source": [
    "cat_str = \"\" # the json string\n",
    "\n",
    "with open('./US_category_id.json', 'r') as f:\n",
    "    cat_str = f.read()\n",
    "    \n",
    "# python dictionary\n",
    "cat_obj = json.loads(cat_str)\n",
    "\n",
    "# array of dictionaries\n",
    "cats_arr = cat_obj['items']\n",
    "\n",
    "# dataframe\n",
    "us_cats = pd.json_normalize(cats_arr)\n",
    "\n",
    "us_cats.head(1)"
   ]
  },
  {
   "cell_type": "markdown",
   "id": "private-holocaust",
   "metadata": {},
   "source": [
    "## Select columns from us_videos\n",
    "\n",
    "We select the columns with identifying information, classification, and text descriptions"
   ]
  },
  {
   "cell_type": "code",
   "execution_count": 5,
   "id": "cellular-virginia",
   "metadata": {},
   "outputs": [
    {
     "data": {
      "text/html": [
       "<div>\n",
       "<style scoped>\n",
       "    .dataframe tbody tr th:only-of-type {\n",
       "        vertical-align: middle;\n",
       "    }\n",
       "\n",
       "    .dataframe tbody tr th {\n",
       "        vertical-align: top;\n",
       "    }\n",
       "\n",
       "    .dataframe thead th {\n",
       "        text-align: right;\n",
       "    }\n",
       "</style>\n",
       "<table border=\"1\" class=\"dataframe\">\n",
       "  <thead>\n",
       "    <tr style=\"text-align: right;\">\n",
       "      <th></th>\n",
       "      <th>video_id</th>\n",
       "      <th>title</th>\n",
       "      <th>channel_title</th>\n",
       "      <th>category_id</th>\n",
       "      <th>tags</th>\n",
       "      <th>description</th>\n",
       "    </tr>\n",
       "  </thead>\n",
       "  <tbody>\n",
       "    <tr>\n",
       "      <th>40948</th>\n",
       "      <td>ooyjaVdt-jA</td>\n",
       "      <td>Official Call of Duty®: Black Ops 4 — Multipla...</td>\n",
       "      <td>Call of Duty</td>\n",
       "      <td>20</td>\n",
       "      <td>call of duty|\"cod\"|\"activision\"|\"Black Ops 4\"</td>\n",
       "      <td>Call of Duty: Black Ops 4 Multiplayer raises t...</td>\n",
       "    </tr>\n",
       "  </tbody>\n",
       "</table>\n",
       "</div>"
      ],
      "text/plain": [
       "          video_id                                              title  \\\n",
       "40948  ooyjaVdt-jA  Official Call of Duty®: Black Ops 4 — Multipla...   \n",
       "\n",
       "      channel_title  category_id  \\\n",
       "40948  Call of Duty           20   \n",
       "\n",
       "                                                tags  \\\n",
       "40948  call of duty|\"cod\"|\"activision\"|\"Black Ops 4\"   \n",
       "\n",
       "                                             description  \n",
       "40948  Call of Duty: Black Ops 4 Multiplayer raises t...  "
      ]
     },
     "execution_count": 5,
     "metadata": {},
     "output_type": "execute_result"
    }
   ],
   "source": [
    "df_us = us_videos.loc[:,['video_id', 'title', 'channel_title', 'category_id', 'tags', 'description']]\n",
    "df_us.tail(1)"
   ]
  },
  {
   "cell_type": "code",
   "execution_count": 6,
   "id": "human-evans",
   "metadata": {},
   "outputs": [
    {
     "data": {
      "text/plain": [
       "video_id         7302\n",
       "title            7302\n",
       "channel_title    7302\n",
       "category_id      7302\n",
       "tags             7302\n",
       "description      7197\n",
       "dtype: int64"
      ]
     },
     "execution_count": 6,
     "metadata": {},
     "output_type": "execute_result"
    }
   ],
   "source": [
    "df_usd = df_us.drop_duplicates(ignore_index=True)\n",
    "df_usd.count()"
   ]
  },
  {
   "cell_type": "markdown",
   "id": "widespread-directive",
   "metadata": {},
   "source": [
    "## Text Preprocessing"
   ]
  },
  {
   "cell_type": "markdown",
   "id": "threaded-hopkins",
   "metadata": {},
   "source": [
    "Things to consider removing:\n",
    "- emails: `c.amber@gmail.com`\n",
    "- normal urls: `http://facebook.com`\n",
    "- other urls: `www.facebook.com`\n",
    "- unicode: `\\xa0`\n",
    "- punctuation: `!\"#$%&\\'()*+,-./:;<=>?@[\\\\]^_{|}~`\n",
    "- numbers: `1234`\n",
    "- nonsense: `PLvahqwMqN4M35d1XdbUEWZT_r36Z6tIz3`"
   ]
  },
  {
   "cell_type": "code",
   "execution_count": 47,
   "id": "occasional-scholarship",
   "metadata": {},
   "outputs": [],
   "source": [
    "from nltk.corpus import stopwords\n",
    "from nltk.stem.porter import PorterStemmer\n",
    "\n",
    "stopwords.words('english')[:10]\n",
    "\n",
    "en_stops = set([word.replace(\"'\", '') for word in stopwords.words('english')])\n",
    "\n",
    "# custom stop_words\n",
    "custom_stops = set([\"cant\", \"follow\", \"subscribe\", \"like\", \"comment\"])\n",
    "\n",
    "# terms to ignore\n",
    "ignore = en_stops | custom_stops\n",
    "\n",
    "# special characters to remove\n",
    "specials = r'[' + re.escape(string.punctuation) + ']'\n",
    "\n",
    "porter_stemmer = PorterStemmer()"
   ]
  },
  {
   "cell_type": "code",
   "execution_count": 48,
   "id": "advanced-lawsuit",
   "metadata": {},
   "outputs": [
    {
     "data": {
      "text/plain": [
       "'!\"#$%&\\'()*+,-./:;<=>?@[\\\\]^_`{|}~'"
      ]
     },
     "execution_count": 48,
     "metadata": {},
     "output_type": "execute_result"
    }
   ],
   "source": [
    "string.punctuation"
   ]
  },
  {
   "cell_type": "markdown",
   "id": "approximate-scratch",
   "metadata": {},
   "source": [
    "#### Cleaning the title?"
   ]
  },
  {
   "cell_type": "code",
   "execution_count": null,
   "id": "harmful-lightning",
   "metadata": {},
   "outputs": [],
   "source": [
    "def clean_title(s, stemming=True):\n",
    "    \n",
    "    # errors = oneof [ignore, preserve, replace]\n",
    "    ss = unidecode.unidecode(s, errors='ignore')\n",
    "    \n",
    "    # replace dashes (Iraq-Iran border)\n",
    "    ss = ss.replace('-', ' ')\n",
    "    \n",
    "    return None"
   ]
  },
  {
   "cell_type": "code",
   "execution_count": 26,
   "id": "satisfied-episode",
   "metadata": {},
   "outputs": [],
   "source": [
    "titles = df_usd['title']"
   ]
  },
  {
   "cell_type": "code",
   "execution_count": 34,
   "id": "ethical-migration",
   "metadata": {},
   "outputs": [
    {
     "data": {
      "text/plain": [
       "60             The Super Google Pixel 2 Camera Upgrade!\n",
       "61    7.3 Magnitude Earthquake Along Iraq-Iran Borde...\n",
       "62               #VeteransDay: Thank You for Everything\n",
       "63                   G-Eazy - The Plan (Official Video)\n",
       "64    U.S. Navy Three Carrier Formation in Western P...\n",
       "65    Batman: Gotham by Gaslight - Exclusive Trailer...\n",
       "66        Wearing Online Dollar Store Makeup For A Week\n",
       "67              Getting My Driver's License | Lele Pons\n",
       "68    Watch Norman Reedus Come Face to Face with his...\n",
       "69        John Lewis Christmas Ad 2017 - #MozTheMonster\n",
       "Name: title, dtype: object"
      ]
     },
     "execution_count": 34,
     "metadata": {},
     "output_type": "execute_result"
    }
   ],
   "source": [
    "titles[60:70]"
   ]
  },
  {
   "cell_type": "markdown",
   "id": "incomplete-parks",
   "metadata": {},
   "source": [
    "#### Cleaning the tags"
   ]
  },
  {
   "cell_type": "code",
   "execution_count": 49,
   "id": "consistent-atlantic",
   "metadata": {},
   "outputs": [],
   "source": [
    "specials = r'[' + re.escape(string.punctuation) + ']'\n",
    "\n",
    "def clean_tags(s, stemming=True):\n",
    "\n",
    "    ss = s.replace('|', ' ')\n",
    "\n",
    "    # errors = oneof [ignore, preserve, replace]\n",
    "    ss = unidecode.unidecode(ss, errors='ignore')\n",
    "\n",
    "    ss = re.sub(specials, '', ss)\n",
    "\n",
    "    words = ss.split(' ')\n",
    "    set_words = None\n",
    "\n",
    "    words = [word.lower().strip() for word in words if len(word) and word not in ignore]\n",
    "\n",
    "    if stemming:\n",
    "        set_words = set(map(porter_stemmer.stem, words))\n",
    "    else:\n",
    "        set_words = set(words)\n",
    "\n",
    "    return ' '.join(set_words)"
   ]
  },
  {
   "cell_type": "code",
   "execution_count": 50,
   "id": "portuguese-delivery",
   "metadata": {},
   "outputs": [
    {
     "name": "stdout",
     "output_type": "stream",
     "text": [
      "CPU times: user 3.69 s, sys: 3.84 ms, total: 3.7 s\n",
      "Wall time: 3.73 s\n"
     ]
    }
   ],
   "source": [
    "%%time\n",
    "tags = df_usd['tags']\n",
    "ctags = tags.apply(clean_tags, stemming=False)\n",
    "ctags_stem = tags.apply(clean_tags, stemming=True)"
   ]
  },
  {
   "cell_type": "code",
   "execution_count": 51,
   "id": "intellectual-craps",
   "metadata": {
    "scrolled": true
   },
   "outputs": [
    {
     "data": {
      "text/plain": [
       "'Luis|\"Fonsi\"|\"Demi\"|\"Lovato\"|\"Échame\"|\"La\"|\"Culpa\"|\"UMLE\"|\"Latino\"|\"Latin\"|\"Pop\"'"
      ]
     },
     "execution_count": 51,
     "metadata": {},
     "output_type": "execute_result"
    }
   ],
   "source": [
    "tags[397]"
   ]
  },
  {
   "cell_type": "code",
   "execution_count": 52,
   "id": "institutional-armenia",
   "metadata": {},
   "outputs": [
    {
     "data": {
      "text/plain": [
       "'latino la lovato luis umle pop latin echame fonsi demi culpa'"
      ]
     },
     "execution_count": 52,
     "metadata": {},
     "output_type": "execute_result"
    }
   ],
   "source": [
    "ctags[397]"
   ]
  },
  {
   "cell_type": "code",
   "execution_count": 53,
   "id": "directed-forest",
   "metadata": {},
   "outputs": [
    {
     "data": {
      "text/plain": [
       "'latino la lovato echam lui pop uml latin fonsi demi culpa'"
      ]
     },
     "execution_count": 53,
     "metadata": {},
     "output_type": "execute_result"
    }
   ],
   "source": [
    "ctags_stem[397]"
   ]
  },
  {
   "cell_type": "markdown",
   "id": "overhead-madison",
   "metadata": {},
   "source": [
    "#### Cleaning the description"
   ]
  },
  {
   "cell_type": "code",
   "execution_count": 54,
   "id": "possible-pendant",
   "metadata": {},
   "outputs": [],
   "source": [
    "extractor = URLExtract(extract_email=True)"
   ]
  },
  {
   "cell_type": "code",
   "execution_count": 56,
   "id": "automotive-creator",
   "metadata": {},
   "outputs": [],
   "source": [
    "def clean_desc(s, stemming=True):\n",
    "\n",
    "    # NaN values of type float\n",
    "    if type(s) is float:\n",
    "        return ''\n",
    "   \n",
    "    # errors = oneof [ignore, preserve, replace]\n",
    "    ss = unidecode.unidecode(s, errors='ignore')\n",
    "    \n",
    "    # replace newlines and dashes with empty space\n",
    "    ss = re.sub(r'(' + re.escape(\"\\\\n\") + ')|-', ' ', s)\n",
    "\n",
    "    # find and remove urls\n",
    "    for url in extractor.find_urls(ss[::]):\n",
    "        ss = re.sub(r'' + re.escape(url), '', ss)\n",
    "    \n",
    "    res = ss.split(' ')\n",
    "    \n",
    "    idx = 0\n",
    "    for word in res[::]:\n",
    "        # remove punctuation\n",
    "        cword = re.sub(specials, '', word).strip().lower()\n",
    "        if len(cword) > 0 and cword not in ignore:\n",
    "            res[idx] = cword\n",
    "            idx += 1\n",
    "\n",
    "    if stemming:\n",
    "        return ' '.join(map(porter_stemmer.stem, res[:idx]))\n",
    "    else:\n",
    "        return ' '.join(res[:idx])"
   ]
  },
  {
   "cell_type": "code",
   "execution_count": 57,
   "id": "consolidated-token",
   "metadata": {
    "scrolled": true
   },
   "outputs": [
    {
     "name": "stdout",
     "output_type": "stream",
     "text": [
      "CPU times: user 2min 8s, sys: 38.9 ms, total: 2min 8s\n",
      "Wall time: 2min 8s\n"
     ]
    }
   ],
   "source": [
    "%%time\n",
    "desc = df_usd['description']\n",
    "cdesc = desc.apply(clean_desc, stemming=False)\n",
    "cdesc_stem = desc.apply(clean_desc, stemming=True)"
   ]
  },
  {
   "cell_type": "code",
   "execution_count": 58,
   "id": "qualified-release",
   "metadata": {},
   "outputs": [
    {
     "data": {
      "text/plain": [
       "'LeBron James gave another all-time press conference in New York'"
      ]
     },
     "execution_count": 58,
     "metadata": {},
     "output_type": "execute_result"
    }
   ],
   "source": [
    "desc[28]\n",
    "# desc[28] - dash"
   ]
  },
  {
   "cell_type": "code",
   "execution_count": 59,
   "id": "found-henry",
   "metadata": {},
   "outputs": [
    {
     "data": {
      "text/plain": [
       "'lebron james gave another time press conference new york'"
      ]
     },
     "execution_count": 59,
     "metadata": {},
     "output_type": "execute_result"
    }
   ],
   "source": [
    "cdesc[28]"
   ]
  },
  {
   "cell_type": "code",
   "execution_count": 60,
   "id": "olympic-helping",
   "metadata": {},
   "outputs": [
    {
     "data": {
      "text/plain": [
       "'lebron jame gave anoth time press confer new york'"
      ]
     },
     "execution_count": 60,
     "metadata": {},
     "output_type": "execute_result"
    }
   ],
   "source": [
    "cdesc_stem[28]"
   ]
  },
  {
   "cell_type": "markdown",
   "id": "structural-tennis",
   "metadata": {},
   "source": [
    "## Term Frequency"
   ]
  },
  {
   "cell_type": "code",
   "execution_count": 96,
   "id": "faced-acting",
   "metadata": {},
   "outputs": [],
   "source": [
    "def plotWf(dictionary, title, logscale=True):\n",
    "    r\"\"\"Plot collection-wide word frequencies.\"\"\"\n",
    "    plt.plot(sorted(dictionary.values(), reverse=True))\n",
    "    plt.xlabel('word')\n",
    "    plt.ylabel('frequency')\n",
    "    if logscale is True:\n",
    "        plt.yscale('log')\n",
    "        plt.ylabel('log(frequency)')\n",
    "    plt.title(f'Corpus-wide word frequency distribution ({title})')\n",
    "    plt.show()\n",
    "\n",
    "def plotDf(dataframe, title, logscale=False):\n",
    "    r\"\"\"Plot collection-wide document-word frequencies.\"\"\"\n",
    "    # document word frequency\n",
    "    df = defaultdict(int)\n",
    "    for word, col in dataframe.iterrows():\n",
    "        df[word] += len(col.dropna())\n",
    "\n",
    "    plt.plot(sorted(df.values(), reverse=True))\n",
    "    plt.xlabel('word')\n",
    "    plt.ylabel('frequency')\n",
    "    if logscale is True:\n",
    "        plt.yscale('log')\n",
    "        plt.ylabel('log(frequency)')\n",
    "    plt.title(f'Corpus-wide document-word frequency distribution ({title})')\n",
    "    plt.show()"
   ]
  },
  {
   "cell_type": "code",
   "execution_count": 94,
   "id": "respective-admission",
   "metadata": {},
   "outputs": [],
   "source": [
    "def tf_vectorize(series):\n",
    "    ''' Takes a series of strings and returns a dataframe,\n",
    "    where each row is a video and each column is a term.\n",
    "    It also returns a dictionary with the frequency of all terms\n",
    "    '''\n",
    "    tf = defaultdict(int)\n",
    "    columns = []\n",
    "    idx = 0\n",
    "    \n",
    "    rows = []\n",
    "    \n",
    "    for vdesc in series:\n",
    "        c = Counter()\n",
    "        for word in vdesc.split(' '):\n",
    "            if word not in tf:\n",
    "                columns.append(word)\n",
    "                idx += 1\n",
    "            tf[word] += 1\n",
    "            c[word] += 1\n",
    "        rows.append(c)\n",
    "\n",
    "    return pd.DataFrame(rows, columns=columns), tf"
   ]
  },
  {
   "cell_type": "markdown",
   "id": "willing-material",
   "metadata": {},
   "source": [
    "#### Tags\n",
    "\n",
    "Because we used a set when pre-processing, the greatest number of occurences of any term in tags is 1"
   ]
  },
  {
   "cell_type": "code",
   "execution_count": 89,
   "id": "satisfied-april",
   "metadata": {},
   "outputs": [
    {
     "name": "stdout",
     "output_type": "stream",
     "text": [
      "CPU times: user 21.2 s, sys: 480 ms, total: 21.7 s\n",
      "Wall time: 21.4 s\n"
     ]
    }
   ],
   "source": [
    "%%time\n",
    "df_tags, tag_terms = tf_vectorize(ctags_stem)"
   ]
  },
  {
   "cell_type": "code",
   "execution_count": 90,
   "id": "amino-anchor",
   "metadata": {},
   "outputs": [
    {
     "data": {
      "text/plain": [
       "(7302, 20079)"
      ]
     },
     "execution_count": 90,
     "metadata": {},
     "output_type": "execute_result"
    }
   ],
   "source": [
    "df_tags.shape"
   ]
  },
  {
   "cell_type": "code",
   "execution_count": 105,
   "id": "unable-crawford",
   "metadata": {
    "scrolled": true
   },
   "outputs": [
    {
     "data": {
      "image/png": "[encoded data removed]",
      "text/plain": [
       "<Figure size 432x288 with 1 Axes>"
      ]
     },
     "metadata": {
      "needs_background": "light"
     },
     "output_type": "display_data"
    }
   ],
   "source": [
    "plotWf(tag_terms, 'tags', logscale=True)"
   ]
  },
  {
   "cell_type": "code",
   "execution_count": 107,
   "id": "wanted-newport",
   "metadata": {},
   "outputs": [
    {
     "data": {
      "image/png": "[encoded data removed]",
      "text/plain": [
       "<Figure size 432x288 with 1 Axes>"
      ]
     },
     "metadata": {
      "needs_background": "light"
     },
     "output_type": "display_data"
    }
   ],
   "source": [
    "plotDf(df_tags, 'tags', logscale=False)"
   ]
  },
  {
   "cell_type": "markdown",
   "id": "interpreted-hayes",
   "metadata": {},
   "source": [
    "#### Description"
   ]
  },
  {
   "cell_type": "code",
   "execution_count": 100,
   "id": "authorized-calibration",
   "metadata": {},
   "outputs": [
    {
     "name": "stdout",
     "output_type": "stream",
     "text": [
      "CPU times: user 54.1 s, sys: 1.99 s, total: 56.1 s\n",
      "Wall time: 55.3 s\n"
     ]
    }
   ],
   "source": [
    "%%time\n",
    "df_desc, desc_terms = tf_vectorize(cdesc_stem)"
   ]
  },
  {
   "cell_type": "code",
   "execution_count": 101,
   "id": "brave-guarantee",
   "metadata": {},
   "outputs": [
    {
     "data": {
      "text/plain": [
       "(7302, 43029)"
      ]
     },
     "execution_count": 101,
     "metadata": {},
     "output_type": "execute_result"
    }
   ],
   "source": [
    "df_desc.shape"
   ]
  },
  {
   "cell_type": "code",
   "execution_count": 102,
   "id": "universal-stability",
   "metadata": {},
   "outputs": [
    {
     "data": {
      "image/png": "[encoded data removed]",
      "text/plain": [
       "<Figure size 432x288 with 1 Axes>"
      ]
     },
     "metadata": {
      "needs_background": "light"
     },
     "output_type": "display_data"
    }
   ],
   "source": [
    "plotWf(desc_terms, 'description', logscale=True)"
   ]
  },
  {
   "cell_type": "code",
   "execution_count": 103,
   "id": "joined-worthy",
   "metadata": {},
   "outputs": [
    {
     "data": {
      "image/png": "[encoded data removed]",
      "text/plain": [
       "<Figure size 432x288 with 1 Axes>"
      ]
     },
     "metadata": {
      "needs_background": "light"
     },
     "output_type": "display_data"
    }
   ],
   "source": [
    "plotDf(df_desc, 'description', logscale=False)"
   ]
  },
  {
   "cell_type": "markdown",
   "id": "consecutive-antibody",
   "metadata": {},
   "source": [
    "#### Overlapping terms"
   ]
  },
  {
   "cell_type": "code",
   "execution_count": 108,
   "id": "novel-airfare",
   "metadata": {},
   "outputs": [
    {
     "name": "stdout",
     "output_type": "stream",
     "text": [
      "12981 overlapping terms\n",
      "50127 unique terms across tags & descriptions\n"
     ]
    }
   ],
   "source": [
    "overlap = set(tag_terms.keys()) & set(desc_terms.keys())\n",
    "union = set(tag_terms.keys()) | set(desc_terms.keys())\n",
    "print(f'{len(overlap)} overlapping terms')\n",
    "print(f'{len(union)} unique terms across tags & descriptions')"
   ]
  },
  {
   "cell_type": "markdown",
   "id": "understanding-toner",
   "metadata": {},
   "source": [
    "## Feature Importance"
   ]
  },
  {
   "cell_type": "code",
   "execution_count": 20,
   "id": "speaking-peripheral",
   "metadata": {
    "scrolled": true
   },
   "outputs": [
    {
     "name": "stdout",
     "output_type": "stream",
     "text": [
      "Number of unique youtube videos (US): 7302\n",
      "Number of unique channels: 2207\n",
      "Max # of unique categories for a channel: 7\n",
      "Average # of unique categories per channel: 1.0693248753964657\n"
     ]
    }
   ],
   "source": [
    "d = defaultdict(set) # channel_title: category_id\n",
    "for row in df_usd.itertuples():\n",
    "    d[row.channel_title].add(row.category_id)\n",
    "\n",
    "dl = [len(val) for val in d.values()]\n",
    "print(f'Number of unique youtube videos (US): {len(df_usd)}')\n",
    "print(f'Number of unique channels: {len(d)}')\n",
    "print(f'Max # of unique categories for a channel: {max(dl)}')\n",
    "print(f'Average # of unique categories per channel: {sum(dl) / len(dl)}')"
   ]
  },
  {
   "cell_type": "code",
   "execution_count": null,
   "id": "patient-dryer",
   "metadata": {},
   "outputs": [],
   "source": []
  }
 ],
 "metadata": {
  "kernelspec": {
   "display_name": "Python 3",
   "language": "python",
   "name": "python3"
  },
  "language_info": {
   "codemirror_mode": {
    "name": "ipython",
    "version": 3
   },
   "file_extension": ".py",
   "mimetype": "text/x-python",
   "name": "python",
   "nbconvert_exporter": "python",
   "pygments_lexer": "ipython3",
   "version": "3.8.5"
  }
 },
 "nbformat": 4,
 "nbformat_minor": 5
}
