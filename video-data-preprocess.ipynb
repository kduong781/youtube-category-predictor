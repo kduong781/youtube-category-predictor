{
 "cells": [
  {
   "cell_type": "code",
   "execution_count": 105,
   "id": "acute-landscape",
   "metadata": {},
   "outputs": [
    {
     "name": "stderr",
     "output_type": "stream",
     "text": [
      "[nltk_data] Downloading package punkt to /home/wardhuang/nltk_data...\n",
      "[nltk_data]   Package punkt is already up-to-date!\n"
     ]
    },
    {
     "data": {
      "text/plain": [
       "True"
      ]
     },
     "execution_count": 105,
     "metadata": {},
     "output_type": "execute_result"
    }
   ],
   "source": [
    "import pandas as pd\n",
    "import numpy as np\n",
    "import unidecode\n",
    "import json\n",
    "import string\n",
    "from time import time\n",
    "import re\n",
    "\n",
    "%matplotlib inline\n",
    "import matplotlib.pyplot as plt\n",
    "from progressbar import ProgressBar\n",
    "from urlextract import URLExtract\n",
    "from collections import defaultdict, Counter\n",
    "\n",
    "from sklearn import metrics\n",
    "from sklearn.utils.extmath import density\n",
    "from sklearn.svm import LinearSVC, SVC\n",
    "from sklearn.linear_model import SGDClassifier\n",
    "from sklearn.naive_bayes import BernoulliNB, ComplementNB, MultinomialNB\n",
    "from sklearn.feature_extraction.text import CountVectorizer\n",
    "from sklearn.model_selection import train_test_split\n",
    "from sklearn.feature_extraction.text import TfidfTransformer\n",
    "\n",
    "import nltk\n",
    "from nltk.corpus import stopwords\n",
    "from nltk.stem.porter import PorterStemmer\n",
    "nltk.download('punkt')"
   ]
  },
  {
   "cell_type": "markdown",
   "id": "aggressive-estate",
   "metadata": {},
   "source": [
    "## Loading files into dataframes"
   ]
  },
  {
   "cell_type": "code",
   "execution_count": 113,
   "id": "previous-proceeding",
   "metadata": {
    "scrolled": false
   },
   "outputs": [],
   "source": [
    "us_videos = pd.read_csv('./USvideos.csv')\n",
    "ca_videos = pd.read_csv('./CAvideos.csv')\n",
    "gb_videos = pd.read_csv('./GBvideos.csv')"
   ]
  },
  {
   "cell_type": "code",
   "execution_count": 114,
   "id": "capable-parish",
   "metadata": {},
   "outputs": [
    {
     "data": {
      "text/plain": [
       "(40949, 16)"
      ]
     },
     "execution_count": 114,
     "metadata": {},
     "output_type": "execute_result"
    }
   ],
   "source": [
    "us_videos.shape"
   ]
  },
  {
   "cell_type": "code",
   "execution_count": 115,
   "id": "opening-litigation",
   "metadata": {},
   "outputs": [
    {
     "data": {
      "text/plain": [
       "(40881, 16)"
      ]
     },
     "execution_count": 115,
     "metadata": {},
     "output_type": "execute_result"
    }
   ],
   "source": [
    "ca_videos.shape"
   ]
  },
  {
   "cell_type": "code",
   "execution_count": 116,
   "id": "ranging-evolution",
   "metadata": {},
   "outputs": [
    {
     "data": {
      "text/plain": [
       "(38916, 16)"
      ]
     },
     "execution_count": 116,
     "metadata": {},
     "output_type": "execute_result"
    }
   ],
   "source": [
    "gb_videos.shape"
   ]
  },
  {
   "cell_type": "code",
   "execution_count": 117,
   "id": "bound-brain",
   "metadata": {},
   "outputs": [
    {
     "data": {
      "text/html": [
       "<div>\n",
       "<style scoped>\n",
       "    .dataframe tbody tr th:only-of-type {\n",
       "        vertical-align: middle;\n",
       "    }\n",
       "\n",
       "    .dataframe tbody tr th {\n",
       "        vertical-align: top;\n",
       "    }\n",
       "\n",
       "    .dataframe thead th {\n",
       "        text-align: right;\n",
       "    }\n",
       "</style>\n",
       "<table border=\"1\" class=\"dataframe\">\n",
       "  <thead>\n",
       "    <tr style=\"text-align: right;\">\n",
       "      <th></th>\n",
       "      <th>video_id</th>\n",
       "      <th>trending_date</th>\n",
       "      <th>title</th>\n",
       "      <th>channel_title</th>\n",
       "      <th>category_id</th>\n",
       "      <th>publish_time</th>\n",
       "      <th>tags</th>\n",
       "      <th>views</th>\n",
       "      <th>likes</th>\n",
       "      <th>dislikes</th>\n",
       "      <th>comment_count</th>\n",
       "      <th>thumbnail_link</th>\n",
       "      <th>comments_disabled</th>\n",
       "      <th>ratings_disabled</th>\n",
       "      <th>video_error_or_removed</th>\n",
       "      <th>description</th>\n",
       "    </tr>\n",
       "  </thead>\n",
       "  <tbody>\n",
       "    <tr>\n",
       "      <th>0</th>\n",
       "      <td>2kyS6SvSYSE</td>\n",
       "      <td>17.14.11</td>\n",
       "      <td>WE WANT TO TALK ABOUT OUR MARRIAGE</td>\n",
       "      <td>CaseyNeistat</td>\n",
       "      <td>22</td>\n",
       "      <td>2017-11-13T17:13:01.000Z</td>\n",
       "      <td>SHANtell martin</td>\n",
       "      <td>748374</td>\n",
       "      <td>57527</td>\n",
       "      <td>2966</td>\n",
       "      <td>15954</td>\n",
       "      <td>https://i.ytimg.com/vi/2kyS6SvSYSE/default.jpg</td>\n",
       "      <td>False</td>\n",
       "      <td>False</td>\n",
       "      <td>False</td>\n",
       "      <td>SHANTELL'S CHANNEL - https://www.youtube.com/s...</td>\n",
       "    </tr>\n",
       "  </tbody>\n",
       "</table>\n",
       "</div>"
      ],
      "text/plain": [
       "      video_id trending_date                               title  \\\n",
       "0  2kyS6SvSYSE      17.14.11  WE WANT TO TALK ABOUT OUR MARRIAGE   \n",
       "\n",
       "  channel_title  category_id              publish_time             tags  \\\n",
       "0  CaseyNeistat           22  2017-11-13T17:13:01.000Z  SHANtell martin   \n",
       "\n",
       "    views  likes  dislikes  comment_count  \\\n",
       "0  748374  57527      2966          15954   \n",
       "\n",
       "                                   thumbnail_link  comments_disabled  \\\n",
       "0  https://i.ytimg.com/vi/2kyS6SvSYSE/default.jpg              False   \n",
       "\n",
       "   ratings_disabled  video_error_or_removed  \\\n",
       "0             False                   False   \n",
       "\n",
       "                                         description  \n",
       "0  SHANTELL'S CHANNEL - https://www.youtube.com/s...  "
      ]
     },
     "execution_count": 117,
     "metadata": {},
     "output_type": "execute_result"
    }
   ],
   "source": [
    "us_videos.head(1)"
   ]
  },
  {
   "cell_type": "markdown",
   "id": "organic-liabilities",
   "metadata": {},
   "source": [
    "Load the json categories into a python dictionary"
   ]
  },
  {
   "cell_type": "code",
   "execution_count": 118,
   "id": "suited-ethiopia",
   "metadata": {},
   "outputs": [],
   "source": [
    "def load_categories(fn):\n",
    "    cat_str = \"\" # the json string\n",
    "\n",
    "    with open(fn, 'r') as f:\n",
    "        cat_str = f.read()\n",
    "    \n",
    "    # python dictionary\n",
    "    cat_obj = json.loads(cat_str)\n",
    "\n",
    "    # array of dictionaries\n",
    "    cats_arr = cat_obj['items']\n",
    "\n",
    "    # dataframe\n",
    "    df = pd.json_normalize(cats_arr).convert_dtypes()\n",
    "\n",
    "    # convert id to int\n",
    "    df['id'] = pd.to_numeric(df['id'])\n",
    "\n",
    "    # select just id and title\n",
    "    df = df.loc[:,['id', 'snippet.title']]\n",
    "\n",
    "    return df"
   ]
  },
  {
   "cell_type": "code",
   "execution_count": 125,
   "id": "cultural-prototype",
   "metadata": {},
   "outputs": [],
   "source": [
    "us_cats = load_categories('./US_category_id.json')\n",
    "ca_cats = load_categories('./CA_category_id.json')\n",
    "gb_cats = load_categories('./GB_category_id.json')"
   ]
  },
  {
   "cell_type": "code",
   "execution_count": 136,
   "id": "lined-graphics",
   "metadata": {},
   "outputs": [
    {
     "data": {
      "text/plain": [
       "(31, 2)"
      ]
     },
     "execution_count": 136,
     "metadata": {},
     "output_type": "execute_result"
    }
   ],
   "source": [
    "ca_cats.shape"
   ]
  },
  {
   "cell_type": "code",
   "execution_count": 137,
   "id": "facial-mason",
   "metadata": {},
   "outputs": [
    {
     "data": {
      "text/plain": [
       "(31, 2)"
      ]
     },
     "execution_count": 137,
     "metadata": {},
     "output_type": "execute_result"
    }
   ],
   "source": [
    "gb_cats.shape"
   ]
  },
  {
   "cell_type": "markdown",
   "id": "italian-davis",
   "metadata": {},
   "source": [
    "Extra category in us categories"
   ]
  },
  {
   "cell_type": "code",
   "execution_count": 143,
   "id": "integrated-therapist",
   "metadata": {},
   "outputs": [
    {
     "data": {
      "text/plain": [
       "(32, 2)"
      ]
     },
     "execution_count": 143,
     "metadata": {},
     "output_type": "execute_result"
    }
   ],
   "source": [
    "us_cats.shape"
   ]
  },
  {
   "cell_type": "markdown",
   "id": "animal-coach",
   "metadata": {},
   "source": [
    "There are 57 entries with that category as a label"
   ]
  },
  {
   "cell_type": "code",
   "execution_count": 153,
   "id": "primary-center",
   "metadata": {
    "scrolled": true
   },
   "outputs": [
    {
     "data": {
      "text/plain": [
       "(57, 16)"
      ]
     },
     "execution_count": 153,
     "metadata": {},
     "output_type": "execute_result"
    }
   ],
   "source": [
    "us_videos[us_videos['category_id'] == 29].shape"
   ]
  },
  {
   "cell_type": "markdown",
   "id": "developed-indonesian",
   "metadata": {},
   "source": [
    "Merged categories (and drop category 29)"
   ]
  },
  {
   "cell_type": "code",
   "execution_count": 156,
   "id": "gentle-victor",
   "metadata": {},
   "outputs": [],
   "source": [
    "merged = us_cats.merge(ca_cats, on='id', suffixes=['_us', '_ca']).merge(gb_cats, on='id')"
   ]
  },
  {
   "cell_type": "markdown",
   "id": "private-holocaust",
   "metadata": {},
   "source": [
    "## Select columns from us_videos\n",
    "\n",
    "We select the columns with identifying information, classification, and text descriptions"
   ]
  },
  {
   "cell_type": "code",
   "execution_count": 4,
   "id": "cellular-virginia",
   "metadata": {
    "scrolled": true
   },
   "outputs": [
    {
     "data": {
      "text/html": [
       "<div>\n",
       "<style scoped>\n",
       "    .dataframe tbody tr th:only-of-type {\n",
       "        vertical-align: middle;\n",
       "    }\n",
       "\n",
       "    .dataframe tbody tr th {\n",
       "        vertical-align: top;\n",
       "    }\n",
       "\n",
       "    .dataframe thead th {\n",
       "        text-align: right;\n",
       "    }\n",
       "</style>\n",
       "<table border=\"1\" class=\"dataframe\">\n",
       "  <thead>\n",
       "    <tr style=\"text-align: right;\">\n",
       "      <th></th>\n",
       "      <th>title</th>\n",
       "      <th>channel_title</th>\n",
       "      <th>category_id</th>\n",
       "      <th>tags</th>\n",
       "      <th>description</th>\n",
       "    </tr>\n",
       "  </thead>\n",
       "  <tbody>\n",
       "    <tr>\n",
       "      <th>40948</th>\n",
       "      <td>Official Call of Duty®: Black Ops 4 — Multipla...</td>\n",
       "      <td>Call of Duty</td>\n",
       "      <td>20</td>\n",
       "      <td>call of duty|\"cod\"|\"activision\"|\"Black Ops 4\"</td>\n",
       "      <td>Call of Duty: Black Ops 4 Multiplayer raises t...</td>\n",
       "    </tr>\n",
       "  </tbody>\n",
       "</table>\n",
       "</div>"
      ],
      "text/plain": [
       "                                                   title channel_title  \\\n",
       "40948  Official Call of Duty®: Black Ops 4 — Multipla...  Call of Duty   \n",
       "\n",
       "       category_id                                           tags  \\\n",
       "40948           20  call of duty|\"cod\"|\"activision\"|\"Black Ops 4\"   \n",
       "\n",
       "                                             description  \n",
       "40948  Call of Duty: Black Ops 4 Multiplayer raises t...  "
      ]
     },
     "execution_count": 4,
     "metadata": {},
     "output_type": "execute_result"
    }
   ],
   "source": [
    "df_us = us_videos.loc[:,['title', 'channel_title', 'category_id', 'tags', 'description']].convert_dtypes()\n",
    "df_us.tail(1)"
   ]
  },
  {
   "cell_type": "code",
   "execution_count": 5,
   "id": "human-evans",
   "metadata": {},
   "outputs": [
    {
     "name": "stdout",
     "output_type": "stream",
     "text": [
      "title            7302\n",
      "channel_title    7302\n",
      "category_id      7302\n",
      "tags             7302\n",
      "description      7197\n",
      "dtype: int64 \n",
      "\n"
     ]
    },
    {
     "data": {
      "text/html": [
       "<div>\n",
       "<style scoped>\n",
       "    .dataframe tbody tr th:only-of-type {\n",
       "        vertical-align: middle;\n",
       "    }\n",
       "\n",
       "    .dataframe tbody tr th {\n",
       "        vertical-align: top;\n",
       "    }\n",
       "\n",
       "    .dataframe thead th {\n",
       "        text-align: right;\n",
       "    }\n",
       "</style>\n",
       "<table border=\"1\" class=\"dataframe\">\n",
       "  <thead>\n",
       "    <tr style=\"text-align: right;\">\n",
       "      <th></th>\n",
       "      <th>title</th>\n",
       "      <th>channel_title</th>\n",
       "      <th>tags</th>\n",
       "      <th>description</th>\n",
       "      <th>category</th>\n",
       "    </tr>\n",
       "  </thead>\n",
       "  <tbody>\n",
       "    <tr>\n",
       "      <th>0</th>\n",
       "      <td>WE WANT TO TALK ABOUT OUR MARRIAGE</td>\n",
       "      <td>CaseyNeistat</td>\n",
       "      <td>SHANtell martin</td>\n",
       "      <td>SHANTELL'S CHANNEL - https://www.youtube.com/s...</td>\n",
       "      <td>People &amp; Blogs</td>\n",
       "    </tr>\n",
       "  </tbody>\n",
       "</table>\n",
       "</div>"
      ],
      "text/plain": [
       "                                title channel_title             tags  \\\n",
       "0  WE WANT TO TALK ABOUT OUR MARRIAGE  CaseyNeistat  SHANtell martin   \n",
       "\n",
       "                                         description        category  \n",
       "0  SHANTELL'S CHANNEL - https://www.youtube.com/s...  People & Blogs  "
      ]
     },
     "execution_count": 5,
     "metadata": {},
     "output_type": "execute_result"
    }
   ],
   "source": [
    "df_usd = df_us.drop_duplicates(ignore_index=True)\n",
    "\n",
    "print(df_usd.count(), \"\\n\")\n",
    "\n",
    "# merge on category_id\n",
    "df_usd = df_usd.merge(us_cats, left_on='category_id', right_on='id')\n",
    "\n",
    "# drop category_id\n",
    "df_usd = df_usd.drop(['id', 'category_id'], axis=1)\n",
    "df_usd = df_usd.rename(columns={\"snippet.title\": \"category\"})\n",
    "df_usd.head(1)"
   ]
  },
  {
   "cell_type": "markdown",
   "id": "widespread-directive",
   "metadata": {},
   "source": [
    "## Text Preprocessing"
   ]
  },
  {
   "cell_type": "markdown",
   "id": "threaded-hopkins",
   "metadata": {},
   "source": [
    "Things to consider removing:\n",
    "- emails: `c.amber@gmail.com`\n",
    "- normal urls: `http://facebook.com`\n",
    "- other urls: `www.facebook.com`\n",
    "- unicode: `\\xa0`\n",
    "- punctuation: `!\"#$%&\\'()*+,-./:;<=>?@[\\\\]^_{|}~`\n",
    "- numbers: `1234`\n",
    "- nonsense: `PLvahqwMqN4M35d1XdbUEWZT_r36Z6tIz3`"
   ]
  },
  {
   "cell_type": "code",
   "execution_count": 6,
   "id": "occasional-scholarship",
   "metadata": {},
   "outputs": [],
   "source": [
    "en_stops = set([word.replace(\"'\", '') for word in stopwords.words('english')])\n",
    "\n",
    "# custom stop_words\n",
    "custom_stops = set([\"cant\", \"follow\", \"subscribe\", \"like\", \"comment\"])\n",
    "\n",
    "# terms to ignore\n",
    "ignore = en_stops | custom_stops\n",
    "\n",
    "# special characters to remove\n",
    "specials = r'[' + re.escape(string.punctuation) + ']'\n",
    "\n",
    "porter_stemmer = PorterStemmer()"
   ]
  },
  {
   "cell_type": "code",
   "execution_count": 7,
   "id": "advanced-lawsuit",
   "metadata": {},
   "outputs": [
    {
     "data": {
      "text/plain": [
       "'!\"#$%&\\'()*+,-./:;<=>?@[\\\\]^_`{|}~'"
      ]
     },
     "execution_count": 7,
     "metadata": {},
     "output_type": "execute_result"
    }
   ],
   "source": [
    "string.punctuation"
   ]
  },
  {
   "cell_type": "markdown",
   "id": "known-angel",
   "metadata": {},
   "source": [
    "#### Cleaning the title?"
   ]
  },
  {
   "cell_type": "code",
   "execution_count": 8,
   "id": "original-hawaii",
   "metadata": {},
   "outputs": [],
   "source": [
    "def clean_title(s, stemming=True, min_length=0):\n",
    "    \n",
    "    # errors = oneof [ignore, preserve, replace]\n",
    "    ss = unidecode.unidecode(s, errors='ignore')\n",
    "    \n",
    "    # replace dashes with empty space\n",
    "    ss = ss.replace('-', ' ')\n",
    "\n",
    "    ss = re.sub(specials, '', ss)\n",
    "    \n",
    "    words = ss.split(' ')\n",
    "    \n",
    "    words = [word.lower().strip() for word in words if len(word) > min_length and word not in ignore]\n",
    "    \n",
    "    if stemming:\n",
    "        words = map(porter_stemmer.stem, words)\n",
    "    \n",
    "    return ' '.join(words)"
   ]
  },
  {
   "cell_type": "code",
   "execution_count": 9,
   "id": "adequate-breath",
   "metadata": {},
   "outputs": [
    {
     "name": "stdout",
     "output_type": "stream",
     "text": [
      "CPU times: user 802 ms, sys: 9.28 ms, total: 811 ms\n",
      "Wall time: 826 ms\n"
     ]
    }
   ],
   "source": [
    "%%time\n",
    "titles = df_usd['title']\n",
    "ctitles = titles.apply(clean_title, stemming=False)\n",
    "ctitles_stem = titles.apply(clean_title, stemming=True)"
   ]
  },
  {
   "cell_type": "code",
   "execution_count": 10,
   "id": "affecting-helmet",
   "metadata": {},
   "outputs": [
    {
     "data": {
      "text/plain": [
       "'WE WANT TO TALK ABOUT OUR MARRIAGE'"
      ]
     },
     "execution_count": 10,
     "metadata": {},
     "output_type": "execute_result"
    }
   ],
   "source": [
    "titles[0]"
   ]
  },
  {
   "cell_type": "code",
   "execution_count": 11,
   "id": "swiss-customs",
   "metadata": {},
   "outputs": [
    {
     "data": {
      "text/plain": [
       "'we want to talk about our marriage'"
      ]
     },
     "execution_count": 11,
     "metadata": {},
     "output_type": "execute_result"
    }
   ],
   "source": [
    "ctitles[0]"
   ]
  },
  {
   "cell_type": "code",
   "execution_count": 12,
   "id": "scenic-physics",
   "metadata": {},
   "outputs": [
    {
     "data": {
      "text/plain": [
       "'we want to talk about our marriag'"
      ]
     },
     "execution_count": 12,
     "metadata": {},
     "output_type": "execute_result"
    }
   ],
   "source": [
    "ctitles_stem[0]"
   ]
  },
  {
   "cell_type": "markdown",
   "id": "incomplete-parks",
   "metadata": {},
   "source": [
    "#### Cleaning the tags"
   ]
  },
  {
   "cell_type": "code",
   "execution_count": 13,
   "id": "consistent-atlantic",
   "metadata": {},
   "outputs": [],
   "source": [
    "def clean_tags(s, stemming=True, min_length=2):\n",
    "\n",
    "    ss = s.replace('|', ' ')\n",
    "\n",
    "    # errors = oneof [ignore, preserve, replace]\n",
    "    ss = unidecode.unidecode(ss, errors='ignore')\n",
    "    \n",
    "    # replace dashes with empty space\n",
    "    ss = ss.replace('-', ' ')\n",
    "\n",
    "    ss = re.sub(specials, '', ss)\n",
    "\n",
    "    words = ss.split(' ')\n",
    "\n",
    "    words = [word.lower().strip() for word in words if len(word) > min_length and word not in ignore]\n",
    "\n",
    "    if stemming:\n",
    "        words = map(porter_stemmer.stem, words)\n",
    "\n",
    "    return ' '.join(words)"
   ]
  },
  {
   "cell_type": "code",
   "execution_count": 14,
   "id": "portuguese-delivery",
   "metadata": {},
   "outputs": [
    {
     "name": "stdout",
     "output_type": "stream",
     "text": [
      "CPU times: user 3.69 s, sys: 7.05 ms, total: 3.69 s\n",
      "Wall time: 3.7 s\n"
     ]
    }
   ],
   "source": [
    "%%time\n",
    "tags = df_usd['tags']\n",
    "ctags = tags.apply(clean_tags, stemming=False)\n",
    "ctags_stem = tags.apply(clean_tags, stemming=True)"
   ]
  },
  {
   "cell_type": "code",
   "execution_count": 15,
   "id": "intellectual-craps",
   "metadata": {
    "scrolled": true
   },
   "outputs": [
    {
     "data": {
      "text/plain": [
       "'BuzzFeed|\"BuzzFeedAsIs\"|\"BuzzFeed As/is\"|\"As/Is\"|\"asis\"|\"women try\"|\"women\"|\"try\"|\"one size fits all\"|\"bridesmaid\"|\"dress\"|\"bridesmaid dress\"|\"bridesmaid dresses\"|\"one size\"|\"fits all\"|\"wedding\"|\"bridesmaids\"|\"bridesmaids dress\"|\"bridesmaids dresses\"|\"wedding dress\"|\"bridal\"|\"best bridesmaid dresses\"|\"fashion\"|\"dresses\"|\"wedding planning\"|\"dress shopping\"|\"wedding style\"|\"dress ideas\"|\"review\"|\"plus size\"|\"BuzzFeedBoldly\"|\"BuzzFeed Boldly\"|\"Boldly\"|\"convertible dress\"|\"online shopping\"'"
      ]
     },
     "execution_count": 15,
     "metadata": {},
     "output_type": "execute_result"
    }
   ],
   "source": [
    "tags[397]"
   ]
  },
  {
   "cell_type": "code",
   "execution_count": 16,
   "id": "institutional-armenia",
   "metadata": {},
   "outputs": [
    {
     "data": {
      "text/plain": [
       "'buzzfeed buzzfeedasis buzzfeed asis asis asis women try women try one size fits bridesmaid dress bridesmaid dress bridesmaid dresses one size fits wedding bridesmaids bridesmaids dress bridesmaids dresses wedding dress bridal best bridesmaid dresses fashion dresses wedding planning dress shopping wedding style dress ideas review plus size buzzfeedboldly buzzfeed boldly boldly convertible dress online shopping'"
      ]
     },
     "execution_count": 16,
     "metadata": {},
     "output_type": "execute_result"
    }
   ],
   "source": [
    "ctags[397]"
   ]
  },
  {
   "cell_type": "code",
   "execution_count": 17,
   "id": "directed-forest",
   "metadata": {},
   "outputs": [
    {
     "data": {
      "text/plain": [
       "'buzzfe buzzfeedasi buzzfe asi asi asi women tri women tri one size fit bridesmaid dress bridesmaid dress bridesmaid dress one size fit wed bridesmaid bridesmaid dress bridesmaid dress wed dress bridal best bridesmaid dress fashion dress wed plan dress shop wed style dress idea review plu size buzzfeedboldli buzzfe boldli boldli convert dress onlin shop'"
      ]
     },
     "execution_count": 17,
     "metadata": {},
     "output_type": "execute_result"
    }
   ],
   "source": [
    "ctags_stem[397]"
   ]
  },
  {
   "cell_type": "markdown",
   "id": "overhead-madison",
   "metadata": {},
   "source": [
    "#### Cleaning the description"
   ]
  },
  {
   "cell_type": "code",
   "execution_count": 18,
   "id": "possible-pendant",
   "metadata": {},
   "outputs": [],
   "source": [
    "extractor = URLExtract(extract_email=True)"
   ]
  },
  {
   "cell_type": "code",
   "execution_count": 19,
   "id": "automotive-creator",
   "metadata": {},
   "outputs": [],
   "source": [
    "def clean_desc(s, stemming=True, min_length=3):\n",
    "\n",
    "    # Handle case of missing description\n",
    "    if pd.isna(s):\n",
    "        return ''\n",
    "\n",
    "    # errors = oneof [ignore, preserve, replace]\n",
    "    ss = unidecode.unidecode(s, errors='ignore')\n",
    "    \n",
    "    # replace newlines and dashes with empty space\n",
    "    ss = re.sub(r'(' + re.escape(\"\\\\n\") + ')|-', ' ', ss)\n",
    "\n",
    "    # find and remove urls\n",
    "    for url in extractor.find_urls(ss[::]):\n",
    "        ss = re.sub(r'' + re.escape(url), '', ss)\n",
    "    \n",
    "    res = ss.split(' ')\n",
    "    \n",
    "    idx = 0\n",
    "    for word in res[::]:\n",
    "        # remove punctuation\n",
    "        cword = re.sub(specials, '', word).strip().lower()\n",
    "        if len(cword) > min_length and cword not in ignore:\n",
    "            res[idx] = cword\n",
    "            idx += 1\n",
    "\n",
    "    if stemming:\n",
    "        return ' '.join(map(porter_stemmer.stem, res[:idx]))\n",
    "    else:\n",
    "        return ' '.join(res[:idx])"
   ]
  },
  {
   "cell_type": "code",
   "execution_count": 20,
   "id": "consolidated-token",
   "metadata": {
    "scrolled": true
   },
   "outputs": [
    {
     "name": "stdout",
     "output_type": "stream",
     "text": [
      "CPU times: user 1min 45s, sys: 52.1 ms, total: 1min 45s\n",
      "Wall time: 1min 45s\n"
     ]
    }
   ],
   "source": [
    "%%time\n",
    "desc = df_usd['description']\n",
    "cdesc = desc.apply(clean_desc, stemming=False)\n",
    "cdesc_stem = desc.apply(clean_desc, stemming=True)"
   ]
  },
  {
   "cell_type": "code",
   "execution_count": 21,
   "id": "qualified-release",
   "metadata": {},
   "outputs": [
    {
     "data": {
      "text/plain": [
       "'Need I say more?'"
      ]
     },
     "execution_count": 21,
     "metadata": {},
     "output_type": "execute_result"
    }
   ],
   "source": [
    "desc[28]\n",
    "# desc[28] - dash"
   ]
  },
  {
   "cell_type": "code",
   "execution_count": 22,
   "id": "found-henry",
   "metadata": {},
   "outputs": [
    {
     "data": {
      "text/plain": [
       "'need'"
      ]
     },
     "execution_count": 22,
     "metadata": {},
     "output_type": "execute_result"
    }
   ],
   "source": [
    "cdesc[28]"
   ]
  },
  {
   "cell_type": "code",
   "execution_count": 23,
   "id": "olympic-helping",
   "metadata": {},
   "outputs": [
    {
     "data": {
      "text/plain": [
       "'need'"
      ]
     },
     "execution_count": 23,
     "metadata": {},
     "output_type": "execute_result"
    }
   ],
   "source": [
    "cdesc_stem[28]"
   ]
  },
  {
   "cell_type": "markdown",
   "id": "structural-tennis",
   "metadata": {},
   "source": [
    "## Term Frequency"
   ]
  },
  {
   "cell_type": "markdown",
   "id": "heard-jamaica",
   "metadata": {},
   "source": [
    "### Combine titles, tags, descriptions...\n",
    "\n",
    "Let's find a good minimum document frequency"
   ]
  },
  {
   "cell_type": "code",
   "execution_count": 54,
   "id": "technical-sally",
   "metadata": {},
   "outputs": [
    {
     "name": "stdout",
     "output_type": "stream",
     "text": [
      "CPU times: user 8.77 s, sys: 32 ms, total: 8.8 s\n",
      "Wall time: 8.8 s\n"
     ]
    }
   ],
   "source": [
    "%%time\n",
    "\n",
    "num_features = []\n",
    "\n",
    "for min_df in range(1,20):\n",
    "    count_vectorizer = CountVectorizer(max_df=0.5, min_df=min_df)\n",
    "    combined = map(' '.join, zip(ctitles_stem, ctags_stem, cdesc_stem))\n",
    "    combined_tf = count_vectorizer.fit_transform(combined)\n",
    "    num_features.append(combined_tf.shape[1])"
   ]
  },
  {
   "cell_type": "code",
   "execution_count": 55,
   "id": "greatest-spokesman",
   "metadata": {},
   "outputs": [
    {
     "data": {
      "image/png": "[encoded data removed]",
      "text/plain": [
       "<Figure size 432x288 with 1 Axes>"
      ]
     },
     "metadata": {
      "needs_background": "light"
     },
     "output_type": "display_data"
    }
   ],
   "source": [
    "plt.plot(num_features)\n",
    "plt.xlabel('DF Threshold')\n",
    "plt.ylabel('Number of Features')\n",
    "plt.title(f'Num Features by Minimum Document Frequency')\n",
    "plt.show()"
   ]
  },
  {
   "cell_type": "markdown",
   "id": "fifty-orange",
   "metadata": {},
   "source": [
    "Elbow method? Try min_df of 4"
   ]
  },
  {
   "cell_type": "code",
   "execution_count": 92,
   "id": "amino-sampling",
   "metadata": {},
   "outputs": [
    {
     "data": {
      "text/plain": [
       "(7302, 10240)"
      ]
     },
     "execution_count": 92,
     "metadata": {},
     "output_type": "execute_result"
    }
   ],
   "source": [
    "combined = map(' '.join, zip(ctitles_stem, ctags_stem, cdesc_stem))\n",
    "count_vectorizer = CountVectorizer(max_df=0.5, min_df=5)\n",
    "combined_tf = count_vectorizer.fit_transform(combined)\n",
    "combined_tf.shape"
   ]
  },
  {
   "cell_type": "code",
   "execution_count": 93,
   "id": "exact-vertical",
   "metadata": {},
   "outputs": [],
   "source": [
    "feature_names = count_vectorizer.get_feature_names()"
   ]
  },
  {
   "cell_type": "markdown",
   "id": "guilty-vietnamese",
   "metadata": {},
   "source": [
    "### Split into test / training"
   ]
  },
  {
   "cell_type": "code",
   "execution_count": 95,
   "id": "promotional-national",
   "metadata": {},
   "outputs": [],
   "source": [
    "X_train, X_test, y_train, y_test = train_test_split(combined_tf,\n",
    "                                                    df_usd['category'], test_size=0.3, random_state=8)"
   ]
  },
  {
   "cell_type": "markdown",
   "id": "surprised-assurance",
   "metadata": {},
   "source": [
    "### Scale by IDF and L2 normalize"
   ]
  },
  {
   "cell_type": "code",
   "execution_count": 96,
   "id": "forward-climb",
   "metadata": {},
   "outputs": [],
   "source": [
    "transformer = TfidfTransformer(norm='l2', use_idf=True, sublinear_tf=True)"
   ]
  },
  {
   "cell_type": "code",
   "execution_count": 97,
   "id": "every-equilibrium",
   "metadata": {},
   "outputs": [
    {
     "data": {
      "text/plain": [
       "(5111, 10240)"
      ]
     },
     "execution_count": 97,
     "metadata": {},
     "output_type": "execute_result"
    }
   ],
   "source": [
    "X_train_tr = transformer.fit_transform(X_train)\n",
    "X_train_tr.shape"
   ]
  },
  {
   "cell_type": "code",
   "execution_count": 98,
   "id": "hired-amount",
   "metadata": {},
   "outputs": [
    {
     "data": {
      "text/plain": [
       "(2191, 10240)"
      ]
     },
     "execution_count": 98,
     "metadata": {},
     "output_type": "execute_result"
    }
   ],
   "source": [
    "X_test_tr = transformer.transform(X_test)\n",
    "X_test_tr.shape"
   ]
  },
  {
   "cell_type": "markdown",
   "id": "caroline-machine",
   "metadata": {},
   "source": [
    "### Training"
   ]
  },
  {
   "cell_type": "code",
   "execution_count": 99,
   "id": "equipped-reynolds",
   "metadata": {},
   "outputs": [],
   "source": [
    "def benchmark(clf, print_cm=True):\n",
    "    print('_' * 80)\n",
    "    print(\"Training: \")\n",
    "    print(clf)\n",
    "    t0 = time()\n",
    "    clf.fit(X_train_tr, y_train)\n",
    "    train_time = time() - t0\n",
    "    print(\"train time: %0.3fs\" % train_time)\n",
    "\n",
    "    t0 = time()\n",
    "    pred = clf.predict(X_test_tr)\n",
    "    test_time = time() - t0\n",
    "    print(\"test time:  %0.3fs\" % test_time)\n",
    "\n",
    "    score = metrics.accuracy_score(y_test, pred)\n",
    "    print(\"accuracy:   %0.3f\" % score)\n",
    "\n",
    "    if hasattr(clf, 'coef_'):\n",
    "        print(\"dimensionality: %d\" % clf.coef_.shape[1])\n",
    "        print(\"density: %f\" % density(clf.coef_))\n",
    "        print()\n",
    "\n",
    "    if print_cm:\n",
    "        print(\"confusion matrix:\")\n",
    "        print(metrics.confusion_matrix(y_test, pred))\n",
    "\n",
    "    print()\n",
    "    clf_descr = str(clf).split('(')[0]\n",
    "    return clf_descr, score, train_time, test_time\n",
    "\n",
    "def trim(s):\n",
    "    \"\"\"Trim string to fit on terminal (assuming 80-column display)\"\"\"\n",
    "    return s if len(s) <= 80 else s[:77] + \"...\""
   ]
  },
  {
   "cell_type": "code",
   "execution_count": 100,
   "id": "attractive-decade",
   "metadata": {},
   "outputs": [
    {
     "name": "stdout",
     "output_type": "stream",
     "text": [
      "________________________________________________________________________________\n",
      "Training: \n",
      "SGDClassifier(max_iter=100, penalty='elasticnet')\n",
      "train time: 0.639s\n",
      "test time:  0.002s\n",
      "accuracy:   0.819\n",
      "dimensionality: 10240\n",
      "density: 0.239563\n",
      "\n",
      "confusion matrix:\n",
      "[[ 12   0   0   2   0   0   0   0   0   0   0   0   8   2   0]\n",
      " [  0 165   0   9   1   0   2   3   1   0   4   2   0   0   0]\n",
      " [  2   1  74   5   1   0   2   1   2   0   0   0   3   0   0]\n",
      " [  0   9   3 471  11   1  17  16   5   0   9   1   3   3   0]\n",
      " [  0   2   0  32  52   0   3   2   1   0   5   0   3   0   1]\n",
      " [  0   1   1   2   0  34   0   0   0   0   0   0   0   0   0]\n",
      " [  0   0   0   8   0   0 164   1   1   0   7   0   2   0   0]\n",
      " [  0   1   0   9   3   0   0 281   1   0   4   0   1   0   0]\n",
      " [  0   0   1  11   0   0   0   0 146   0   4   2   4   2   0]\n",
      " [  0   0   0   1   0   0   0   0   0   1   0   0   1   0   0]\n",
      " [  1   5   0  40   1   0  13   7   5   0  90   2   8   6   0]\n",
      " [  0   0   0   3   1   0   0   0   1   0   0  49   0   1   0]\n",
      " [  1   0   2   9   1   0   4   2   4   0   6   0 112   1   1]\n",
      " [  1   0   0   7   0   0   0   1   4   0   3   0   3 133   0]\n",
      " [  0   0   0   0   0   0   5   0   0   0   0   0   1   0  11]]\n",
      "\n"
     ]
    },
    {
     "data": {
      "text/plain": [
       "('SGDClassifier', 0.81926061159288, 0.6394355297088623, 0.0022377967834472656)"
      ]
     },
     "execution_count": 100,
     "metadata": {},
     "output_type": "execute_result"
    }
   ],
   "source": [
    "benchmark(SGDClassifier(alpha=.0001, max_iter=100,\n",
    "                                           penalty=\"elasticnet\"))"
   ]
  },
  {
   "cell_type": "code",
   "execution_count": 108,
   "id": "centered-carbon",
   "metadata": {},
   "outputs": [
    {
     "name": "stdout",
     "output_type": "stream",
     "text": [
      "________________________________________________________________________________\n",
      "Training: \n",
      "LinearSVC()\n",
      "train time: 0.350s\n",
      "test time:  0.002s\n",
      "accuracy:   0.825\n",
      "dimensionality: 10240\n",
      "density: 0.824695\n",
      "\n",
      "confusion matrix:\n",
      "[[ 12   0   0   3   0   0   0   0   0   0   0   0   7   2   0]\n",
      " [  0 167   0   8   1   0   1   4   1   0   3   2   0   0   0]\n",
      " [  2   2  74   5   0   0   2   1   1   0   0   0   4   0   0]\n",
      " [  0  10   1 472  10   1  18  16   4   0  11   1   3   2   0]\n",
      " [  0   2   0  29  56   0   2   3   1   0   5   0   2   0   1]\n",
      " [  0   1   0   4   0  33   0   0   0   0   0   0   0   0   0]\n",
      " [  0   0   0  10   0   0 165   1   1   0   4   0   1   0   1]\n",
      " [  0   1   0   8   4   0   0 282   0   0   4   0   1   0   0]\n",
      " [  0   1   0  13   0   0   1   0 144   0   3   2   4   2   0]\n",
      " [  0   0   0   1   0   0   0   0   0   1   0   0   1   0   0]\n",
      " [  1   3   0  41   2   0  13   7   3   0  94   2   6   5   1]\n",
      " [  0   0   0   2   1   0   0   0   1   0   2  48   0   1   0]\n",
      " [  1   0   2   8   2   0   7   2   3   0   5   0 112   1   0]\n",
      " [  1   0   0   5   0   0   0   1   4   0   3   0   3 135   0]\n",
      " [  0   0   0   0   0   0   4   0   0   0   0   0   1   0  12]]\n",
      "\n"
     ]
    },
    {
     "data": {
      "text/plain": [
       "('LinearSVC', 0.824737562756732, 0.35034608840942383, 0.0019042491912841797)"
      ]
     },
     "execution_count": 108,
     "metadata": {},
     "output_type": "execute_result"
    }
   ],
   "source": [
    "benchmark(LinearSVC())"
   ]
  },
  {
   "cell_type": "code",
   "execution_count": 102,
   "id": "fatty-beach",
   "metadata": {},
   "outputs": [
    {
     "name": "stdout",
     "output_type": "stream",
     "text": [
      "________________________________________________________________________________\n",
      "Training: \n",
      "MultinomialNB(alpha=0.01)\n",
      "train time: 0.062s\n",
      "test time:  0.004s\n",
      "accuracy:   0.787\n",
      "dimensionality: 10240\n",
      "density: 1.000000\n",
      "\n",
      "confusion matrix:\n",
      "[[ 11   0   0   4   0   0   0   0   0   0   0   0   8   0   1   0]\n",
      " [  0 157   0  16   2   0   1   2   2   0   5   1   0   0   1   0]\n",
      " [  1   1  70   8   0   0   2   1   0   0   0   0   8   0   0   0]\n",
      " [  2  14   1 448   5   1  23  20   2   0  13   1  15   0   3   1]\n",
      " [  0   2   2  34  50   1   3   1   1   0   5   0   1   0   0   1]\n",
      " [  0   0   0   8   1  27   0   0   0   0   0   0   2   0   0   0]\n",
      " [  0   0   0  10   1   0 159   2   1   0   7   0   3   0   0   0]\n",
      " [  0   2   0  26   3   0   0 263   1   0   2   0   3   0   0   0]\n",
      " [  0   0   0  15   0   0   1   0 145   0   2   0   6   0   1   0]\n",
      " [  0   0   1   1   0   0   0   0   0   1   0   0   0   0   0   0]\n",
      " [  2   6   1  42   3   0  15   5   4   0  83   1   9   1   5   1]\n",
      " [  0   0   0   1   1   0   0   1   0   0   3  47   0   0   2   0]\n",
      " [  2   0   2   9   0   0   5   1   5   0   1   0 118   0   0   0]\n",
      " [  0   0   0   0   0   0   0   0   0   0   0   0   0   0   0   0]\n",
      " [  2   1   0   8   0   0   3   2   2   0   1   0   1   0 132   0]\n",
      " [  0   0   0   2   0   0   2   0   0   0   0   0   0   0   0  13]]\n",
      "\n"
     ]
    },
    {
     "name": "stderr",
     "output_type": "stream",
     "text": [
      "/home/wardhuang/anaconda3/envs/255/lib/python3.8/site-packages/sklearn/utils/deprecation.py:101: FutureWarning: Attribute coef_ was deprecated in version 0.24 and will be removed in 1.1 (renaming of 0.26).\n",
      "  warnings.warn(msg, category=FutureWarning)\n"
     ]
    },
    {
     "data": {
      "text/plain": [
       "('MultinomialNB',\n",
       " 0.786855317206755,\n",
       " 0.062064170837402344,\n",
       " 0.003629446029663086)"
      ]
     },
     "execution_count": 102,
     "metadata": {},
     "output_type": "execute_result"
    }
   ],
   "source": [
    "benchmark(MultinomialNB(alpha=.01))"
   ]
  },
  {
   "cell_type": "code",
   "execution_count": 103,
   "id": "damaged-newsletter",
   "metadata": {},
   "outputs": [
    {
     "name": "stdout",
     "output_type": "stream",
     "text": [
      "________________________________________________________________________________\n",
      "Training: \n",
      "BernoulliNB(alpha=0.01)\n",
      "train time: 0.029s\n",
      "test time:  0.006s\n",
      "accuracy:   0.769\n",
      "dimensionality: 10240\n",
      "density: 1.000000\n",
      "\n",
      "confusion matrix:\n",
      "[[ 10   0   0   4   0   0   0   0   0   0   1   0   8   1   0]\n",
      " [  1 146   0  14   1   3   1   3   1   0  14   1   0   2   0]\n",
      " [  2   0  69   6   0   0   1   1   0   0   2   0   7   3   0]\n",
      " [  2  23   1 404   6   3  22  32   2   0  29   4  16   4   1]\n",
      " [  1   0   0  18  53   2   3   5   4   0  12   0   2   0   1]\n",
      " [  0   1   0   3   1  31   0   0   1   0   0   0   1   0   0]\n",
      " [  0   0   0   8   0   1 144   1   1   0  25   0   3   0   0]\n",
      " [  0   1   0  11   2   0   0 277   1   0   5   0   3   0   0]\n",
      " [  0   0   0   5   0   1   1   1 151   0   4   2   3   2   0]\n",
      " [  0   0   0   0   1   0   0   0   1   1   0   0   0   0   0]\n",
      " [  3   1   1  25   2   5   8  16   6   0  99   0   6   5   1]\n",
      " [  0   0   0   1   1   0   0   3   0   0   7  41   0   2   0]\n",
      " [  2   0   2   2   0   2   2   4   4   1  10   0 113   1   0]\n",
      " [  3   0   0   1   0   0   0   2   4   0   6   0   4 132   0]\n",
      " [  0   0   0   2   0   0   1   0   0   0   0   0   0   0  14]]\n",
      "\n"
     ]
    },
    {
     "name": "stderr",
     "output_type": "stream",
     "text": [
      "/home/wardhuang/anaconda3/envs/255/lib/python3.8/site-packages/sklearn/utils/deprecation.py:101: FutureWarning: Attribute coef_ was deprecated in version 0.24 and will be removed in 1.1 (renaming of 0.26).\n",
      "  warnings.warn(msg, category=FutureWarning)\n"
     ]
    },
    {
     "data": {
      "text/plain": [
       "('BernoulliNB', 0.7690552259242355, 0.028960704803466797, 0.0059356689453125)"
      ]
     },
     "execution_count": 103,
     "metadata": {},
     "output_type": "execute_result"
    }
   ],
   "source": [
    "benchmark(BernoulliNB(alpha=.01))"
   ]
  },
  {
   "cell_type": "code",
   "execution_count": 104,
   "id": "bizarre-senator",
   "metadata": {},
   "outputs": [
    {
     "name": "stdout",
     "output_type": "stream",
     "text": [
      "________________________________________________________________________________\n",
      "Training: \n",
      "ComplementNB(alpha=0.1)\n",
      "train time: 0.095s\n",
      "test time:  0.003s\n",
      "accuracy:   0.784\n",
      "dimensionality: 10240\n",
      "density: 1.000000\n",
      "\n",
      "confusion matrix:\n",
      "[[  9   0   0   1   0   0   0   0   0   0   0   0  10   4   0]\n",
      " [  1 156   0  12   2   0   5   4   3   0   1   1   0   2   0]\n",
      " [  2   2  75   1   1   0   1   1   2   0   3   0   3   0   0]\n",
      " [  1  10   5 408   5   3  42  37   7   0   8   4  11   8   0]\n",
      " [  1   6   1  26  48   1   5   2   3   0   3   0   1   3   1]\n",
      " [  0   1   0   3   0  31   0   0   0   0   0   0   3   0   0]\n",
      " [  0   0   1   3   1   1 167   4   1   0   1   0   3   1   0]\n",
      " [  0   2   0   7   2   0   1 283   1   0   1   0   3   0   0]\n",
      " [  0   0   0   6   0   0   1   0 153   0   0   1   6   3   0]\n",
      " [  0   0   0   1   0   0   0   1   1   0   0   0   0   0   0]\n",
      " [  1   7   0  23   2   0  26  16   7   0  78   2   9   7   0]\n",
      " [  0   0   0   1   1   0   1   3   0   0   0  47   0   2   0]\n",
      " [  1   0   3   1   2   1   7   1   7   0   3   1 116   0   0]\n",
      " [  0   0   0   3   1   0   2   3   3   0   1   0   0 139   0]\n",
      " [  1   0   1   0   1   0   7   0   0   0   0   0   0   0   7]]\n",
      "\n"
     ]
    },
    {
     "name": "stderr",
     "output_type": "stream",
     "text": [
      "/home/wardhuang/anaconda3/envs/255/lib/python3.8/site-packages/sklearn/utils/deprecation.py:101: FutureWarning: Attribute coef_ was deprecated in version 0.24 and will be removed in 1.1 (renaming of 0.26).\n",
      "  warnings.warn(msg, category=FutureWarning)\n"
     ]
    },
    {
     "data": {
      "text/plain": [
       "('ComplementNB',\n",
       " 0.7836604290278412,\n",
       " 0.09450340270996094,\n",
       " 0.0026302337646484375)"
      ]
     },
     "execution_count": 104,
     "metadata": {},
     "output_type": "execute_result"
    }
   ],
   "source": [
    "benchmark(ComplementNB(alpha=.1))"
   ]
  },
  {
   "cell_type": "code",
   "execution_count": null,
   "id": "advised-rapid",
   "metadata": {},
   "outputs": [],
   "source": []
  },
  {
   "cell_type": "markdown",
   "id": "necessary-wings",
   "metadata": {},
   "source": [
    "## Extra code"
   ]
  },
  {
   "cell_type": "code",
   "execution_count": 35,
   "id": "obvious-rating",
   "metadata": {},
   "outputs": [],
   "source": [
    "def plotWf(dictionary, title, logscale=True):\n",
    "    r\"\"\"Plot collection-wide word frequencies.\"\"\"\n",
    "    plt.plot(sorted(dictionary.values(), reverse=True))\n",
    "    plt.xlabel('word')\n",
    "    plt.ylabel('frequency')\n",
    "    if logscale is True:\n",
    "        plt.yscale('log')\n",
    "        plt.ylabel('log(frequency)')\n",
    "    plt.title(f'Corpus-wide word frequency distribution ({title})')\n",
    "    plt.show()\n",
    "\n",
    "def plotDf(dataframe, title, logscale=False):\n",
    "    r\"\"\"Plot collection-wide document-word frequencies.\"\"\"\n",
    "    # document word frequency\n",
    "    df = defaultdict(int)\n",
    "    for word, col in dataframe.iterrows():\n",
    "        df[word] += len(col.dropna())\n",
    "\n",
    "    plt.plot(sorted(df.values(), reverse=True))\n",
    "    plt.xlabel('word')\n",
    "    plt.ylabel('frequency')\n",
    "    if logscale is True:\n",
    "        plt.yscale('log')\n",
    "        plt.ylabel('log(frequency)')\n",
    "    plt.title(f'Corpus-wide document-word frequency distribution ({title})')\n",
    "    plt.show()"
   ]
  },
  {
   "cell_type": "markdown",
   "id": "willing-material",
   "metadata": {},
   "source": [
    "### Tags"
   ]
  },
  {
   "cell_type": "code",
   "execution_count": 117,
   "id": "satisfied-april",
   "metadata": {},
   "outputs": [
    {
     "name": "stdout",
     "output_type": "stream",
     "text": [
      "CPU times: user 20.6 s, sys: 1.06 s, total: 21.6 s\n",
      "Wall time: 21.2 s\n"
     ]
    }
   ],
   "source": [
    "%%time\n",
    "df_tags, tag_terms = tf_vectorize(ctags_stem)"
   ]
  },
  {
   "cell_type": "code",
   "execution_count": 118,
   "id": "amino-anchor",
   "metadata": {},
   "outputs": [
    {
     "data": {
      "text/plain": [
       "(7302, 20079)"
      ]
     },
     "execution_count": 118,
     "metadata": {},
     "output_type": "execute_result"
    }
   ],
   "source": [
    "df_tags.shape"
   ]
  },
  {
   "cell_type": "code",
   "execution_count": 119,
   "id": "published-supply",
   "metadata": {
    "scrolled": true
   },
   "outputs": [
    {
     "data": {
      "image/png": "[encoded data removed]",
      "text/plain": [
       "<Figure size 432x288 with 1 Axes>"
      ]
     },
     "metadata": {
      "needs_background": "light"
     },
     "output_type": "display_data"
    }
   ],
   "source": [
    "plotWf(tag_terms, 'tags', logscale=True)"
   ]
  },
  {
   "cell_type": "code",
   "execution_count": 120,
   "id": "potential-violin",
   "metadata": {},
   "outputs": [
    {
     "data": {
      "image/png": "[encoded data removed]",
      "text/plain": [
       "<Figure size 432x288 with 1 Axes>"
      ]
     },
     "metadata": {
      "needs_background": "light"
     },
     "output_type": "display_data"
    }
   ],
   "source": [
    "plotDf(df_tags, 'tags', logscale=False)"
   ]
  },
  {
   "cell_type": "markdown",
   "id": "interpreted-hayes",
   "metadata": {},
   "source": [
    "#### Description"
   ]
  },
  {
   "cell_type": "code",
   "execution_count": 121,
   "id": "authorized-calibration",
   "metadata": {},
   "outputs": [
    {
     "name": "stdout",
     "output_type": "stream",
     "text": [
      "CPU times: user 56.7 s, sys: 1.97 s, total: 58.7 s\n",
      "Wall time: 58 s\n"
     ]
    }
   ],
   "source": [
    "%%time\n",
    "df_desc, desc_terms = tf_vectorize(cdesc_stem)"
   ]
  },
  {
   "cell_type": "code",
   "execution_count": 122,
   "id": "brave-guarantee",
   "metadata": {},
   "outputs": [
    {
     "data": {
      "text/plain": [
       "(7302, 39064)"
      ]
     },
     "execution_count": 122,
     "metadata": {},
     "output_type": "execute_result"
    }
   ],
   "source": [
    "df_desc.shape"
   ]
  },
  {
   "cell_type": "code",
   "execution_count": 123,
   "id": "laughing-disabled",
   "metadata": {},
   "outputs": [
    {
     "data": {
      "image/png": "[encoded data removed]",
      "text/plain": [
       "<Figure size 432x288 with 1 Axes>"
      ]
     },
     "metadata": {
      "needs_background": "light"
     },
     "output_type": "display_data"
    }
   ],
   "source": [
    "plotWf(desc_terms, 'description', logscale=True)"
   ]
  },
  {
   "cell_type": "code",
   "execution_count": 124,
   "id": "geological-occasions",
   "metadata": {},
   "outputs": [
    {
     "data": {
      "image/png": "[encoded data removed]",
      "text/plain": [
       "<Figure size 432x288 with 1 Axes>"
      ]
     },
     "metadata": {
      "needs_background": "light"
     },
     "output_type": "display_data"
    }
   ],
   "source": [
    "plotDf(df_desc, 'description', logscale=False)"
   ]
  },
  {
   "cell_type": "markdown",
   "id": "consecutive-antibody",
   "metadata": {},
   "source": [
    "#### Overlapping terms"
   ]
  },
  {
   "cell_type": "code",
   "execution_count": 125,
   "id": "novel-airfare",
   "metadata": {},
   "outputs": [
    {
     "name": "stdout",
     "output_type": "stream",
     "text": [
      "13189 overlapping terms\n",
      "45954 unique terms across tags & descriptions\n"
     ]
    }
   ],
   "source": [
    "overlap = set(tag_terms.keys()) & set(desc_terms.keys())\n",
    "union = set(tag_terms.keys()) | set(desc_terms.keys())\n",
    "print(f'{len(overlap)} overlapping terms')\n",
    "print(f'{len(union)} unique terms across tags & descriptions')"
   ]
  },
  {
   "cell_type": "markdown",
   "id": "understanding-toner",
   "metadata": {},
   "source": [
    "## Feature Importance"
   ]
  },
  {
   "cell_type": "code",
   "execution_count": 20,
   "id": "speaking-peripheral",
   "metadata": {
    "scrolled": true
   },
   "outputs": [
    {
     "name": "stdout",
     "output_type": "stream",
     "text": [
      "Number of unique youtube videos (US): 7302\n",
      "Number of unique channels: 2207\n",
      "Max # of unique categories for a channel: 7\n",
      "Average # of unique categories per channel: 1.0693248753964657\n"
     ]
    }
   ],
   "source": [
    "d = defaultdict(set) # channel_title: category_id\n",
    "for row in df_usd.itertuples():\n",
    "    d[row.channel_title].add(row.category_id)\n",
    "\n",
    "dl = [len(val) for val in d.values()]\n",
    "print(f'Number of unique youtube videos (US): {len(df_usd)}')\n",
    "print(f'Number of unique channels: {len(d)}')\n",
    "print(f'Max # of unique categories for a channel: {max(dl)}')\n",
    "print(f'Average # of unique categories per channel: {sum(dl) / len(dl)}')"
   ]
  },
  {
   "cell_type": "code",
   "execution_count": null,
   "id": "patient-dryer",
   "metadata": {},
   "outputs": [],
   "source": []
  }
 ],
 "metadata": {
  "kernelspec": {
   "display_name": "Python 3",
   "language": "python",
   "name": "python3"
  },
  "language_info": {
   "codemirror_mode": {
    "name": "ipython",
    "version": 3
   },
   "file_extension": ".py",
   "mimetype": "text/x-python",
   "name": "python",
   "nbconvert_exporter": "python",
   "pygments_lexer": "ipython3",
   "version": "3.8.5"
  }
 },
 "nbformat": 4,
 "nbformat_minor": 5
}
