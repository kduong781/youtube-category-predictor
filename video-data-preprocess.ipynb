{
 "cells": [
  {
   "cell_type": "code",
   "execution_count": 123,
   "id": "acute-landscape",
   "metadata": {},
   "outputs": [
    {
     "name": "stderr",
     "output_type": "stream",
     "text": [
      "[nltk_data] Downloading package punkt to /home/wardhuang/nltk_data...\n",
      "[nltk_data]   Package punkt is already up-to-date!\n"
     ]
    },
    {
     "data": {
      "text/plain": [
       "True"
      ]
     },
     "execution_count": 123,
     "metadata": {},
     "output_type": "execute_result"
    }
   ],
   "source": [
    "import pandas as pd\n",
    "import json\n",
    "import string\n",
    "import re\n",
    "import nltk\n",
    "from collections import defaultdict\n",
    "nltk.download('punkt')"
   ]
  },
  {
   "cell_type": "markdown",
   "id": "aggressive-estate",
   "metadata": {},
   "source": [
    "## Loading files into dataframes"
   ]
  },
  {
   "cell_type": "code",
   "execution_count": 13,
   "id": "previous-proceeding",
   "metadata": {
    "scrolled": false
   },
   "outputs": [
    {
     "data": {
      "text/html": [
       "<div>\n",
       "<style scoped>\n",
       "    .dataframe tbody tr th:only-of-type {\n",
       "        vertical-align: middle;\n",
       "    }\n",
       "\n",
       "    .dataframe tbody tr th {\n",
       "        vertical-align: top;\n",
       "    }\n",
       "\n",
       "    .dataframe thead th {\n",
       "        text-align: right;\n",
       "    }\n",
       "</style>\n",
       "<table border=\"1\" class=\"dataframe\">\n",
       "  <thead>\n",
       "    <tr style=\"text-align: right;\">\n",
       "      <th></th>\n",
       "      <th>video_id</th>\n",
       "      <th>trending_date</th>\n",
       "      <th>title</th>\n",
       "      <th>channel_title</th>\n",
       "      <th>category_id</th>\n",
       "      <th>publish_time</th>\n",
       "      <th>tags</th>\n",
       "      <th>views</th>\n",
       "      <th>likes</th>\n",
       "      <th>dislikes</th>\n",
       "      <th>comment_count</th>\n",
       "      <th>thumbnail_link</th>\n",
       "      <th>comments_disabled</th>\n",
       "      <th>ratings_disabled</th>\n",
       "      <th>video_error_or_removed</th>\n",
       "      <th>description</th>\n",
       "    </tr>\n",
       "  </thead>\n",
       "  <tbody>\n",
       "    <tr>\n",
       "      <th>0</th>\n",
       "      <td>2kyS6SvSYSE</td>\n",
       "      <td>17.14.11</td>\n",
       "      <td>WE WANT TO TALK ABOUT OUR MARRIAGE</td>\n",
       "      <td>CaseyNeistat</td>\n",
       "      <td>22</td>\n",
       "      <td>2017-11-13T17:13:01.000Z</td>\n",
       "      <td>SHANtell martin</td>\n",
       "      <td>748374</td>\n",
       "      <td>57527</td>\n",
       "      <td>2966</td>\n",
       "      <td>15954</td>\n",
       "      <td>https://i.ytimg.com/vi/2kyS6SvSYSE/default.jpg</td>\n",
       "      <td>False</td>\n",
       "      <td>False</td>\n",
       "      <td>False</td>\n",
       "      <td>SHANTELL'S CHANNEL - https://www.youtube.com/s...</td>\n",
       "    </tr>\n",
       "  </tbody>\n",
       "</table>\n",
       "</div>"
      ],
      "text/plain": [
       "      video_id trending_date                               title  \\\n",
       "0  2kyS6SvSYSE      17.14.11  WE WANT TO TALK ABOUT OUR MARRIAGE   \n",
       "\n",
       "  channel_title  category_id              publish_time             tags  \\\n",
       "0  CaseyNeistat           22  2017-11-13T17:13:01.000Z  SHANtell martin   \n",
       "\n",
       "    views  likes  dislikes  comment_count  \\\n",
       "0  748374  57527      2966          15954   \n",
       "\n",
       "                                   thumbnail_link  comments_disabled  \\\n",
       "0  https://i.ytimg.com/vi/2kyS6SvSYSE/default.jpg              False   \n",
       "\n",
       "   ratings_disabled  video_error_or_removed  \\\n",
       "0             False                   False   \n",
       "\n",
       "                                         description  \n",
       "0  SHANTELL'S CHANNEL - https://www.youtube.com/s...  "
      ]
     },
     "execution_count": 13,
     "metadata": {},
     "output_type": "execute_result"
    }
   ],
   "source": [
    "us_videos = pd.read_csv('./USvideos.csv')\n",
    "us_videos.head(1)"
   ]
  },
  {
   "cell_type": "code",
   "execution_count": 183,
   "id": "earned-characteristic",
   "metadata": {},
   "outputs": [
    {
     "data": {
      "text/plain": [
       "video_id                  40949\n",
       "trending_date             40949\n",
       "title                     40949\n",
       "channel_title             40949\n",
       "category_id               40949\n",
       "publish_time              40949\n",
       "tags                      40949\n",
       "views                     40949\n",
       "likes                     40949\n",
       "dislikes                  40949\n",
       "comment_count             40949\n",
       "thumbnail_link            40949\n",
       "comments_disabled         40949\n",
       "ratings_disabled          40949\n",
       "video_error_or_removed    40949\n",
       "description               40379\n",
       "dtype: int64"
      ]
     },
     "execution_count": 183,
     "metadata": {},
     "output_type": "execute_result"
    }
   ],
   "source": [
    "us_videos.count()"
   ]
  },
  {
   "cell_type": "markdown",
   "id": "organic-liabilities",
   "metadata": {},
   "source": [
    "Load the json categories into a python dictionary"
   ]
  },
  {
   "cell_type": "code",
   "execution_count": 21,
   "id": "suited-ethiopia",
   "metadata": {},
   "outputs": [
    {
     "data": {
      "text/html": [
       "<div>\n",
       "<style scoped>\n",
       "    .dataframe tbody tr th:only-of-type {\n",
       "        vertical-align: middle;\n",
       "    }\n",
       "\n",
       "    .dataframe tbody tr th {\n",
       "        vertical-align: top;\n",
       "    }\n",
       "\n",
       "    .dataframe thead th {\n",
       "        text-align: right;\n",
       "    }\n",
       "</style>\n",
       "<table border=\"1\" class=\"dataframe\">\n",
       "  <thead>\n",
       "    <tr style=\"text-align: right;\">\n",
       "      <th></th>\n",
       "      <th>kind</th>\n",
       "      <th>etag</th>\n",
       "      <th>id</th>\n",
       "      <th>snippet.channelId</th>\n",
       "      <th>snippet.title</th>\n",
       "      <th>snippet.assignable</th>\n",
       "    </tr>\n",
       "  </thead>\n",
       "  <tbody>\n",
       "    <tr>\n",
       "      <th>0</th>\n",
       "      <td>youtube#videoCategory</td>\n",
       "      <td>\"m2yskBQFythfE4irbTIeOgYYfBU/Xy1mB4_yLrHy_BmKm...</td>\n",
       "      <td>1</td>\n",
       "      <td>UCBR8-60-B28hp2BmDPdntcQ</td>\n",
       "      <td>Film &amp; Animation</td>\n",
       "      <td>True</td>\n",
       "    </tr>\n",
       "  </tbody>\n",
       "</table>\n",
       "</div>"
      ],
      "text/plain": [
       "                    kind                                               etag  \\\n",
       "0  youtube#videoCategory  \"m2yskBQFythfE4irbTIeOgYYfBU/Xy1mB4_yLrHy_BmKm...   \n",
       "\n",
       "  id         snippet.channelId     snippet.title  snippet.assignable  \n",
       "0  1  UCBR8-60-B28hp2BmDPdntcQ  Film & Animation                True  "
      ]
     },
     "execution_count": 21,
     "metadata": {},
     "output_type": "execute_result"
    }
   ],
   "source": [
    "cat_str = \"\" # the json string\n",
    "\n",
    "with open('./US_category_id.json', 'r') as f:\n",
    "    cat_str = f.read()\n",
    "    \n",
    "# python dictionary\n",
    "cat_obj = json.loads(cat_str)\n",
    "\n",
    "# array of dictionaries\n",
    "cats_arr = cat_obj['items']\n",
    "\n",
    "# dataframe\n",
    "us_cats = pd.json_normalize(cats_arr)\n",
    "\n",
    "us_cats.head(1)"
   ]
  },
  {
   "cell_type": "markdown",
   "id": "private-holocaust",
   "metadata": {},
   "source": [
    "## Select columns from us_videos\n",
    "\n",
    "We select the columns with identifying information, classification, and text descriptions"
   ]
  },
  {
   "cell_type": "code",
   "execution_count": 81,
   "id": "cellular-virginia",
   "metadata": {},
   "outputs": [
    {
     "data": {
      "text/html": [
       "<div>\n",
       "<style scoped>\n",
       "    .dataframe tbody tr th:only-of-type {\n",
       "        vertical-align: middle;\n",
       "    }\n",
       "\n",
       "    .dataframe tbody tr th {\n",
       "        vertical-align: top;\n",
       "    }\n",
       "\n",
       "    .dataframe thead th {\n",
       "        text-align: right;\n",
       "    }\n",
       "</style>\n",
       "<table border=\"1\" class=\"dataframe\">\n",
       "  <thead>\n",
       "    <tr style=\"text-align: right;\">\n",
       "      <th></th>\n",
       "      <th>video_id</th>\n",
       "      <th>title</th>\n",
       "      <th>channel_title</th>\n",
       "      <th>category_id</th>\n",
       "      <th>tags</th>\n",
       "      <th>description</th>\n",
       "    </tr>\n",
       "  </thead>\n",
       "  <tbody>\n",
       "    <tr>\n",
       "      <th>40948</th>\n",
       "      <td>ooyjaVdt-jA</td>\n",
       "      <td>Official Call of Duty®: Black Ops 4 — Multipla...</td>\n",
       "      <td>Call of Duty</td>\n",
       "      <td>20</td>\n",
       "      <td>call of duty|\"cod\"|\"activision\"|\"Black Ops 4\"</td>\n",
       "      <td>Call of Duty: Black Ops 4 Multiplayer raises t...</td>\n",
       "    </tr>\n",
       "  </tbody>\n",
       "</table>\n",
       "</div>"
      ],
      "text/plain": [
       "          video_id                                              title  \\\n",
       "40948  ooyjaVdt-jA  Official Call of Duty®: Black Ops 4 — Multipla...   \n",
       "\n",
       "      channel_title  category_id  \\\n",
       "40948  Call of Duty           20   \n",
       "\n",
       "                                                tags  \\\n",
       "40948  call of duty|\"cod\"|\"activision\"|\"Black Ops 4\"   \n",
       "\n",
       "                                             description  \n",
       "40948  Call of Duty: Black Ops 4 Multiplayer raises t...  "
      ]
     },
     "execution_count": 81,
     "metadata": {},
     "output_type": "execute_result"
    }
   ],
   "source": [
    "df_us = us_videos.loc[:,['video_id', 'title', 'channel_title', 'category_id', 'tags', 'description']]\n",
    "df_us.tail(1)"
   ]
  },
  {
   "cell_type": "markdown",
   "id": "widespread-directive",
   "metadata": {},
   "source": [
    "## Text Preprocessing"
   ]
  },
  {
   "cell_type": "code",
   "execution_count": 169,
   "id": "occasional-scholarship",
   "metadata": {},
   "outputs": [
    {
     "data": {
      "text/plain": [
       "['i', 'me', 'my', 'myself', 'we', 'our', 'ours', 'ourselves', 'you', \"you're\"]"
      ]
     },
     "execution_count": 169,
     "metadata": {},
     "output_type": "execute_result"
    }
   ],
   "source": [
    "from nltk.corpus import stopwords\n",
    "from nltk.stem.porter import PorterStemmer\n",
    "\n",
    "stopwords.words('english')[:10]"
   ]
  },
  {
   "cell_type": "markdown",
   "id": "incomplete-parks",
   "metadata": {},
   "source": [
    "#### Cleaning the tags"
   ]
  },
  {
   "cell_type": "code",
   "execution_count": 170,
   "id": "advanced-lawsuit",
   "metadata": {},
   "outputs": [
    {
     "data": {
      "text/plain": [
       "'!\"#$%&\\'()*+,-./:;<=>?@[\\\\]^_`{|}~'"
      ]
     },
     "execution_count": 170,
     "metadata": {},
     "output_type": "execute_result"
    }
   ],
   "source": [
    "string.punctuation"
   ]
  },
  {
   "cell_type": "code",
   "execution_count": 173,
   "id": "consistent-atlantic",
   "metadata": {},
   "outputs": [],
   "source": [
    "tags = df_us['tags']\n",
    "specials = r'[' + re.escape('\\'\"!()\\\\') + ']'\n",
    "\n",
    "en_stops = set(stopwords.words('english'))\n",
    "porter_stemmer = PorterStemmer()\n",
    "\n",
    "def clean_tags(s, stemming=True):\n",
    "    ss = s.replace('|', ' ')\n",
    "    ss = re.sub(specials, '', ss)\n",
    "    \n",
    "    words = ss.split(' ')\n",
    "    set_words = None\n",
    "    \n",
    "    words = [word.lower().strip() for word in words if word and word not in en_stops]\n",
    "    \n",
    "    if stemming:\n",
    "        set_words = set(map(porter_stemmer.stem, words))\n",
    "    else:\n",
    "        set_words = set(words)\n",
    "    \n",
    "    return ' '.join(set_words)\n",
    "\n",
    "ctags = tags.apply(clean_tags, stemming=False)\n",
    "ctags_stem = tags.apply(clean_tags, stemming=True)"
   ]
  },
  {
   "cell_type": "code",
   "execution_count": 174,
   "id": "intellectual-craps",
   "metadata": {},
   "outputs": [
    {
     "data": {
      "text/plain": [
       "'racist superman|\"rudy\"|\"mancuso\"|\"king\"|\"bach\"|\"racist\"|\"superman\"|\"love\"|\"rudy mancuso poo bear black white official music video\"|\"iphone x by pineapple\"|\"lelepons\"|\"hannahstocking\"|\"rudymancuso\"|\"inanna\"|\"anwar\"|\"sarkis\"|\"shots\"|\"shotsstudios\"|\"alesso\"|\"anitta\"|\"brazil\"|\"Getting My Driver\\'s License | Lele Pons\"'"
      ]
     },
     "execution_count": 174,
     "metadata": {},
     "output_type": "execute_result"
    }
   ],
   "source": [
    "tags[2]"
   ]
  },
  {
   "cell_type": "code",
   "execution_count": 175,
   "id": "institutional-armenia",
   "metadata": {},
   "outputs": [
    {
     "data": {
      "text/plain": [
       "'x racist anitta anwar rudymancuso shots inanna brazil license mancuso superman black shotsstudios pineapple poo sarkis lele music rudy hannahstocking official lelepons drivers alesso my love bear getting king iphone pons white video bach'"
      ]
     },
     "execution_count": 175,
     "metadata": {},
     "output_type": "execute_result"
    }
   ],
   "source": [
    "ctags[2]"
   ]
  },
  {
   "cell_type": "code",
   "execution_count": 176,
   "id": "directed-forest",
   "metadata": {},
   "outputs": [
    {
     "data": {
      "text/plain": [
       "'offici x racist pon anitta licens lelepon anwar rudymancuso inanna brazil shotsstudio driver mancuso superman black shot iphon poo lele music hannahstock alesso my love pineappl bear get king sarki white rudi video bach'"
      ]
     },
     "execution_count": 176,
     "metadata": {},
     "output_type": "execute_result"
    }
   ],
   "source": [
    "ctags_stem[2]"
   ]
  },
  {
   "cell_type": "markdown",
   "id": "overhead-madison",
   "metadata": {},
   "source": [
    "#### Cleaning the description"
   ]
  },
  {
   "cell_type": "code",
   "execution_count": 179,
   "id": "consolidated-token",
   "metadata": {
    "scrolled": true
   },
   "outputs": [
    {
     "data": {
      "text/plain": [
       "\"One year after the presidential election, John Oliver discusses what we've learned so far and enlists our catheter cowboy to teach Donald Trump what he hasn't.  Connect with Last Week Tonight online...  Subscribe to the Last Week Tonight YouTube channel for more almost news as it almost happens: www.youtube.com/user/LastWeekTonight  Find Last Week Tonight on Facebook like your mom would: http://Facebook.com/LastWeekTonight  Follow us on Twitter for news about jokes and jokes about news: http://Twitter.com/LastWeekTonight  Visit our official site for all that other stuff at once: http://www.hbo.com/lastweektonight\""
      ]
     },
     "execution_count": 179,
     "metadata": {},
     "output_type": "execute_result"
    }
   ],
   "source": [
    "df_us.loc[1,'description'].replace('\\\\n', ' ')"
   ]
  },
  {
   "cell_type": "code",
   "execution_count": 181,
   "id": "necessary-monitoring",
   "metadata": {},
   "outputs": [
    {
     "data": {
      "text/plain": [
       "['http://Facebook.com', 'http://Twitter.com', 'http://www.hbo.com']"
      ]
     },
     "execution_count": 181,
     "metadata": {},
     "output_type": "execute_result"
    }
   ],
   "source": [
    "urls = re.findall('https?://(?:[-\\w.]|(?:%[\\da-fA-F]{2}))+', df_us.loc[1,'description'].replace('\\\\n', ' '))\n",
    "urls"
   ]
  },
  {
   "cell_type": "markdown",
   "id": "understanding-toner",
   "metadata": {},
   "source": [
    "## Feature Importance"
   ]
  },
  {
   "cell_type": "code",
   "execution_count": 73,
   "id": "speaking-peripheral",
   "metadata": {
    "scrolled": true
   },
   "outputs": [
    {
     "name": "stdout",
     "output_type": "stream",
     "text": [
      "Size of the dataset (US): 40949\n",
      "Number of unique channels: 2207\n",
      "Max # of unique categories for a channel: 7\n",
      "Average # of unique categories per channel: 1.0693248753964657\n"
     ]
    }
   ],
   "source": [
    "d = defaultdict(set) # channel_title: category_id\n",
    "for row in df_us.itertuples():\n",
    "    d[row.channel_title].add(row.category_id)\n",
    "\n",
    "dl = [len(val) for val in d.values()]\n",
    "print(f'Size of the dataset (US): {len(df_us)}')\n",
    "print(f'Number of unique channels: {len(d)}')\n",
    "print(f'Max # of unique categories for a channel: {max(dl)}')\n",
    "print(f'Average # of unique categories per channel: {sum(dl) / len(dl)}')"
   ]
  },
  {
   "cell_type": "code",
   "execution_count": null,
   "id": "patient-dryer",
   "metadata": {},
   "outputs": [],
   "source": []
  }
 ],
 "metadata": {
  "kernelspec": {
   "display_name": "Python 3",
   "language": "python",
   "name": "python3"
  },
  "language_info": {
   "codemirror_mode": {
    "name": "ipython",
    "version": 3
   },
   "file_extension": ".py",
   "mimetype": "text/x-python",
   "name": "python",
   "nbconvert_exporter": "python",
   "pygments_lexer": "ipython3",
   "version": "3.8.5"
  }
 },
 "nbformat": 4,
 "nbformat_minor": 5
}
