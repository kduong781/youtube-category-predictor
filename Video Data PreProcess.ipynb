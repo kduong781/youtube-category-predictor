{
 "cells": [
  {
   "cell_type": "code",
   "execution_count": 1,
   "metadata": {},
   "outputs": [],
   "source": [
    "import json"
   ]
  },
  {
   "cell_type": "code",
   "execution_count": 2,
   "metadata": {},
   "outputs": [],
   "source": [
    "f = open(\"US_category_id.json\",)"
   ]
  },
  {
   "cell_type": "code",
   "execution_count": 3,
   "metadata": {},
   "outputs": [],
   "source": [
    "data = json.load(f)"
   ]
  },
  {
   "cell_type": "code",
   "execution_count": 4,
   "metadata": {},
   "outputs": [],
   "source": [
    "categoryMap = {}\n",
    "for i in data[\"items\"]:\n",
    "    categoryMap[i[\"id\"]]  = i[\"snippet\"][\"title\"]"
   ]
  },
  {
   "cell_type": "code",
   "execution_count": 5,
   "metadata": {},
   "outputs": [],
   "source": [
    "import pandas as pd"
   ]
  },
  {
   "cell_type": "code",
   "execution_count": 6,
   "metadata": {},
   "outputs": [],
   "source": [
    "df = pd.read_csv('USvideos.csv', usecols=['title','title','channel_title', 'tags', 'description','category_id'])"
   ]
  },
  {
   "cell_type": "code",
   "execution_count": 7,
   "metadata": {},
   "outputs": [],
   "source": [
    "num_rows = df.count()[0]"
   ]
  },
  {
   "cell_type": "code",
   "execution_count": 10,
   "metadata": {},
   "outputs": [],
   "source": [
    "videoData = []\n",
    "for i in range(num_rows):\n",
    "    current_vid = df.iloc[i]\n",
    "    row = []\n",
    "    channel_title = preProcess(current_vid[\"channel_title\"], 0)\n",
    "    title = preProcess(current_vid[\"title\"], 4)\n",
    "    tags = preProcess(current_vid[\"tags\"], 4)\n",
    "    description = preProcess(current_vid[\"description\"], 4)\n",
    "    category = categoryMap[str(current_vid[\"category_id\"])]\n",
    "    \n",
    "    row.append(channel_title)\n",
    "    row.append(title)\n",
    "    row.append(tags)\n",
    "    row.append(description)\n",
    "    row.append(category)\n",
    "    videoData.append(row)\n"
   ]
  },
  {
   "cell_type": "code",
   "execution_count": 9,
   "metadata": {},
   "outputs": [],
   "source": [
    "def preProcess(data, length):\n",
    "    dataArr = str(data).strip().split(\" \")\n",
    "    for i in  dataArr:\n",
    "        if len(i) < length:\n",
    "            dataArr.remove(i)\n",
    "    dataArr = \";\".join(dataArr)\n",
    "    return dataArr"
   ]
  },
  {
   "cell_type": "code",
   "execution_count": 135,
   "metadata": {},
   "outputs": [],
   "source": [
    "import csv  \n",
    "\n",
    "header = ['Video Title', 'Channel Title', 'Tags', 'Description', 'Category']\n",
    "\n",
    "with open('video_data.csv', 'w', encoding='UTF8', newline='') as f:\n",
    "    writer = csv.writer(f)\n",
    "\n",
    "    # write the header\n",
    "    writer.writerow(header)\n",
    "    writer.writerows(videoData)"
   ]
  },
  {
   "cell_type": "code",
   "execution_count": null,
   "metadata": {},
   "outputs": [],
   "source": []
  }
 ],
 "metadata": {
  "kernelspec": {
   "display_name": "Python 3",
   "language": "python",
   "name": "python3"
  },
  "language_info": {
   "codemirror_mode": {
    "name": "ipython",
    "version": 3
   },
   "file_extension": ".py",
   "mimetype": "text/x-python",
   "name": "python",
   "nbconvert_exporter": "python",
   "pygments_lexer": "ipython3",
   "version": "3.8.5"
  }
 },
 "nbformat": 4,
 "nbformat_minor": 4
}
