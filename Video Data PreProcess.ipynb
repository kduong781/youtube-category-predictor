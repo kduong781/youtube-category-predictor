{
 "cells": [
  {
   "cell_type": "code",
   "execution_count": 1,
   "metadata": {},
   "outputs": [],
   "source": [
    "import json"
   ]
  },
  {
   "cell_type": "code",
   "execution_count": 12,
   "metadata": {},
   "outputs": [],
   "source": [
    "f = open(\"US_category_id.json\",)"
   ]
  },
  {
   "cell_type": "code",
   "execution_count": 13,
   "metadata": {},
   "outputs": [],
   "source": [
    "data = json.load(f)"
   ]
  },
  {
   "cell_type": "code",
   "execution_count": 14,
   "metadata": {},
   "outputs": [],
   "source": [
    "categoryMap = {}\n",
    "for i in data[\"items\"]:\n",
    "    categoryMap[i[\"id\"]]  = i[\"snippet\"][\"title\"]"
   ]
  },
  {
   "cell_type": "code",
   "execution_count": 15,
   "metadata": {},
   "outputs": [],
   "source": [
    "import pandas as pd"
   ]
  },
  {
   "cell_type": "code",
   "execution_count": 43,
   "metadata": {},
   "outputs": [],
   "source": [
    "df = pd.read_csv('USvideos.csv', usecols=['title','title','channel_title', 'tags', 'description','category_id'])\n",
    "df.drop_duplicates(subset=[\"title\",\"channel_title\",\"tags\",\"description\"], inplace=True)"
   ]
  },
  {
   "cell_type": "code",
   "execution_count": 44,
   "metadata": {},
   "outputs": [],
   "source": [
    "num_rows = df.count()[0]"
   ]
  },
  {
   "cell_type": "code",
   "execution_count": 45,
   "metadata": {},
   "outputs": [],
   "source": [
    "videoData = []\n",
    "for i in range(num_rows):\n",
    "    current_vid = df.iloc[i]\n",
    "    row = []\n",
    "    channel_title = preProcess(current_vid[\"channel_title\"], 0)\n",
    "    title = preProcess(current_vid[\"title\"], 4)\n",
    "    tags = preProcess(current_vid[\"tags\"], 4)\n",
    "    description = preProcess(current_vid[\"description\"], 4)\n",
    "    category = categoryMap[str(current_vid[\"category_id\"])]\n",
    "    \n",
    "    row.append(channel_title)\n",
    "    row.append(title)\n",
    "    row.append(tags)\n",
    "    row.append(description)\n",
    "    row.append(category)\n",
    "    videoData.append(row)\n"
   ]
  },
  {
   "cell_type": "code",
   "execution_count": 46,
   "metadata": {},
   "outputs": [],
   "source": [
    "import re\n",
    "\n",
    "def preProcess(data, length):\n",
    "    data =  re.sub('[^a-zA-Z0-9 \\n\\...]', ' ', str(data))\n",
    "    string_encode = str(data).encode(\"ascii\", \"ignore\")\n",
    "    string_decode = string_encode.decode()\n",
    "    data = string_decode\n",
    "    dataArr = str(data).strip().split(\" \")\n",
    "    for i in  reversed(range(len(dataArr))):\n",
    "        dataArr[i] = str(dataArr[i]).lower()\n",
    "        if len(dataArr[i]) == 0:\n",
    "            del dataArr[i]\n",
    "        elif len(dataArr[i]) < length:\n",
    "            del dataArr[i]\n",
    "    dataArr = \";\".join(dataArr)\n",
    "    return dataArr"
   ]
  },
  {
   "cell_type": "code",
   "execution_count": 47,
   "metadata": {},
   "outputs": [],
   "source": [
    "import csv  \n",
    "\n",
    "header = ['Video Title', 'Channel Title', 'Tags', 'Description', 'Category']\n",
    "\n",
    "with open('video_data.csv', 'w', encoding='UTF8', newline='') as f:\n",
    "    writer = csv.writer(f)\n",
    "\n",
    "    # write the header\n",
    "    writer.writerow(header)\n",
    "    writer.writerows(videoData)"
   ]
  },
  {
   "cell_type": "code",
   "execution_count": 1,
   "metadata": {},
   "outputs": [],
   "source": [
    "###############################"
   ]
  },
  {
   "cell_type": "code",
   "execution_count": 131,
   "metadata": {},
   "outputs": [],
   "source": [
    "import numpy as np\n",
    "import pandas as pd\n",
    "\n",
    "from sklearn.feature_extraction.text import CountVectorizer\n",
    "from sklearn.model_selection import train_test_split\n",
    "from sklearn.naive_bayes import MultinomialNB\n",
    "\n",
    "from sklearn.metrics import f1_score\n",
    "\n",
    "file = 'video_data.csv'\n",
    "data = pd.read_csv(file)"
   ]
  },
  {
   "cell_type": "code",
   "execution_count": 132,
   "metadata": {},
   "outputs": [],
   "source": [
    "data[\"All\"] = data[\"Tags\"] + \";\" + data[\"Video Title\"] + \";\" +  data[\"Description\"] + \";\" +  data[\"Channel Title\"]"
   ]
  },
  {
   "cell_type": "code",
   "execution_count": 133,
   "metadata": {},
   "outputs": [],
   "source": [
    "vectorizer = CountVectorizer(stop_words=\"english\")"
   ]
  },
  {
   "cell_type": "code",
   "execution_count": 134,
   "metadata": {},
   "outputs": [],
   "source": [
    "all_features = vectorizer.fit_transform(data['All'].fillna(' '))"
   ]
  },
  {
   "cell_type": "code",
   "execution_count": 135,
   "metadata": {},
   "outputs": [],
   "source": [
    "X_train, X_test, y_train, y_test = train_test_split(all_features, data[\"Category\"], test_size=0.3, random_state=7)"
   ]
  },
  {
   "cell_type": "code",
   "execution_count": 136,
   "metadata": {},
   "outputs": [],
   "source": [
    "classifier = MultinomialNB()"
   ]
  },
  {
   "cell_type": "code",
   "execution_count": 137,
   "metadata": {},
   "outputs": [
    {
     "data": {
      "text/plain": [
       "MultinomialNB()"
      ]
     },
     "execution_count": 137,
     "metadata": {},
     "output_type": "execute_result"
    }
   ],
   "source": [
    "classifier.fit(X_train, y_train)"
   ]
  },
  {
   "cell_type": "code",
   "execution_count": 138,
   "metadata": {},
   "outputs": [],
   "source": [
    "correct = (y_test == classifier.predict(X_test)).sum()"
   ]
  },
  {
   "cell_type": "code",
   "execution_count": 139,
   "metadata": {},
   "outputs": [],
   "source": [
    "incorrect = y_test.size - correct"
   ]
  },
  {
   "cell_type": "code",
   "execution_count": 140,
   "metadata": {},
   "outputs": [],
   "source": [
    "accuracy = incorrect / (correct + incorrect)\n",
    "accuracy = 1 - accuracy"
   ]
  },
  {
   "cell_type": "code",
   "execution_count": 141,
   "metadata": {},
   "outputs": [],
   "source": [
    "f1 = f1_score(y_test, classifier.predict(X_test),average='weighted')"
   ]
  },
  {
   "cell_type": "code",
   "execution_count": 142,
   "metadata": {},
   "outputs": [
    {
     "name": "stdout",
     "output_type": "stream",
     "text": [
      "Accuracy: 0.7914951989026063\n",
      "F1 Score: 0.7831375359263314\n"
     ]
    }
   ],
   "source": [
    "print(\"Accuracy: \" + str(accuracy))\n",
    "print(\"F1 Score: \" + str(f1))"
   ]
  },
  {
   "cell_type": "code",
   "execution_count": 143,
   "metadata": {},
   "outputs": [],
   "source": [
    "#########################################"
   ]
  },
  {
   "cell_type": "code",
   "execution_count": 144,
   "metadata": {},
   "outputs": [],
   "source": [
    "def checkCategory(example):\n",
    "    emptyArr = []\n",
    "    emptyArr.append(example)\n",
    "    doc_term_matrix = vectorizer.transform(emptyArr)\n",
    "    classifier.predict(doc_term_matrix)\n",
    "    class_prob_list = classifier.predict_proba(doc_term_matrix)[0]\n",
    "    map = {}\n",
    "    for i in range(len(class_prob_list)):\n",
    "        map[str(classifier.classes_[i])] = class_prob_list[i]\n",
    "    sort_classes = sorted(map.items(), key=lambda x: x[1], reverse=True)\n",
    "    \n",
    "    print(example + \"is most likely category: \" + str(sort_classes[0]))\n",
    "    print(\" \")\n",
    "    print(\"Probabilities\")\n",
    "    for i in sort_classes:\n",
    "        print(i[0], i[1])"
   ]
  },
  {
   "cell_type": "code",
   "execution_count": 129,
   "metadata": {},
   "outputs": [
    {
     "name": "stdout",
     "output_type": "stream",
     "text": [
      "Lebronis most likely category: ('Sports', 0.6977095931353297)\n",
      " \n",
      "Probabilities\n",
      "Sports 0.6977095931353297\n",
      "Entertainment 0.16183396865491845\n",
      "People & Blogs 0.0668531460966478\n",
      "Comedy 0.027118780866376844\n",
      "News & Politics 0.016775116346600498\n",
      "Music 0.007527671194691132\n",
      "Howto & Style 0.005113078972453804\n",
      "Science & Technology 0.00443513399759504\n",
      "Film & Animation 0.0036876458963477935\n",
      "Education 0.0030033012953389285\n",
      "Pets & Animals 0.0019416398858813266\n",
      "Gaming 0.0016659108693151325\n",
      "Autos & Vehicles 0.0010459914971282197\n",
      "Travel & Events 0.0008455590535212425\n",
      "Nonprofits & Activism 0.0002517910010789659\n",
      "Shows 0.00019167123677504667\n"
     ]
    }
   ],
   "source": [
    "checkCategory(\"Lebron\")"
   ]
  },
  {
   "cell_type": "code",
   "execution_count": null,
   "metadata": {},
   "outputs": [],
   "source": []
  }
 ],
 "metadata": {
  "kernelspec": {
   "display_name": "Python 3",
   "language": "python",
   "name": "python3"
  },
  "language_info": {
   "codemirror_mode": {
    "name": "ipython",
    "version": 3
   },
   "file_extension": ".py",
   "mimetype": "text/x-python",
   "name": "python",
   "nbconvert_exporter": "python",
   "pygments_lexer": "ipython3",
   "version": "3.8.5"
  }
 },
 "nbformat": 4,
 "nbformat_minor": 4
}
